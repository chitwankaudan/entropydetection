{
 "cells": [
  {
   "cell_type": "code",
   "execution_count": 7,
   "metadata": {},
   "outputs": [],
   "source": [
    "import sys\n",
    "import numpy as np\n",
    "import pandas as pd\n",
    "import matplotlib.pyplot as plt\n",
    "import seaborn as sns\n",
    "from scipy import signal\n",
    "from glob import glob"
   ]
  },
  {
   "cell_type": "code",
   "execution_count": 131,
   "metadata": {},
   "outputs": [
    {
     "data": {
      "text/plain": [
       "0\n",
       "sigma         20.928035265142732\n",
       "dSNR                         5.0\n",
       "HstackSize               1000000\n",
       "NeedleSize                250000\n",
       "NeedleType                  sine\n",
       "StartSam                  429080\n",
       "Name: 1, dtype: object"
      ]
     },
     "execution_count": 131,
     "metadata": {},
     "output_type": "execute_result"
    }
   ],
   "source": [
    "new = pd.read_csv('haystacks/2018-03-21_190104__0.txt', header=None, squeeze=True, index_col=0)\n",
    "#pd.read_csv('foo.txt', header=None, squeeze=True, index_col=0))\n",
    "new"
   ]
  },
  {
   "cell_type": "code",
   "execution_count": 8,
   "metadata": {
    "scrolled": false
   },
   "outputs": [],
   "source": [
    "results = pd.read_csv('results/5db_results.txt', index_col=0)"
   ]
  },
  {
   "cell_type": "code",
   "execution_count": 14,
   "metadata": {
    "scrolled": true
   },
   "outputs": [
    {
     "data": {
      "text/plain": [
       "5.0"
      ]
     },
     "execution_count": 14,
     "metadata": {},
     "output_type": "execute_result"
    }
   ],
   "source": [
    "results['dSNR'].mean()"
   ]
  },
  {
   "cell_type": "code",
   "execution_count": 116,
   "metadata": {},
   "outputs": [
    {
     "data": {
      "text/plain": [
       "'FF8D628F224E5B02'"
      ]
     },
     "execution_count": 116,
     "metadata": {},
     "output_type": "execute_result"
    }
   ],
   "source": [
    "str(b'FF8D628F224E5B02')[2:18]"
   ]
  },
  {
   "cell_type": "code",
   "execution_count": 117,
   "metadata": {},
   "outputs": [
    {
     "data": {
      "text/plain": [
       "16583259407243934729"
      ]
     },
     "execution_count": 117,
     "metadata": {},
     "output_type": "execute_result"
    }
   ],
   "source": [
    "int(results.iloc[3]['entropy_hex'][2:18], 16)"
   ]
  },
  {
   "cell_type": "code",
   "execution_count": 68,
   "metadata": {},
   "outputs": [
    {
     "data": {
      "text/plain": [
       "\"b'FF761EA3B8946445'\""
      ]
     },
     "execution_count": 68,
     "metadata": {},
     "output_type": "execute_result"
    }
   ],
   "source": [
    "results.iloc[3]['entropy_hex']"
   ]
  },
  {
   "cell_type": "code",
   "execution_count": 69,
   "metadata": {},
   "outputs": [
    {
     "data": {
      "text/plain": [
       "18442174945410551279"
      ]
     },
     "execution_count": 69,
     "metadata": {},
     "output_type": "execute_result"
    }
   ],
   "source": [
    "int('FFEFC466EACE0DEF', 16)"
   ]
  },
  {
   "cell_type": "code",
   "execution_count": 70,
   "metadata": {},
   "outputs": [
    {
     "data": {
      "text/plain": [
       "[18414482818283232002,\n",
       " 18441902684556062436,\n",
       " 18419746186416034161,\n",
       " 18407934215448716357,\n",
       " 18406196764640764821,\n",
       " 18437549508020773375,\n",
       " 18440505866585223240,\n",
       " 18442017109329010364,\n",
       " 18413143654363282743,\n",
       " 18438098002916495580,\n",
       " 18442091682252146835,\n",
       " 18441902632435499182,\n",
       " 18442070392199942470,\n",
       " 18441879110629174864,\n",
       " 18441835464957541983,\n",
       " 18442118587724113168,\n",
       " 18442174945410551279,\n",
       " 18442119401667060988,\n",
       " 18442214320914293343,\n",
       " 18441757790534024810]"
      ]
     },
     "execution_count": 70,
     "metadata": {},
     "output_type": "execute_result"
    }
   ],
   "source": [
    "[int(i[2:18], 16) for i in results['entropy_hex']]"
   ]
  },
  {
   "cell_type": "code",
   "execution_count": 129,
   "metadata": {},
   "outputs": [
    {
     "data": {
      "text/plain": [
       "(array([1., 1., 0., 0., 0., 0., 0., 0., 0., 1., 0., 1., 0., 0., 0., 0., 0.,\n",
       "        0., 0., 1., 0., 0., 0., 0., 0., 0., 0., 0., 0., 0., 0., 0., 0., 0.,\n",
       "        0., 0., 0., 0., 0., 0., 0., 0., 0., 0., 1., 1., 0., 0., 1., 2.]),\n",
       " array([0.89563882, 0.89746092, 0.89928302, 0.90110512, 0.90292722,\n",
       "        0.90474932, 0.90657142, 0.90839352, 0.91021563, 0.91203773,\n",
       "        0.91385983, 0.91568193, 0.91750403, 0.91932613, 0.92114823,\n",
       "        0.92297033, 0.92479243, 0.92661453, 0.92843663, 0.93025873,\n",
       "        0.93208083, 0.93390293, 0.93572503, 0.93754713, 0.93936923,\n",
       "        0.94119133, 0.94301343, 0.94483553, 0.94665763, 0.94847973,\n",
       "        0.95030183, 0.95212393, 0.95394604, 0.95576814, 0.95759024,\n",
       "        0.95941234, 0.96123444, 0.96305654, 0.96487864, 0.96670074,\n",
       "        0.96852284, 0.97034494, 0.97216704, 0.97398914, 0.97581124,\n",
       "        0.97763334, 0.97945544, 0.98127754, 0.98309964, 0.98492174,\n",
       "        0.98674384]),\n",
       " <a list of 50 Patch objects>)"
      ]
     },
     "execution_count": 129,
     "metadata": {},
     "output_type": "execute_result"
    },
    {
     "data": {
      "image/png": "[encoded data removed]",
      "text/plain": [
       "<matplotlib.figure.Figure at 0x1c1b0dc630>"
      ]
     },
     "metadata": {},
     "output_type": "display_data"
    }
   ],
   "source": [
    "%timeit\n",
    "plt.hist(results.loc[results['NeedleType'] == 'sine', 'norm_entropy'], bins=50, color='g')"
   ]
  },
  {
   "cell_type": "code",
   "execution_count": 134,
   "metadata": {},
   "outputs": [
    {
     "data": {
      "image/png": "[encoded data removed]",
      "text/plain": [
       "<matplotlib.figure.Figure at 0x10d060b70>"
      ]
     },
     "metadata": {},
     "output_type": "display_data"
    }
   ],
   "source": [
    "plt.hist(results[results.NeedleType == 'sine']['norm_entropy'], bins=50, color='g');"
   ]
  },
  {
   "cell_type": "code",
   "execution_count": 135,
   "metadata": {},
   "outputs": [
    {
     "data": {
      "text/html": [
       "<div>\n",
       "<style>\n",
       "    .dataframe thead tr:only-child th {\n",
       "        text-align: right;\n",
       "    }\n",
       "\n",
       "    .dataframe thead th {\n",
       "        text-align: left;\n",
       "    }\n",
       "\n",
       "    .dataframe tbody tr th {\n",
       "        vertical-align: top;\n",
       "    }\n",
       "</style>\n",
       "<table border=\"1\" class=\"dataframe\">\n",
       "  <thead>\n",
       "    <tr style=\"text-align: right;\">\n",
       "      <th></th>\n",
       "      <th>count</th>\n",
       "      <th>mean</th>\n",
       "      <th>std</th>\n",
       "      <th>min</th>\n",
       "      <th>25%</th>\n",
       "      <th>50%</th>\n",
       "      <th>75%</th>\n",
       "      <th>max</th>\n",
       "    </tr>\n",
       "    <tr>\n",
       "      <th>NeedleType</th>\n",
       "      <th></th>\n",
       "      <th></th>\n",
       "      <th></th>\n",
       "      <th></th>\n",
       "      <th></th>\n",
       "      <th></th>\n",
       "      <th></th>\n",
       "      <th></th>\n",
       "    </tr>\n",
       "  </thead>\n",
       "  <tbody>\n",
       "    <tr>\n",
       "      <th>noise</th>\n",
       "      <td>10.0</td>\n",
       "      <td>0.999744</td>\n",
       "      <td>0.000009</td>\n",
       "      <td>0.999730</td>\n",
       "      <td>0.999737</td>\n",
       "      <td>0.999747</td>\n",
       "      <td>0.999749</td>\n",
       "      <td>0.999754</td>\n",
       "    </tr>\n",
       "    <tr>\n",
       "      <th>sine</th>\n",
       "      <td>10.0</td>\n",
       "      <td>0.998884</td>\n",
       "      <td>0.000819</td>\n",
       "      <td>0.997802</td>\n",
       "      <td>0.998197</td>\n",
       "      <td>0.999019</td>\n",
       "      <td>0.999629</td>\n",
       "      <td>0.999744</td>\n",
       "    </tr>\n",
       "  </tbody>\n",
       "</table>\n",
       "</div>"
      ],
      "text/plain": [
       "            count      mean       std       min       25%       50%       75%  \\\n",
       "NeedleType                                                                      \n",
       "noise        10.0  0.999744  0.000009  0.999730  0.999737  0.999747  0.999749   \n",
       "sine         10.0  0.998884  0.000819  0.997802  0.998197  0.999019  0.999629   \n",
       "\n",
       "                 max  \n",
       "NeedleType            \n",
       "noise       0.999754  \n",
       "sine        0.999744  "
      ]
     },
     "execution_count": 135,
     "metadata": {},
     "output_type": "execute_result"
    }
   ],
   "source": [
    "results.groupby('NeedleType')['norm_entropy'].describe()"
   ]
  },
  {
   "cell_type": "code",
   "execution_count": 130,
   "metadata": {},
   "outputs": [
    {
     "data": {
      "image/png": "[encoded data removed]",
      "text/plain": [
       "<matplotlib.figure.Figure at 0x1c1b196be0>"
      ]
     },
     "metadata": {},
     "output_type": "display_data"
    }
   ],
   "source": [
    "plt.hist(results[results.NeedleType == 'noise']['norm_entropy'], bins=50);"
   ]
  },
  {
   "cell_type": "code",
   "execution_count": 17,
   "metadata": {},
   "outputs": [
    {
     "data": {
      "text/html": [
       "<div>\n",
       "<style>\n",
       "    .dataframe thead tr:only-child th {\n",
       "        text-align: right;\n",
       "    }\n",
       "\n",
       "    .dataframe thead th {\n",
       "        text-align: left;\n",
       "    }\n",
       "\n",
       "    .dataframe tbody tr th {\n",
       "        vertical-align: top;\n",
       "    }\n",
       "</style>\n",
       "<table border=\"1\" class=\"dataframe\">\n",
       "  <thead>\n",
       "    <tr style=\"text-align: right;\">\n",
       "      <th></th>\n",
       "      <th>HstackSize</th>\n",
       "      <th>NeedleSize</th>\n",
       "      <th>StartSam</th>\n",
       "      <th>dSNR</th>\n",
       "      <th>entropy</th>\n",
       "      <th>sigma</th>\n",
       "    </tr>\n",
       "  </thead>\n",
       "  <tbody>\n",
       "    <tr>\n",
       "      <th>count</th>\n",
       "      <td>1000.0</td>\n",
       "      <td>1000.0</td>\n",
       "      <td>1000.0</td>\n",
       "      <td>1000.0</td>\n",
       "      <td>2000.0000</td>\n",
       "      <td>2.000000e+03</td>\n",
       "    </tr>\n",
       "    <tr>\n",
       "      <th>mean</th>\n",
       "      <td>1000000.0</td>\n",
       "      <td>250000.0</td>\n",
       "      <td>0.0</td>\n",
       "      <td>5.0</td>\n",
       "      <td>317045.1325</td>\n",
       "      <td>2.092804e+01</td>\n",
       "    </tr>\n",
       "    <tr>\n",
       "      <th>std</th>\n",
       "      <td>0.0</td>\n",
       "      <td>0.0</td>\n",
       "      <td>0.0</td>\n",
       "      <td>0.0</td>\n",
       "      <td>287813.8730</td>\n",
       "      <td>1.030545e-13</td>\n",
       "    </tr>\n",
       "    <tr>\n",
       "      <th>min</th>\n",
       "      <td>1000000.0</td>\n",
       "      <td>250000.0</td>\n",
       "      <td>0.0</td>\n",
       "      <td>5.0</td>\n",
       "      <td>0.0000</td>\n",
       "      <td>2.092804e+01</td>\n",
       "    </tr>\n",
       "    <tr>\n",
       "      <th>25%</th>\n",
       "      <td>1000000.0</td>\n",
       "      <td>250000.0</td>\n",
       "      <td>0.0</td>\n",
       "      <td>5.0</td>\n",
       "      <td>92669.5000</td>\n",
       "      <td>2.092804e+01</td>\n",
       "    </tr>\n",
       "    <tr>\n",
       "      <th>50%</th>\n",
       "      <td>1000000.0</td>\n",
       "      <td>250000.0</td>\n",
       "      <td>0.0</td>\n",
       "      <td>5.0</td>\n",
       "      <td>202099.5000</td>\n",
       "      <td>2.092804e+01</td>\n",
       "    </tr>\n",
       "    <tr>\n",
       "      <th>75%</th>\n",
       "      <td>1000000.0</td>\n",
       "      <td>250000.0</td>\n",
       "      <td>0.0</td>\n",
       "      <td>5.0</td>\n",
       "      <td>541028.7500</td>\n",
       "      <td>2.092804e+01</td>\n",
       "    </tr>\n",
       "    <tr>\n",
       "      <th>max</th>\n",
       "      <td>1000000.0</td>\n",
       "      <td>250000.0</td>\n",
       "      <td>0.0</td>\n",
       "      <td>5.0</td>\n",
       "      <td>995102.0000</td>\n",
       "      <td>2.092804e+01</td>\n",
       "    </tr>\n",
       "  </tbody>\n",
       "</table>\n",
       "</div>"
      ],
      "text/plain": [
       "       HstackSize  NeedleSize  StartSam    dSNR      entropy         sigma\n",
       "count      1000.0      1000.0    1000.0  1000.0    2000.0000  2.000000e+03\n",
       "mean    1000000.0    250000.0       0.0     5.0  317045.1325  2.092804e+01\n",
       "std           0.0         0.0       0.0     0.0  287813.8730  1.030545e-13\n",
       "min     1000000.0    250000.0       0.0     5.0       0.0000  2.092804e+01\n",
       "25%     1000000.0    250000.0       0.0     5.0   92669.5000  2.092804e+01\n",
       "50%     1000000.0    250000.0       0.0     5.0  202099.5000  2.092804e+01\n",
       "75%     1000000.0    250000.0       0.0     5.0  541028.7500  2.092804e+01\n",
       "max     1000000.0    250000.0       0.0     5.0  995102.0000  2.092804e+01"
      ]
     },
     "execution_count": 17,
     "metadata": {},
     "output_type": "execute_result"
    }
   ],
   "source": [
    "results.describe()"
   ]
  },
  {
   "cell_type": "code",
   "execution_count": 140,
   "metadata": {},
   "outputs": [
    {
     "data": {
      "image/png": "[encoded data removed]",
      "text/plain": [
       "<matplotlib.figure.Figure at 0x1c1b281da0>"
      ]
     },
     "metadata": {},
     "output_type": "display_data"
    }
   ],
   "source": [
    "results.groupby('NeedleType')['norm_entropy'].hist(bins=100);"
   ]
  },
  {
   "cell_type": "code",
   "execution_count": null,
   "metadata": {},
   "outputs": [],
   "source": []
  },
  {
   "cell_type": "code",
   "execution_count": null,
   "metadata": {},
   "outputs": [],
   "source": []
  },
  {
   "cell_type": "code",
   "execution_count": null,
   "metadata": {},
   "outputs": [],
   "source": []
  },
  {
   "cell_type": "code",
   "execution_count": null,
   "metadata": {},
   "outputs": [],
   "source": []
  },
  {
   "cell_type": "code",
   "execution_count": null,
   "metadata": {},
   "outputs": [],
   "source": []
  },
  {
   "cell_type": "code",
   "execution_count": null,
   "metadata": {},
   "outputs": [],
   "source": []
  },
  {
   "cell_type": "code",
   "execution_count": 19,
   "metadata": {},
   "outputs": [
    {
     "data": {
      "text/plain": [
       "array([0, 2, 3, 4, 4, 5, 6, 7, 8, 9])"
      ]
     },
     "execution_count": 19,
     "metadata": {},
     "output_type": "execute_result"
    }
   ],
   "source": [
    "x = np.arange(10)\n",
    "y = np.repeat(1, 3)\n",
    "sig_start = 1\n",
    "x[sig_start:sig_start+3] += y\n",
    "x"
   ]
  },
  {
   "cell_type": "code",
   "execution_count": null,
   "metadata": {},
   "outputs": [],
   "source": [
    "def run_scan(datafiles, txtfiles):\n",
    "    for data, txt in zip(datafiles, txtfiles):\n",
    "        output = run([\"agnentro/tmp/agnentroscan\", \"i\", data, \"10\", \"5000\", \"1\", \"3\"], stdout=PIPE)\n",
    "        m = pd.read_csv(txt, header=None).T\n",
    "        m.columns = m.iloc[0]\n",
    "        m = m.reindex(m.index.drop(0))\n",
    "        m['start_window'] = output.stdout.decode('utf-8')[0:16]\n",
    "        m['entropy'] = int(output.stdout.decode('utf-8')[17:34], 16)\n",
    "        m.to_csv(txt)"
   ]
  },
  {
   "cell_type": "code",
   "execution_count": 4,
   "metadata": {},
   "outputs": [],
   "source": [
    "def plot_entropies(txtfiles):\n",
    "    df_list = [pd.read_csv(file) for file in txtfiles]\n",
    "    big_df = pd.concat(df_list)\n",
    "    return big_df"
   ]
  },
  {
   "cell_type": "code",
   "execution_count": 5,
   "metadata": {},
   "outputs": [
    {
     "ename": "NameError",
     "evalue": "name 'all_txt' is not defined",
     "output_type": "error",
     "traceback": [
      "\u001b[0;31m---------------------------------------------------------------------------\u001b[0m",
      "\u001b[0;31mNameError\u001b[0m                                 Traceback (most recent call last)",
      "\u001b[0;32m<ipython-input-5-7652981ec9b8>\u001b[0m in \u001b[0;36m<module>\u001b[0;34m()\u001b[0m\n\u001b[0;32m----> 1\u001b[0;31m \u001b[0mpd\u001b[0m\u001b[0;34m.\u001b[0m\u001b[0mread_csv\u001b[0m\u001b[0;34m(\u001b[0m\u001b[0mall_txt\u001b[0m\u001b[0;34m[\u001b[0m\u001b[0;36m0\u001b[0m\u001b[0;34m]\u001b[0m\u001b[0;34m)\u001b[0m\u001b[0;34m\u001b[0m\u001b[0m\n\u001b[0m",
      "\u001b[0;31mNameError\u001b[0m: name 'all_txt' is not defined"
     ]
    }
   ],
   "source": [
    "pd.read_csv(all_txt[0])"
   ]
  },
  {
   "cell_type": "code",
   "execution_count": 6,
   "metadata": {},
   "outputs": [
    {
     "ename": "NameError",
     "evalue": "name 'all_txt' is not defined",
     "output_type": "error",
     "traceback": [
      "\u001b[0;31m---------------------------------------------------------------------------\u001b[0m",
      "\u001b[0;31mNameError\u001b[0m                                 Traceback (most recent call last)",
      "\u001b[0;32m<ipython-input-6-a3f12d328f63>\u001b[0m in \u001b[0;36m<module>\u001b[0;34m()\u001b[0m\n\u001b[0;32m----> 1\u001b[0;31m \u001b[0mplot_entropies\u001b[0m\u001b[0;34m(\u001b[0m\u001b[0mall_txt\u001b[0m\u001b[0;34m)\u001b[0m\u001b[0;34m\u001b[0m\u001b[0m\n\u001b[0m",
      "\u001b[0;31mNameError\u001b[0m: name 'all_txt' is not defined"
     ]
    }
   ],
   "source": [
    "plot_entropies(all_txt)"
   ]
  },
  {
   "cell_type": "code",
   "execution_count": 86,
   "metadata": {},
   "outputs": [],
   "source": [
    "all_dat = sorted(glob('./haystacks/*.dat'))\n",
    "all_txt = sorted(glob('./haystacks/*.txt'))\n",
    "scan.run_scan(all_dat, all_txt)"
   ]
  },
  {
   "cell_type": "code",
   "execution_count": null,
   "metadata": {},
   "outputs": [],
   "source": [
    "    #plot_entropies(textfiles)"
   ]
  },
  {
   "cell_type": "code",
   "execution_count": 79,
   "metadata": {},
   "outputs": [
    {
     "data": {
      "text/html": [
       "<div>\n",
       "<style>\n",
       "    .dataframe thead tr:only-child th {\n",
       "        text-align: right;\n",
       "    }\n",
       "\n",
       "    .dataframe thead th {\n",
       "        text-align: left;\n",
       "    }\n",
       "\n",
       "    .dataframe tbody tr th {\n",
       "        vertical-align: top;\n",
       "    }\n",
       "</style>\n",
       "<table border=\"1\" class=\"dataframe\">\n",
       "  <thead>\n",
       "    <tr style=\"text-align: right;\">\n",
       "      <th></th>\n",
       "      <th>dSNR</th>\n",
       "      <th>HstackSize</th>\n",
       "      <th>NeedleSize</th>\n",
       "      <th>NeedleType</th>\n",
       "      <th>StartSam</th>\n",
       "    </tr>\n",
       "  </thead>\n",
       "  <tbody>\n",
       "    <tr>\n",
       "      <th>1</th>\n",
       "      <td>-30.236528831502945</td>\n",
       "      <td>1000000</td>\n",
       "      <td>250000</td>\n",
       "      <td>sine</td>\n",
       "      <td>283359</td>\n",
       "    </tr>\n",
       "  </tbody>\n",
       "</table>\n",
       "</div>"
      ],
      "text/plain": [
       "0                 dSNR HstackSize NeedleSize NeedleType StartSam\n",
       "1  -30.236528831502945    1000000     250000       sine   283359"
      ]
     },
     "execution_count": 79,
     "metadata": {},
     "output_type": "execute_result"
    }
   ],
   "source": [
    "g = pd.read_csv(\"./haystacks/2018-03-18_130701__1.txt\", header=None).T\n",
    "g.columns = g.iloc[0]\n",
    "g = g.reindex(g.index.drop(0))\n",
    "g"
   ]
  },
  {
   "cell_type": "code",
   "execution_count": 66,
   "metadata": {},
   "outputs": [
    {
     "data": {
      "text/html": [
       "<div>\n",
       "<style>\n",
       "    .dataframe thead tr:only-child th {\n",
       "        text-align: right;\n",
       "    }\n",
       "\n",
       "    .dataframe thead th {\n",
       "        text-align: left;\n",
       "    }\n",
       "\n",
       "    .dataframe tbody tr th {\n",
       "        vertical-align: top;\n",
       "    }\n",
       "</style>\n",
       "<table border=\"1\" class=\"dataframe\">\n",
       "  <thead>\n",
       "    <tr style=\"text-align: right;\">\n",
       "      <th></th>\n",
       "      <th>dSNR</th>\n",
       "      <th>HstackSize</th>\n",
       "      <th>NeedleSize</th>\n",
       "      <th>NeedleType</th>\n",
       "      <th>StartSam</th>\n",
       "      <th>result</th>\n",
       "    </tr>\n",
       "  </thead>\n",
       "  <tbody>\n",
       "    <tr>\n",
       "      <th>1</th>\n",
       "      <td>-30.236528831502945</td>\n",
       "      <td>1000000</td>\n",
       "      <td>250000</td>\n",
       "      <td>sine</td>\n",
       "      <td>283359</td>\n",
       "      <td>4</td>\n",
       "    </tr>\n",
       "  </tbody>\n",
       "</table>\n",
       "</div>"
      ],
      "text/plain": [
       "0                 dSNR HstackSize NeedleSize NeedleType StartSam  result\n",
       "1  -30.236528831502945    1000000     250000       sine   283359       4"
      ]
     },
     "execution_count": 66,
     "metadata": {},
     "output_type": "execute_result"
    }
   ],
   "source": [
    "m = pd.read_csv(\"./haystacks/2018-03-18_130701__1.txt\", header=None)\n",
    "m = m.T\n",
    "m.columns = m.iloc[0]\n",
    "m = m.reindex(m.index.drop(0))\n",
    "m['result'] = 4\n",
    "m\n",
    "#m.to_csv('newfile.txt')"
   ]
  },
  {
   "cell_type": "code",
   "execution_count": 69,
   "metadata": {},
   "outputs": [
    {
     "data": {
      "text/html": [
       "<div>\n",
       "<style>\n",
       "    .dataframe thead tr:only-child th {\n",
       "        text-align: right;\n",
       "    }\n",
       "\n",
       "    .dataframe thead th {\n",
       "        text-align: left;\n",
       "    }\n",
       "\n",
       "    .dataframe tbody tr th {\n",
       "        vertical-align: top;\n",
       "    }\n",
       "</style>\n",
       "<table border=\"1\" class=\"dataframe\">\n",
       "  <thead>\n",
       "    <tr style=\"text-align: right;\">\n",
       "      <th></th>\n",
       "      <th>dSNR</th>\n",
       "      <th>HstackSize</th>\n",
       "      <th>NeedleSize</th>\n",
       "      <th>NeedleType</th>\n",
       "      <th>StartSam</th>\n",
       "      <th>result</th>\n",
       "    </tr>\n",
       "  </thead>\n",
       "  <tbody>\n",
       "    <tr>\n",
       "      <th>1</th>\n",
       "      <td>-30.236529</td>\n",
       "      <td>1000000</td>\n",
       "      <td>250000</td>\n",
       "      <td>sine</td>\n",
       "      <td>283359</td>\n",
       "      <td>4</td>\n",
       "    </tr>\n",
       "  </tbody>\n",
       "</table>\n",
       "</div>"
      ],
      "text/plain": [
       "        dSNR  HstackSize  NeedleSize NeedleType  StartSam  result\n",
       "1 -30.236529     1000000      250000       sine    283359       4"
      ]
     },
     "execution_count": 69,
     "metadata": {},
     "output_type": "execute_result"
    }
   ],
   "source": [
    "q = pd.read_csv(\"newfile.txt\", index_col=0)\n",
    "q"
   ]
  },
  {
   "cell_type": "code",
   "execution_count": 53,
   "metadata": {},
   "outputs": [
    {
     "ename": "SyntaxError",
     "evalue": "invalid syntax (<ipython-input-53-506bb4b1089a>, line 2)",
     "output_type": "error",
     "traceback": [
      "\u001b[0;36m  File \u001b[0;32m\"<ipython-input-53-506bb4b1089a>\"\u001b[0;36m, line \u001b[0;32m2\u001b[0m\n\u001b[0;31m    n.append(['Result':[4]])\u001b[0m\n\u001b[0m                      ^\u001b[0m\n\u001b[0;31mSyntaxError\u001b[0m\u001b[0;31m:\u001b[0m invalid syntax\n"
     ]
    }
   ],
   "source": [
    "n = pd.read_csv(\"./haystacks/2018-03-18_130701__1.txt\", header=None)\n",
    "n.append(['Result':[4]])"
   ]
  },
  {
   "cell_type": "code",
   "execution_count": 36,
   "metadata": {},
   "outputs": [
    {
     "data": {
      "text/html": [
       "<div>\n",
       "<style>\n",
       "    .dataframe thead tr:only-child th {\n",
       "        text-align: right;\n",
       "    }\n",
       "\n",
       "    .dataframe thead th {\n",
       "        text-align: left;\n",
       "    }\n",
       "\n",
       "    .dataframe tbody tr th {\n",
       "        vertical-align: top;\n",
       "    }\n",
       "</style>\n",
       "<table border=\"1\" class=\"dataframe\">\n",
       "  <thead>\n",
       "    <tr style=\"text-align: right;\">\n",
       "      <th></th>\n",
       "      <th>0</th>\n",
       "      <th>1</th>\n",
       "    </tr>\n",
       "  </thead>\n",
       "  <tbody>\n",
       "    <tr>\n",
       "      <th>0</th>\n",
       "      <td>0</td>\n",
       "      <td>-30.236528831502945</td>\n",
       "    </tr>\n",
       "    <tr>\n",
       "      <th>1</th>\n",
       "      <td>1</td>\n",
       "      <td>1000000</td>\n",
       "    </tr>\n",
       "    <tr>\n",
       "      <th>2</th>\n",
       "      <td>2</td>\n",
       "      <td>250000</td>\n",
       "    </tr>\n",
       "    <tr>\n",
       "      <th>3</th>\n",
       "      <td>3</td>\n",
       "      <td>sine</td>\n",
       "    </tr>\n",
       "    <tr>\n",
       "      <th>4</th>\n",
       "      <td>4</td>\n",
       "      <td>283359</td>\n",
       "    </tr>\n",
       "  </tbody>\n",
       "</table>\n",
       "</div>"
      ],
      "text/plain": [
       "   0                    1\n",
       "0  0  -30.236528831502945\n",
       "1  1              1000000\n",
       "2  2               250000\n",
       "3  3                 sine\n",
       "4  4               283359"
      ]
     },
     "execution_count": 36,
     "metadata": {},
     "output_type": "execute_result"
    }
   ],
   "source": [
    "q = pd.read_csv('file.txt', header=None)\n",
    "q"
   ]
  },
  {
   "cell_type": "code",
   "execution_count": 30,
   "metadata": {},
   "outputs": [
    {
     "data": {
      "text/plain": [
       "0          dSNR\n",
       "1    HstackSize\n",
       "2    NeedleSize\n",
       "3    NeedleType\n",
       "4      StartSam\n",
       "Name: 0, dtype: object"
      ]
     },
     "execution_count": 30,
     "metadata": {},
     "output_type": "execute_result"
    }
   ],
   "source": [
    "m[0]"
   ]
  },
  {
   "cell_type": "code",
   "execution_count": 22,
   "metadata": {},
   "outputs": [
    {
     "data": {
      "text/html": [
       "<div>\n",
       "<style>\n",
       "    .dataframe thead tr:only-child th {\n",
       "        text-align: right;\n",
       "    }\n",
       "\n",
       "    .dataframe thead th {\n",
       "        text-align: left;\n",
       "    }\n",
       "\n",
       "    .dataframe tbody tr th {\n",
       "        vertical-align: top;\n",
       "    }\n",
       "</style>\n",
       "<table border=\"1\" class=\"dataframe\">\n",
       "  <thead>\n",
       "    <tr>\n",
       "      <th></th>\n",
       "      <th colspan=\"5\" halign=\"left\">Vals</th>\n",
       "      <th colspan=\"5\" halign=\"left\">Vals1</th>\n",
       "    </tr>\n",
       "    <tr>\n",
       "      <th>Attr</th>\n",
       "      <th>HstackSize</th>\n",
       "      <th>NeedleSize</th>\n",
       "      <th>NeedleType</th>\n",
       "      <th>StartSam</th>\n",
       "      <th>dSNR</th>\n",
       "      <th>HstackSize</th>\n",
       "      <th>NeedleSize</th>\n",
       "      <th>NeedleType</th>\n",
       "      <th>StartSam</th>\n",
       "      <th>dSNR</th>\n",
       "    </tr>\n",
       "  </thead>\n",
       "  <tbody>\n",
       "    <tr>\n",
       "      <th>0</th>\n",
       "      <td>None</td>\n",
       "      <td>None</td>\n",
       "      <td>None</td>\n",
       "      <td>None</td>\n",
       "      <td>-30.236528831502945</td>\n",
       "      <td>None</td>\n",
       "      <td>None</td>\n",
       "      <td>None</td>\n",
       "      <td>None</td>\n",
       "      <td>-20</td>\n",
       "    </tr>\n",
       "    <tr>\n",
       "      <th>1</th>\n",
       "      <td>1000000</td>\n",
       "      <td>None</td>\n",
       "      <td>None</td>\n",
       "      <td>None</td>\n",
       "      <td>None</td>\n",
       "      <td>100</td>\n",
       "      <td>None</td>\n",
       "      <td>None</td>\n",
       "      <td>None</td>\n",
       "      <td>None</td>\n",
       "    </tr>\n",
       "    <tr>\n",
       "      <th>2</th>\n",
       "      <td>None</td>\n",
       "      <td>250000</td>\n",
       "      <td>None</td>\n",
       "      <td>None</td>\n",
       "      <td>None</td>\n",
       "      <td>None</td>\n",
       "      <td>25</td>\n",
       "      <td>None</td>\n",
       "      <td>None</td>\n",
       "      <td>None</td>\n",
       "    </tr>\n",
       "    <tr>\n",
       "      <th>3</th>\n",
       "      <td>None</td>\n",
       "      <td>None</td>\n",
       "      <td>sine</td>\n",
       "      <td>None</td>\n",
       "      <td>None</td>\n",
       "      <td>None</td>\n",
       "      <td>None</td>\n",
       "      <td>sine</td>\n",
       "      <td>None</td>\n",
       "      <td>None</td>\n",
       "    </tr>\n",
       "    <tr>\n",
       "      <th>4</th>\n",
       "      <td>None</td>\n",
       "      <td>None</td>\n",
       "      <td>None</td>\n",
       "      <td>283359</td>\n",
       "      <td>None</td>\n",
       "      <td>None</td>\n",
       "      <td>None</td>\n",
       "      <td>None</td>\n",
       "      <td>25</td>\n",
       "      <td>None</td>\n",
       "    </tr>\n",
       "  </tbody>\n",
       "</table>\n",
       "</div>"
      ],
      "text/plain": [
       "           Vals                                                      \\\n",
       "Attr HstackSize NeedleSize NeedleType StartSam                 dSNR   \n",
       "0          None       None       None     None  -30.236528831502945   \n",
       "1       1000000       None       None     None                 None   \n",
       "2          None     250000       None     None                 None   \n",
       "3          None       None       sine     None                 None   \n",
       "4          None       None       None   283359                 None   \n",
       "\n",
       "          Vals1                                       \n",
       "Attr HstackSize NeedleSize NeedleType StartSam  dSNR  \n",
       "0          None       None       None     None   -20  \n",
       "1           100       None       None     None  None  \n",
       "2          None         25       None     None  None  \n",
       "3          None       None       sine     None  None  \n",
       "4          None       None       None       25  None  "
      ]
     },
     "execution_count": 22,
     "metadata": {},
     "output_type": "execute_result"
    }
   ],
   "source": [
    "m.pivot(index = m.columns[, columns=m[0])"
   ]
  },
  {
   "cell_type": "code",
   "execution_count": null,
   "metadata": {},
   "outputs": [],
   "source": [
    "#loads binary file\n",
    "output_file = open(\"signal.dat\",\"rb\")\n",
    "totsig = np.load(output_file)\n",
    "output_file.close()"
   ]
  },
  {
   "cell_type": "code",
   "execution_count": null,
   "metadata": {},
   "outputs": [],
   "source": [
    "%load_ext watermark\n",
    "%watermark"
   ]
  },
  {
   "cell_type": "code",
   "execution_count": null,
   "metadata": {},
   "outputs": [],
   "source": [
    "\n",
    "totsig = noise[:, 0]\n"
   ]
  },
  {
   "cell_type": "code",
   "execution_count": null,
   "metadata": {},
   "outputs": [],
   "source": [
    "np.float(30)"
   ]
  },
  {
   "cell_type": "code",
   "execution_count": null,
   "metadata": {},
   "outputs": [],
   "source": [
    "noise[:,0].mean()"
   ]
  },
  {
   "cell_type": "code",
   "execution_count": 137,
   "metadata": {},
   "outputs": [],
   "source": [
    "dSNR = 29.18\n",
    "\n",
    "sigma = 100*pow(3+pow(10,dSNR/np.float(20)),-1)\n",
    "#guass = np.random.normal(0, scale=sigma, size=1000)"
   ]
  },
  {
   "cell_type": "code",
   "execution_count": 138,
   "metadata": {},
   "outputs": [
    {
     "data": {
      "text/plain": [
       "3.147228862966468"
      ]
     },
     "execution_count": 138,
     "metadata": {},
     "output_type": "execute_result"
    }
   ],
   "source": [
    "sigma"
   ]
  },
  {
   "cell_type": "code",
   "execution_count": 139,
   "metadata": {},
   "outputs": [],
   "source": [
    "output_file = open('guass.dat', \"wb\")\n",
    "np.save(output_file, guass.astype(np.int8))\n",
    "output_file.close()"
   ]
  },
  {
   "cell_type": "code",
   "execution_count": 140,
   "metadata": {},
   "outputs": [],
   "source": [
    "input_file = open('guass.dat',\"rb\")\n",
    "quant_guass = np.load(input_file)\n",
    "input_file.close()"
   ]
  },
  {
   "cell_type": "code",
   "execution_count": 141,
   "metadata": {},
   "outputs": [
    {
     "data": {
      "image/png": "[encoded data removed]",
      "text/plain": [
       "<matplotlib.figure.Figure at 0x1c168c0f98>"
      ]
     },
     "metadata": {},
     "output_type": "display_data"
    }
   ],
   "source": [
    "plt.hist(quant_guass, bins=50);"
   ]
  },
  {
   "cell_type": "code",
   "execution_count": null,
   "metadata": {
    "scrolled": false
   },
   "outputs": [],
   "source": [
    "fig, axs = plt.subplots(ncols=3, figsize=[20, 7])\n",
    "#axs[0].hist(totsig, bins=501\n",
    "axs[0].hist(quant_guass,  lw=2, fc=(1, 0.7, .2, 0.5), bins=10)\n",
    "\n",
    "f, t, Sxx = signal.spectrogram(totsig)\n",
    "axs[1].pcolormesh(t, f, Sxx)\n",
    "\n",
    "axs[2].plot(totsig)\n",
    "axs[2].plot(guass, color = 'orange', alpha=0.5)\n",
    "\n",
    "plt.show()\n"
   ]
  },
  {
   "cell_type": "code",
   "execution_count": null,
   "metadata": {},
   "outputs": [],
   "source": [
    "#Creating noise\n",
    "SigSize = 200\n",
    "nSig = 100\n",
    "dSNR = np.repeat(30, nSig)\n",
    "sigma = 100*pow(3+pow(10,dSNR/20.),-1)\n",
    "noise = np.random.normal(0,sigma, (1000, 100))"
   ]
  },
  {
   "cell_type": "code",
   "execution_count": null,
   "metadata": {},
   "outputs": [],
   "source": [
    "dSNR=(1, 15)\n",
    "n=10\n",
    "TotSize=1000"
   ]
  },
  {
   "cell_type": "code",
   "execution_count": null,
   "metadata": {},
   "outputs": [],
   "source": [
    "dSNR[1]"
   ]
  },
  {
   "cell_type": "code",
   "execution_count": null,
   "metadata": {},
   "outputs": [],
   "source": [
    "dSNR = np.random.uniform(low=dSNR[0], high=dSNR[1], size=n)\n",
    "sigma = 100*pow(3+pow(10,dSNR/20.),-1)\n",
    "\n",
    "#Creating noise matrix\n",
    "signal = np.random.normal(0,sigma, size=(TotSize, n))\n",
    "sigma"
   ]
  },
  {
   "cell_type": "code",
   "execution_count": null,
   "metadata": {},
   "outputs": [],
   "source": [
    "signal.shape"
   ]
  },
  {
   "cell_type": "code",
   "execution_count": null,
   "metadata": {},
   "outputs": [],
   "source": [
    "zero.shape"
   ]
  },
  {
   "cell_type": "code",
   "execution_count": 142,
   "metadata": {},
   "outputs": [
    {
     "name": "stdout",
     "output_type": "stream",
     "text": [
      "7.02 s ± 364 ms per loop (mean ± std. dev. of 7 runs, 1 loop each)\n"
     ]
    }
   ],
   "source": [
    "%%timeit\n",
    "np.random.seed(121)\n",
    "\n",
    "#Defining/computing variables\n",
    "nSig = 100\n",
    "TotSize = 1000000\n",
    "SigSize = 250000\n",
    "dSNR = np.repeat(20, nSig)\n",
    "sigma = 100*pow(3+pow(10,dSNR/20.),-1)\n",
    "\n",
    "#Creating noise matrix\n",
    "noise = np.random.normal(0,sigma, (TotSize, nSig))\n",
    "\n",
    "#Creating injected signal matrix\n",
    "w = np.arange(SigSize)\n",
    "w.shape\n",
    "w = w.reshape(SigSize,1)\n",
    "\n",
    "uni_mul = np.random.uniform(size=(1, nSig))\n",
    "uni_add = np.repeat([np.random.uniform(size=nSig)], SigSize).reshape(nSig,SigSize).T\n",
    "                            \n",
    "y = sigma*pow(10,dSNR/20)*np.sin(2*np.pi*((w@uni_mul) + uni_add))\n",
    "\n",
    "#Adding each signal at the correct place within the noise matrix\n",
    "LastStartR= (TotSize-SigSize)/TotSize\n",
    "StartR = np.random.uniform(0, LastStartR, size=nSig)\n",
    "StartSam = np.round((StartR*TotSize).astype(float)).astype(int)\n",
    "\n",
    "for sig in np.arange(nSig):\n",
    "    noise[:,sig][StartSam[sig]:StartSam[sig]+SigSize] = y[0:SigSize, sig]"
   ]
  },
  {
   "cell_type": "code",
   "execution_count": null,
   "metadata": {},
   "outputs": [],
   "source": [
    "StartSam.shape"
   ]
  },
  {
   "cell_type": "code",
   "execution_count": null,
   "metadata": {},
   "outputs": [],
   "source": [
    "noise.shape"
   ]
  },
  {
   "cell_type": "code",
   "execution_count": null,
   "metadata": {},
   "outputs": [],
   "source": [
    "plt.plot(noise[:, 40])"
   ]
  },
  {
   "cell_type": "code",
   "execution_count": null,
   "metadata": {},
   "outputs": [],
   "source": [
    "#Creating signal\n",
    "np.random.seed(111)\n",
    "SigSize = 200\n",
    "nSig = 100\n",
    "dSNR = np.repeat(30, nSig)\n",
    "sigma = 100*pow(3+pow(10,dSNR/20.),-1)\n",
    "\n",
    "w = np.arange(SigSize)\n",
    "w.shape\n",
    "w = w.reshape(SigSize,1)\n",
    "\n",
    "uni_mul = np.random.uniform(size=(1, nSig))\n",
    "uni_add = np.repeat([np.random.uniform(size=nSig)], SigSize).reshape(nSig,SigSize).T\n",
    "                            \n",
    "y = sigma*pow(10,dSNR/20)*np.sin(2*np.pi*((w@uni_mul) + uni_add))"
   ]
  },
  {
   "cell_type": "code",
   "execution_count": null,
   "metadata": {},
   "outputs": [],
   "source": [
    "y.shape"
   ]
  },
  {
   "cell_type": "code",
   "execution_count": null,
   "metadata": {},
   "outputs": [],
   "source": [
    "plt.plot(y[0:200, 0]);"
   ]
  },
  {
   "cell_type": "code",
   "execution_count": null,
   "metadata": {},
   "outputs": [],
   "source": [
    "np.random.seed(111)\n",
    "dSNR1=30\n",
    "nSigSam1=200\n",
    "x = sigma*pow(10,dSNR1/20)*np.sin(2*np.pi*(np.random.uniform()*np.arange(nSigSam1) + np.random.uniform()))\n",
    "\n",
    "plt.plot(x);"
   ]
  },
  {
   "cell_type": "code",
   "execution_count": null,
   "metadata": {},
   "outputs": [],
   "source": [
    "np.random.seed(111)\n",
    "x[0:200]"
   ]
  },
  {
   "cell_type": "code",
   "execution_count": null,
   "metadata": {},
   "outputs": [],
   "source": [
    "sig = np.zeros(np.array([10,2]))"
   ]
  },
  {
   "cell_type": "code",
   "execution_count": null,
   "metadata": {},
   "outputs": [],
   "source": [
    "sig\n"
   ]
  },
  {
   "cell_type": "code",
   "execution_count": null,
   "metadata": {},
   "outputs": [],
   "source": [
    "start = np.array([2, 4])\n",
    "end = np.array([6, 9])"
   ]
  },
  {
   "cell_type": "code",
   "execution_count": null,
   "metadata": {},
   "outputs": [],
   "source": [
    "sig[start:end]"
   ]
  },
  {
   "cell_type": "code",
   "execution_count": null,
   "metadata": {},
   "outputs": [],
   "source": [
    "import pandas as pd\n",
    "pd.Timestamp.today()"
   ]
  },
  {
   "cell_type": "code",
   "execution_count": null,
   "metadata": {},
   "outputs": [],
   "source": [
    "'signals/[' + str(1) + ']_' + str(time.date()) + '_' + str(time.time())"
   ]
  },
  {
   "cell_type": "code",
   "execution_count": null,
   "metadata": {},
   "outputs": [],
   "source": [
    "time = pd.Timestamp.today()\n",
    "index = np.arange(10000)"
   ]
  },
  {
   "cell_type": "code",
   "execution_count": null,
   "metadata": {},
   "outputs": [],
   "source": [
    "time = pd.Timestamp.today()\n",
    "for sig_index in np.arange(n):\n",
    "    '(' + str(sig_index) ') ' + str(time)\n",
    "    "
   ]
  },
  {
   "cell_type": "code",
   "execution_count": null,
   "metadata": {},
   "outputs": [],
   "source": [
    "'signals/(' + str(1) + ') ' + str(time)"
   ]
  },
  {
   "cell_type": "code",
   "execution_count": null,
   "metadata": {},
   "outputs": [],
   "source": [
    "zer = np.zeros(shape=(5,10))"
   ]
  },
  {
   "cell_type": "code",
   "execution_count": null,
   "metadata": {},
   "outputs": [],
   "source": [
    "qSNR = np.random.uniform(0, 10, size=10)\n"
   ]
  },
  {
   "cell_type": "code",
   "execution_count": null,
   "metadata": {},
   "outputs": [],
   "source": [
    "np.random.seed(111)\n",
    "dSNR = np.random.uniform(0, 10, size=10)\n",
    "metadata = pd.DataFrame()\n",
    "metadata['dSNR'] = pd.Series(dSNR)\n",
    "metadata['qSNR'] = pd.Series(qSNR)\n",
    "print(metadata.iloc[1])"
   ]
  },
  {
   "cell_type": "code",
   "execution_count": null,
   "metadata": {},
   "outputs": [],
   "source": [
    "metadata.iloc[1].to_pickle('random.txt')"
   ]
  },
  {
   "cell_type": "code",
   "execution_count": null,
   "metadata": {},
   "outputs": [],
   "source": [
    "\n",
    "x = pd.read_pickle('random.txt')"
   ]
  },
  {
   "cell_type": "code",
   "execution_count": null,
   "metadata": {},
   "outputs": [],
   "source": [
    "x.index"
   ]
  },
  {
   "cell_type": "code",
   "execution_count": null,
   "metadata": {},
   "outputs": [],
   "source": [
    "df = pd.DataFrame(t)\n",
    "df"
   ]
  },
  {
   "cell_type": "code",
   "execution_count": null,
   "metadata": {},
   "outputs": [],
   "source": [
    "pd.DataFrame([dSNR, qSNR ] )"
   ]
  },
  {
   "cell_type": "code",
   "execution_count": null,
   "metadata": {},
   "outputs": [],
   "source": [
    "metadata = pd.DataFrame()\n",
    "metadata['dSNR'] = pd.Series(dSNR)\n",
    "metadata = pd.DataFrame()\n",
    "metadata['dSNR'] = pd.Series(dSNR)\n",
    "metadata"
   ]
  },
  {
   "cell_type": "code",
   "execution_count": null,
   "metadata": {},
   "outputs": [],
   "source": [
    "metadata"
   ]
  },
  {
   "cell_type": "code",
   "execution_count": null,
   "metadata": {},
   "outputs": [],
   "source": []
  }
 ],
 "metadata": {
  "kernelspec": {
   "display_name": "Python 3",
   "language": "python",
   "name": "python3"
  },
  "language_info": {
   "codemirror_mode": {
    "name": "ipython",
    "version": 3
   },
   "file_extension": ".py",
   "mimetype": "text/x-python",
   "name": "python",
   "nbconvert_exporter": "python",
   "pygments_lexer": "ipython3",
   "version": "3.6.1"
  }
 },
 "nbformat": 4,
 "nbformat_minor": 2
}
