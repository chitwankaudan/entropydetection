{
 "cells": [
  {
   "cell_type": "code",
   "execution_count": 1,
   "metadata": {},
   "outputs": [],
   "source": [
    "import sys\n",
    "import numpy as np\n",
    "import pandas as pd\n",
    "import matplotlib.pyplot as plt\n",
    "import seaborn as sns\n",
    "from scipy import signal\n",
    "from glob import glob\n"
   ]
  },
  {
   "cell_type": "code",
   "execution_count": 29,
   "metadata": {},
   "outputs": [],
   "source": [
    "f = open('guassian.zrb', 'rb')\n",
    "f.seek(32)\n",
    "x = np.fromfile(f, dtype='uint8')"
   ]
  },
  {
   "cell_type": "code",
   "execution_count": 30,
   "metadata": {},
   "outputs": [
    {
     "data": {
      "text/plain": [
       "array([162,  19, 214, ...,   0,   0,   0], dtype=uint8)"
      ]
     },
     "execution_count": 30,
     "metadata": {},
     "output_type": "execute_result"
    }
   ],
   "source": [
    "x"
   ]
  },
  {
   "cell_type": "code",
   "execution_count": 31,
   "metadata": {},
   "outputs": [
    {
     "data": {
      "image/png": "[encoded data removed]",
      "text/plain": [
       "<matplotlib.figure.Figure at 0x1c1afaaba8>"
      ]
     },
     "metadata": {},
     "output_type": "display_data"
    }
   ],
   "source": [
    "plt.plot(x);"
   ]
  },
  {
   "cell_type": "code",
   "execution_count": 16,
   "metadata": {},
   "outputs": [
    {
     "data": {
      "text/html": [
       "<div>\n",
       "<style>\n",
       "    .dataframe thead tr:only-child th {\n",
       "        text-align: right;\n",
       "    }\n",
       "\n",
       "    .dataframe thead th {\n",
       "        text-align: left;\n",
       "    }\n",
       "\n",
       "    .dataframe tbody tr th {\n",
       "        vertical-align: top;\n",
       "    }\n",
       "</style>\n",
       "<table border=\"1\" class=\"dataframe\">\n",
       "  <thead>\n",
       "    <tr style=\"text-align: right;\">\n",
       "      <th></th>\n",
       "      <th>HstackSize</th>\n",
       "      <th>NeedleSize</th>\n",
       "      <th>NeedleType</th>\n",
       "      <th>StartSam</th>\n",
       "      <th>dSNR</th>\n",
       "      <th>entropy_hex</th>\n",
       "      <th>file_name</th>\n",
       "      <th>sigma</th>\n",
       "      <th>start_window</th>\n",
       "      <th>norm_entropy</th>\n",
       "      <th>geometry</th>\n",
       "      <th>sweep size (bytes)</th>\n",
       "    </tr>\n",
       "  </thead>\n",
       "  <tbody>\n",
       "    <tr>\n",
       "      <th>0</th>\n",
       "      <td>1000000</td>\n",
       "      <td>250000.0</td>\n",
       "      <td>sine</td>\n",
       "      <td>412289.0</td>\n",
       "      <td>-20.0</td>\n",
       "      <td>b'FFEEA98689289E64'</td>\n",
       "      <td>sweepsize_test/2018-04-09_152122__0.txt</td>\n",
       "      <td>10.0</td>\n",
       "      <td>b'0000000000000000'</td>\n",
       "      <td>0.999735</td>\n",
       "      <td>10</td>\n",
       "      <td>1024</td>\n",
       "    </tr>\n",
       "    <tr>\n",
       "      <th>1</th>\n",
       "      <td>1000000</td>\n",
       "      <td>250000.0</td>\n",
       "      <td>sine</td>\n",
       "      <td>378454.0</td>\n",
       "      <td>-20.0</td>\n",
       "      <td>b'FFEE0DDF059A541E'</td>\n",
       "      <td>sweepsize_test/2018-04-09_152122__1.txt</td>\n",
       "      <td>10.0</td>\n",
       "      <td>b'0000000000000000'</td>\n",
       "      <td>0.999726</td>\n",
       "      <td>10</td>\n",
       "      <td>1024</td>\n",
       "    </tr>\n",
       "    <tr>\n",
       "      <th>2</th>\n",
       "      <td>1000000</td>\n",
       "      <td>250000.0</td>\n",
       "      <td>sine</td>\n",
       "      <td>145764.0</td>\n",
       "      <td>-20.0</td>\n",
       "      <td>b'FFED67661F523571'</td>\n",
       "      <td>sweepsize_test/2018-04-09_152122__2.txt</td>\n",
       "      <td>10.0</td>\n",
       "      <td>b'0000000000000000'</td>\n",
       "      <td>0.999716</td>\n",
       "      <td>10</td>\n",
       "      <td>1024</td>\n",
       "    </tr>\n",
       "    <tr>\n",
       "      <th>3</th>\n",
       "      <td>1000000</td>\n",
       "      <td>250000.0</td>\n",
       "      <td>sine</td>\n",
       "      <td>506613.0</td>\n",
       "      <td>-20.0</td>\n",
       "      <td>b'FFED7659D2F3BECB'</td>\n",
       "      <td>sweepsize_test/2018-04-09_152122__3.txt</td>\n",
       "      <td>10.0</td>\n",
       "      <td>b'0000000000000000'</td>\n",
       "      <td>0.999717</td>\n",
       "      <td>10</td>\n",
       "      <td>1024</td>\n",
       "    </tr>\n",
       "    <tr>\n",
       "      <th>4</th>\n",
       "      <td>1000000</td>\n",
       "      <td>250000.0</td>\n",
       "      <td>sine</td>\n",
       "      <td>354162.0</td>\n",
       "      <td>-20.0</td>\n",
       "      <td>b'FFEED46B73DA361D'</td>\n",
       "      <td>sweepsize_test/2018-04-09_152122__4.txt</td>\n",
       "      <td>10.0</td>\n",
       "      <td>b'0000000000000000'</td>\n",
       "      <td>0.999738</td>\n",
       "      <td>10</td>\n",
       "      <td>1024</td>\n",
       "    </tr>\n",
       "    <tr>\n",
       "      <th>5</th>\n",
       "      <td>1000000</td>\n",
       "      <td>250000.0</td>\n",
       "      <td>sine</td>\n",
       "      <td>50410.0</td>\n",
       "      <td>-20.0</td>\n",
       "      <td>b'FFECB30FAEC72222'</td>\n",
       "      <td>sweepsize_test/2018-04-09_152122__5.txt</td>\n",
       "      <td>10.0</td>\n",
       "      <td>b'0000000000000000'</td>\n",
       "      <td>0.999705</td>\n",
       "      <td>10</td>\n",
       "      <td>1024</td>\n",
       "    </tr>\n",
       "    <tr>\n",
       "      <th>6</th>\n",
       "      <td>1000000</td>\n",
       "      <td>250000.0</td>\n",
       "      <td>sine</td>\n",
       "      <td>182632.0</td>\n",
       "      <td>-20.0</td>\n",
       "      <td>b'FFED8471F4382229'</td>\n",
       "      <td>sweepsize_test/2018-04-09_152122__6.txt</td>\n",
       "      <td>10.0</td>\n",
       "      <td>b'0000000000000000'</td>\n",
       "      <td>0.999718</td>\n",
       "      <td>10</td>\n",
       "      <td>1024</td>\n",
       "    </tr>\n",
       "    <tr>\n",
       "      <th>7</th>\n",
       "      <td>1000000</td>\n",
       "      <td>250000.0</td>\n",
       "      <td>sine</td>\n",
       "      <td>72636.0</td>\n",
       "      <td>-20.0</td>\n",
       "      <td>b'FFEEE6B7FC53920F'</td>\n",
       "      <td>sweepsize_test/2018-04-09_152122__7.txt</td>\n",
       "      <td>10.0</td>\n",
       "      <td>b'0000000000000000'</td>\n",
       "      <td>0.999739</td>\n",
       "      <td>10</td>\n",
       "      <td>1024</td>\n",
       "    </tr>\n",
       "    <tr>\n",
       "      <th>8</th>\n",
       "      <td>1000000</td>\n",
       "      <td>250000.0</td>\n",
       "      <td>sine</td>\n",
       "      <td>557565.0</td>\n",
       "      <td>-20.0</td>\n",
       "      <td>b'FFED399B49BAF722'</td>\n",
       "      <td>sweepsize_test/2018-04-09_152122__8.txt</td>\n",
       "      <td>10.0</td>\n",
       "      <td>b'0000000000000000'</td>\n",
       "      <td>0.999714</td>\n",
       "      <td>10</td>\n",
       "      <td>1024</td>\n",
       "    </tr>\n",
       "    <tr>\n",
       "      <th>9</th>\n",
       "      <td>1000000</td>\n",
       "      <td>250000.0</td>\n",
       "      <td>sine</td>\n",
       "      <td>483090.0</td>\n",
       "      <td>-20.0</td>\n",
       "      <td>b'FFEE214E02B44F92'</td>\n",
       "      <td>sweepsize_test/2018-04-09_152122__9.txt</td>\n",
       "      <td>10.0</td>\n",
       "      <td>b'0000000000000000'</td>\n",
       "      <td>0.999727</td>\n",
       "      <td>10</td>\n",
       "      <td>1024</td>\n",
       "    </tr>\n",
       "    <tr>\n",
       "      <th>10</th>\n",
       "      <td>1000000</td>\n",
       "      <td>250000.0</td>\n",
       "      <td>sine</td>\n",
       "      <td>676111.0</td>\n",
       "      <td>-10.0</td>\n",
       "      <td>b'FFEBEAECBE2FCBEE'</td>\n",
       "      <td>sweepsize_test/2018-04-09_152125__0.txt</td>\n",
       "      <td>10.0</td>\n",
       "      <td>b'0000000000000000'</td>\n",
       "      <td>0.999694</td>\n",
       "      <td>10</td>\n",
       "      <td>1024</td>\n",
       "    </tr>\n",
       "    <tr>\n",
       "      <th>11</th>\n",
       "      <td>1000000</td>\n",
       "      <td>250000.0</td>\n",
       "      <td>sine</td>\n",
       "      <td>264311.0</td>\n",
       "      <td>-10.0</td>\n",
       "      <td>b'FFEE482C48F66991'</td>\n",
       "      <td>sweepsize_test/2018-04-09_152125__1.txt</td>\n",
       "      <td>10.0</td>\n",
       "      <td>b'0000000000000000'</td>\n",
       "      <td>0.999730</td>\n",
       "      <td>10</td>\n",
       "      <td>1024</td>\n",
       "    </tr>\n",
       "    <tr>\n",
       "      <th>12</th>\n",
       "      <td>1000000</td>\n",
       "      <td>250000.0</td>\n",
       "      <td>sine</td>\n",
       "      <td>631570.0</td>\n",
       "      <td>-10.0</td>\n",
       "      <td>b'FFEEC23BFFBB7C2A'</td>\n",
       "      <td>sweepsize_test/2018-04-09_152125__2.txt</td>\n",
       "      <td>10.0</td>\n",
       "      <td>b'0000000000000000'</td>\n",
       "      <td>0.999737</td>\n",
       "      <td>10</td>\n",
       "      <td>1024</td>\n",
       "    </tr>\n",
       "    <tr>\n",
       "      <th>13</th>\n",
       "      <td>1000000</td>\n",
       "      <td>250000.0</td>\n",
       "      <td>sine</td>\n",
       "      <td>109285.0</td>\n",
       "      <td>-10.0</td>\n",
       "      <td>b'FFECCAB7A01D0091'</td>\n",
       "      <td>sweepsize_test/2018-04-09_152125__3.txt</td>\n",
       "      <td>10.0</td>\n",
       "      <td>b'0000000000000000'</td>\n",
       "      <td>0.999707</td>\n",
       "      <td>10</td>\n",
       "      <td>1024</td>\n",
       "    </tr>\n",
       "    <tr>\n",
       "      <th>14</th>\n",
       "      <td>1000000</td>\n",
       "      <td>250000.0</td>\n",
       "      <td>sine</td>\n",
       "      <td>575849.0</td>\n",
       "      <td>-10.0</td>\n",
       "      <td>b'FFEE9FADD2F22D0B'</td>\n",
       "      <td>sweepsize_test/2018-04-09_152125__4.txt</td>\n",
       "      <td>10.0</td>\n",
       "      <td>b'0000000000000000'</td>\n",
       "      <td>0.999735</td>\n",
       "      <td>10</td>\n",
       "      <td>1024</td>\n",
       "    </tr>\n",
       "    <tr>\n",
       "      <th>15</th>\n",
       "      <td>1000000</td>\n",
       "      <td>250000.0</td>\n",
       "      <td>sine</td>\n",
       "      <td>231290.0</td>\n",
       "      <td>-10.0</td>\n",
       "      <td>b'FFED5E3FE161B178'</td>\n",
       "      <td>sweepsize_test/2018-04-09_152125__5.txt</td>\n",
       "      <td>10.0</td>\n",
       "      <td>b'0000000000000000'</td>\n",
       "      <td>0.999716</td>\n",
       "      <td>10</td>\n",
       "      <td>1024</td>\n",
       "    </tr>\n",
       "    <tr>\n",
       "      <th>16</th>\n",
       "      <td>1000000</td>\n",
       "      <td>250000.0</td>\n",
       "      <td>sine</td>\n",
       "      <td>50507.0</td>\n",
       "      <td>-10.0</td>\n",
       "      <td>b'FFEE1DE16C490051'</td>\n",
       "      <td>sweepsize_test/2018-04-09_152125__6.txt</td>\n",
       "      <td>10.0</td>\n",
       "      <td>b'0000000000000000'</td>\n",
       "      <td>0.999727</td>\n",
       "      <td>10</td>\n",
       "      <td>1024</td>\n",
       "    </tr>\n",
       "    <tr>\n",
       "      <th>17</th>\n",
       "      <td>1000000</td>\n",
       "      <td>250000.0</td>\n",
       "      <td>sine</td>\n",
       "      <td>545109.0</td>\n",
       "      <td>-10.0</td>\n",
       "      <td>b'FFEFEF22ADDFDA92'</td>\n",
       "      <td>sweepsize_test/2018-04-09_152125__7.txt</td>\n",
       "      <td>10.0</td>\n",
       "      <td>b'0000000000000000'</td>\n",
       "      <td>0.999755</td>\n",
       "      <td>10</td>\n",
       "      <td>1024</td>\n",
       "    </tr>\n",
       "    <tr>\n",
       "      <th>18</th>\n",
       "      <td>1000000</td>\n",
       "      <td>250000.0</td>\n",
       "      <td>sine</td>\n",
       "      <td>438780.0</td>\n",
       "      <td>-10.0</td>\n",
       "      <td>b'FFEF2EA8047D7C4B'</td>\n",
       "      <td>sweepsize_test/2018-04-09_152125__8.txt</td>\n",
       "      <td>10.0</td>\n",
       "      <td>b'0000000000000000'</td>\n",
       "      <td>0.999743</td>\n",
       "      <td>10</td>\n",
       "      <td>1024</td>\n",
       "    </tr>\n",
       "    <tr>\n",
       "      <th>19</th>\n",
       "      <td>1000000</td>\n",
       "      <td>250000.0</td>\n",
       "      <td>sine</td>\n",
       "      <td>281527.0</td>\n",
       "      <td>-10.0</td>\n",
       "      <td>b'FFEEF611ACF2DED6'</td>\n",
       "      <td>sweepsize_test/2018-04-09_152125__9.txt</td>\n",
       "      <td>10.0</td>\n",
       "      <td>b'0000000000000000'</td>\n",
       "      <td>0.999740</td>\n",
       "      <td>10</td>\n",
       "      <td>1024</td>\n",
       "    </tr>\n",
       "    <tr>\n",
       "      <th>20</th>\n",
       "      <td>1000000</td>\n",
       "      <td>250000.0</td>\n",
       "      <td>sine</td>\n",
       "      <td>301129.0</td>\n",
       "      <td>0.5</td>\n",
       "      <td>b'FFEE7C107FD036A7'</td>\n",
       "      <td>sweepsize_test/2018-04-09_152128__0.txt</td>\n",
       "      <td>10.0</td>\n",
       "      <td>b'0000000000000000'</td>\n",
       "      <td>0.999733</td>\n",
       "      <td>10</td>\n",
       "      <td>1024</td>\n",
       "    </tr>\n",
       "    <tr>\n",
       "      <th>21</th>\n",
       "      <td>1000000</td>\n",
       "      <td>250000.0</td>\n",
       "      <td>sine</td>\n",
       "      <td>86909.0</td>\n",
       "      <td>0.5</td>\n",
       "      <td>b'FFEB6762CF939F33'</td>\n",
       "      <td>sweepsize_test/2018-04-09_152128__1.txt</td>\n",
       "      <td>10.0</td>\n",
       "      <td>b'00000000000180CA'</td>\n",
       "      <td>0.999686</td>\n",
       "      <td>10</td>\n",
       "      <td>1024</td>\n",
       "    </tr>\n",
       "    <tr>\n",
       "      <th>22</th>\n",
       "      <td>1000000</td>\n",
       "      <td>250000.0</td>\n",
       "      <td>sine</td>\n",
       "      <td>211048.0</td>\n",
       "      <td>0.5</td>\n",
       "      <td>b'FFDE854C32AA37A3'</td>\n",
       "      <td>sweepsize_test/2018-04-09_152128__2.txt</td>\n",
       "      <td>10.0</td>\n",
       "      <td>b'0000000000040B7A'</td>\n",
       "      <td>0.999489</td>\n",
       "      <td>10</td>\n",
       "      <td>1024</td>\n",
       "    </tr>\n",
       "    <tr>\n",
       "      <th>23</th>\n",
       "      <td>1000000</td>\n",
       "      <td>250000.0</td>\n",
       "      <td>sine</td>\n",
       "      <td>706898.0</td>\n",
       "      <td>0.5</td>\n",
       "      <td>b'FFE131E410FD0100'</td>\n",
       "      <td>sweepsize_test/2018-04-09_152128__3.txt</td>\n",
       "      <td>10.0</td>\n",
       "      <td>b'00000000000B78E1'</td>\n",
       "      <td>0.999530</td>\n",
       "      <td>10</td>\n",
       "      <td>1024</td>\n",
       "    </tr>\n",
       "    <tr>\n",
       "      <th>24</th>\n",
       "      <td>1000000</td>\n",
       "      <td>250000.0</td>\n",
       "      <td>sine</td>\n",
       "      <td>478443.0</td>\n",
       "      <td>0.5</td>\n",
       "      <td>b'FFE6AE9FFCD8699F'</td>\n",
       "      <td>sweepsize_test/2018-04-09_152128__4.txt</td>\n",
       "      <td>10.0</td>\n",
       "      <td>b'0000000000096382'</td>\n",
       "      <td>0.999614</td>\n",
       "      <td>10</td>\n",
       "      <td>1024</td>\n",
       "    </tr>\n",
       "    <tr>\n",
       "      <th>25</th>\n",
       "      <td>1000000</td>\n",
       "      <td>250000.0</td>\n",
       "      <td>sine</td>\n",
       "      <td>367494.0</td>\n",
       "      <td>0.5</td>\n",
       "      <td>b'FFEE1EC37C9C2420'</td>\n",
       "      <td>sweepsize_test/2018-04-09_152128__5.txt</td>\n",
       "      <td>10.0</td>\n",
       "      <td>b'0000000000000000'</td>\n",
       "      <td>0.999727</td>\n",
       "      <td>10</td>\n",
       "      <td>1024</td>\n",
       "    </tr>\n",
       "    <tr>\n",
       "      <th>26</th>\n",
       "      <td>1000000</td>\n",
       "      <td>250000.0</td>\n",
       "      <td>sine</td>\n",
       "      <td>248877.0</td>\n",
       "      <td>0.5</td>\n",
       "      <td>b'FFEE7A6BB59E2D6B'</td>\n",
       "      <td>sweepsize_test/2018-04-09_152128__6.txt</td>\n",
       "      <td>10.0</td>\n",
       "      <td>b'0000000000000000'</td>\n",
       "      <td>0.999733</td>\n",
       "      <td>10</td>\n",
       "      <td>1024</td>\n",
       "    </tr>\n",
       "    <tr>\n",
       "      <th>27</th>\n",
       "      <td>1000000</td>\n",
       "      <td>250000.0</td>\n",
       "      <td>sine</td>\n",
       "      <td>303940.0</td>\n",
       "      <td>0.5</td>\n",
       "      <td>b'FFE571DD1E3D2D64'</td>\n",
       "      <td>sweepsize_test/2018-04-09_152128__7.txt</td>\n",
       "      <td>10.0</td>\n",
       "      <td>b'000000000005DB82'</td>\n",
       "      <td>0.999595</td>\n",
       "      <td>10</td>\n",
       "      <td>1024</td>\n",
       "    </tr>\n",
       "    <tr>\n",
       "      <th>28</th>\n",
       "      <td>1000000</td>\n",
       "      <td>250000.0</td>\n",
       "      <td>sine</td>\n",
       "      <td>26775.0</td>\n",
       "      <td>0.5</td>\n",
       "      <td>b'FFEE86CA881284B2'</td>\n",
       "      <td>sweepsize_test/2018-04-09_152128__8.txt</td>\n",
       "      <td>10.0</td>\n",
       "      <td>b'0000000000000000'</td>\n",
       "      <td>0.999733</td>\n",
       "      <td>10</td>\n",
       "      <td>1024</td>\n",
       "    </tr>\n",
       "    <tr>\n",
       "      <th>29</th>\n",
       "      <td>1000000</td>\n",
       "      <td>250000.0</td>\n",
       "      <td>sine</td>\n",
       "      <td>680724.0</td>\n",
       "      <td>0.5</td>\n",
       "      <td>b'FFEDAF21B31144F0'</td>\n",
       "      <td>sweepsize_test/2018-04-09_152128__9.txt</td>\n",
       "      <td>10.0</td>\n",
       "      <td>b'0000000000000000'</td>\n",
       "      <td>0.999721</td>\n",
       "      <td>10</td>\n",
       "      <td>1024</td>\n",
       "    </tr>\n",
       "    <tr>\n",
       "      <th>...</th>\n",
       "      <td>...</td>\n",
       "      <td>...</td>\n",
       "      <td>...</td>\n",
       "      <td>...</td>\n",
       "      <td>...</td>\n",
       "      <td>...</td>\n",
       "      <td>...</td>\n",
       "      <td>...</td>\n",
       "      <td>...</td>\n",
       "      <td>...</td>\n",
       "      <td>...</td>\n",
       "      <td>...</td>\n",
       "    </tr>\n",
       "    <tr>\n",
       "      <th>470</th>\n",
       "      <td>1000000</td>\n",
       "      <td>250000.0</td>\n",
       "      <td>sine</td>\n",
       "      <td>301129.0</td>\n",
       "      <td>0.5</td>\n",
       "      <td>b'FFE2704DCD454FF6'</td>\n",
       "      <td>sweepsize_test/2018-04-09_152128__0.txt</td>\n",
       "      <td>10.0</td>\n",
       "      <td>b'000000000000007F'</td>\n",
       "      <td>0.999549</td>\n",
       "      <td>10</td>\n",
       "      <td>1000000</td>\n",
       "    </tr>\n",
       "    <tr>\n",
       "      <th>471</th>\n",
       "      <td>1000000</td>\n",
       "      <td>250000.0</td>\n",
       "      <td>sine</td>\n",
       "      <td>86909.0</td>\n",
       "      <td>0.5</td>\n",
       "      <td>b'FFE3505E7C67BB7B'</td>\n",
       "      <td>sweepsize_test/2018-04-09_152128__1.txt</td>\n",
       "      <td>10.0</td>\n",
       "      <td>b'000000000000007F'</td>\n",
       "      <td>0.999562</td>\n",
       "      <td>10</td>\n",
       "      <td>1000000</td>\n",
       "    </tr>\n",
       "    <tr>\n",
       "      <th>472</th>\n",
       "      <td>1000000</td>\n",
       "      <td>250000.0</td>\n",
       "      <td>sine</td>\n",
       "      <td>211048.0</td>\n",
       "      <td>0.5</td>\n",
       "      <td>b'FFE4AD843A692AE9'</td>\n",
       "      <td>sweepsize_test/2018-04-09_152128__2.txt</td>\n",
       "      <td>10.0</td>\n",
       "      <td>b'0000000000000080'</td>\n",
       "      <td>0.999583</td>\n",
       "      <td>10</td>\n",
       "      <td>1000000</td>\n",
       "    </tr>\n",
       "    <tr>\n",
       "      <th>473</th>\n",
       "      <td>1000000</td>\n",
       "      <td>250000.0</td>\n",
       "      <td>sine</td>\n",
       "      <td>706898.0</td>\n",
       "      <td>0.5</td>\n",
       "      <td>b'FFE41B3E255B8A46'</td>\n",
       "      <td>sweepsize_test/2018-04-09_152128__3.txt</td>\n",
       "      <td>10.0</td>\n",
       "      <td>b'000000000000007F'</td>\n",
       "      <td>0.999574</td>\n",
       "      <td>10</td>\n",
       "      <td>1000000</td>\n",
       "    </tr>\n",
       "    <tr>\n",
       "      <th>474</th>\n",
       "      <td>1000000</td>\n",
       "      <td>250000.0</td>\n",
       "      <td>sine</td>\n",
       "      <td>478443.0</td>\n",
       "      <td>0.5</td>\n",
       "      <td>b'FFE3EA7A213A1546'</td>\n",
       "      <td>sweepsize_test/2018-04-09_152128__4.txt</td>\n",
       "      <td>10.0</td>\n",
       "      <td>b'000000000000007F'</td>\n",
       "      <td>0.999571</td>\n",
       "      <td>10</td>\n",
       "      <td>1000000</td>\n",
       "    </tr>\n",
       "    <tr>\n",
       "      <th>475</th>\n",
       "      <td>1000000</td>\n",
       "      <td>250000.0</td>\n",
       "      <td>sine</td>\n",
       "      <td>367494.0</td>\n",
       "      <td>0.5</td>\n",
       "      <td>b'FFE1B61F7368DC04'</td>\n",
       "      <td>sweepsize_test/2018-04-09_152128__5.txt</td>\n",
       "      <td>10.0</td>\n",
       "      <td>b'0000000000000080'</td>\n",
       "      <td>0.999538</td>\n",
       "      <td>10</td>\n",
       "      <td>1000000</td>\n",
       "    </tr>\n",
       "    <tr>\n",
       "      <th>476</th>\n",
       "      <td>1000000</td>\n",
       "      <td>250000.0</td>\n",
       "      <td>sine</td>\n",
       "      <td>248877.0</td>\n",
       "      <td>0.5</td>\n",
       "      <td>b'FFE1C091CB8E6C98'</td>\n",
       "      <td>sweepsize_test/2018-04-09_152128__6.txt</td>\n",
       "      <td>10.0</td>\n",
       "      <td>b'000000000000007F'</td>\n",
       "      <td>0.999538</td>\n",
       "      <td>10</td>\n",
       "      <td>1000000</td>\n",
       "    </tr>\n",
       "    <tr>\n",
       "      <th>477</th>\n",
       "      <td>1000000</td>\n",
       "      <td>250000.0</td>\n",
       "      <td>sine</td>\n",
       "      <td>303940.0</td>\n",
       "      <td>0.5</td>\n",
       "      <td>b'FFE3EB0CADB46A1B'</td>\n",
       "      <td>sweepsize_test/2018-04-09_152128__7.txt</td>\n",
       "      <td>10.0</td>\n",
       "      <td>b'000000000000007F'</td>\n",
       "      <td>0.999572</td>\n",
       "      <td>10</td>\n",
       "      <td>1000000</td>\n",
       "    </tr>\n",
       "    <tr>\n",
       "      <th>478</th>\n",
       "      <td>1000000</td>\n",
       "      <td>250000.0</td>\n",
       "      <td>sine</td>\n",
       "      <td>26775.0</td>\n",
       "      <td>0.5</td>\n",
       "      <td>b'FFE16E893EB69A76'</td>\n",
       "      <td>sweepsize_test/2018-04-09_152128__8.txt</td>\n",
       "      <td>10.0</td>\n",
       "      <td>b'0000000000000080'</td>\n",
       "      <td>0.999534</td>\n",
       "      <td>10</td>\n",
       "      <td>1000000</td>\n",
       "    </tr>\n",
       "    <tr>\n",
       "      <th>479</th>\n",
       "      <td>1000000</td>\n",
       "      <td>250000.0</td>\n",
       "      <td>sine</td>\n",
       "      <td>680724.0</td>\n",
       "      <td>0.5</td>\n",
       "      <td>b'FFE10A4F1348E4CB'</td>\n",
       "      <td>sweepsize_test/2018-04-09_152128__9.txt</td>\n",
       "      <td>10.0</td>\n",
       "      <td>b'000000000000007F'</td>\n",
       "      <td>0.999528</td>\n",
       "      <td>10</td>\n",
       "      <td>1000000</td>\n",
       "    </tr>\n",
       "    <tr>\n",
       "      <th>480</th>\n",
       "      <td>1000000</td>\n",
       "      <td>250000.0</td>\n",
       "      <td>sine</td>\n",
       "      <td>294924.0</td>\n",
       "      <td>5.0</td>\n",
       "      <td>b'FFE6EA594B140E9C'</td>\n",
       "      <td>sweepsize_test/2018-04-09_152130__0.txt</td>\n",
       "      <td>10.0</td>\n",
       "      <td>b'0000000000000080'</td>\n",
       "      <td>0.999617</td>\n",
       "      <td>10</td>\n",
       "      <td>1000000</td>\n",
       "    </tr>\n",
       "    <tr>\n",
       "      <th>481</th>\n",
       "      <td>1000000</td>\n",
       "      <td>250000.0</td>\n",
       "      <td>sine</td>\n",
       "      <td>492808.0</td>\n",
       "      <td>5.0</td>\n",
       "      <td>b'FFE42C8A5372C813'</td>\n",
       "      <td>sweepsize_test/2018-04-09_152130__1.txt</td>\n",
       "      <td>10.0</td>\n",
       "      <td>b'000000000000007F'</td>\n",
       "      <td>0.999575</td>\n",
       "      <td>10</td>\n",
       "      <td>1000000</td>\n",
       "    </tr>\n",
       "    <tr>\n",
       "      <th>482</th>\n",
       "      <td>1000000</td>\n",
       "      <td>250000.0</td>\n",
       "      <td>sine</td>\n",
       "      <td>497492.0</td>\n",
       "      <td>5.0</td>\n",
       "      <td>b'FFE1158D29128133'</td>\n",
       "      <td>sweepsize_test/2018-04-09_152130__2.txt</td>\n",
       "      <td>10.0</td>\n",
       "      <td>b'000000000000007F'</td>\n",
       "      <td>0.999528</td>\n",
       "      <td>10</td>\n",
       "      <td>1000000</td>\n",
       "    </tr>\n",
       "    <tr>\n",
       "      <th>483</th>\n",
       "      <td>1000000</td>\n",
       "      <td>250000.0</td>\n",
       "      <td>sine</td>\n",
       "      <td>588638.0</td>\n",
       "      <td>5.0</td>\n",
       "      <td>b'FFE6A51F20F5F672'</td>\n",
       "      <td>sweepsize_test/2018-04-09_152130__3.txt</td>\n",
       "      <td>10.0</td>\n",
       "      <td>b'0000000000000080'</td>\n",
       "      <td>0.999613</td>\n",
       "      <td>10</td>\n",
       "      <td>1000000</td>\n",
       "    </tr>\n",
       "    <tr>\n",
       "      <th>484</th>\n",
       "      <td>1000000</td>\n",
       "      <td>250000.0</td>\n",
       "      <td>sine</td>\n",
       "      <td>328869.0</td>\n",
       "      <td>5.0</td>\n",
       "      <td>b'FFE47004BEF93FD5'</td>\n",
       "      <td>sweepsize_test/2018-04-09_152130__4.txt</td>\n",
       "      <td>10.0</td>\n",
       "      <td>b'0000000000000080'</td>\n",
       "      <td>0.999579</td>\n",
       "      <td>10</td>\n",
       "      <td>1000000</td>\n",
       "    </tr>\n",
       "    <tr>\n",
       "      <th>485</th>\n",
       "      <td>1000000</td>\n",
       "      <td>250000.0</td>\n",
       "      <td>sine</td>\n",
       "      <td>637593.0</td>\n",
       "      <td>5.0</td>\n",
       "      <td>b'FFE17BB6C1783F99'</td>\n",
       "      <td>sweepsize_test/2018-04-09_152130__5.txt</td>\n",
       "      <td>10.0</td>\n",
       "      <td>b'0000000000000080'</td>\n",
       "      <td>0.999534</td>\n",
       "      <td>10</td>\n",
       "      <td>1000000</td>\n",
       "    </tr>\n",
       "    <tr>\n",
       "      <th>486</th>\n",
       "      <td>1000000</td>\n",
       "      <td>250000.0</td>\n",
       "      <td>sine</td>\n",
       "      <td>86461.0</td>\n",
       "      <td>5.0</td>\n",
       "      <td>b'FFE1C03332F0CA02'</td>\n",
       "      <td>sweepsize_test/2018-04-09_152130__6.txt</td>\n",
       "      <td>10.0</td>\n",
       "      <td>b'000000000000007F'</td>\n",
       "      <td>0.999538</td>\n",
       "      <td>10</td>\n",
       "      <td>1000000</td>\n",
       "    </tr>\n",
       "    <tr>\n",
       "      <th>487</th>\n",
       "      <td>1000000</td>\n",
       "      <td>250000.0</td>\n",
       "      <td>sine</td>\n",
       "      <td>734059.0</td>\n",
       "      <td>5.0</td>\n",
       "      <td>b'FFE22A43F99DCE47'</td>\n",
       "      <td>sweepsize_test/2018-04-09_152130__7.txt</td>\n",
       "      <td>10.0</td>\n",
       "      <td>b'000000000000007F'</td>\n",
       "      <td>0.999545</td>\n",
       "      <td>10</td>\n",
       "      <td>1000000</td>\n",
       "    </tr>\n",
       "    <tr>\n",
       "      <th>488</th>\n",
       "      <td>1000000</td>\n",
       "      <td>250000.0</td>\n",
       "      <td>sine</td>\n",
       "      <td>200051.0</td>\n",
       "      <td>5.0</td>\n",
       "      <td>b'FFE22FAC1722F5E9'</td>\n",
       "      <td>sweepsize_test/2018-04-09_152130__8.txt</td>\n",
       "      <td>10.0</td>\n",
       "      <td>b'000000000000007F'</td>\n",
       "      <td>0.999545</td>\n",
       "      <td>10</td>\n",
       "      <td>1000000</td>\n",
       "    </tr>\n",
       "    <tr>\n",
       "      <th>489</th>\n",
       "      <td>1000000</td>\n",
       "      <td>250000.0</td>\n",
       "      <td>sine</td>\n",
       "      <td>542254.0</td>\n",
       "      <td>5.0</td>\n",
       "      <td>b'FFE5E694FFBB0C3B'</td>\n",
       "      <td>sweepsize_test/2018-04-09_152130__9.txt</td>\n",
       "      <td>10.0</td>\n",
       "      <td>b'000000000000007F'</td>\n",
       "      <td>0.999602</td>\n",
       "      <td>10</td>\n",
       "      <td>1000000</td>\n",
       "    </tr>\n",
       "    <tr>\n",
       "      <th>490</th>\n",
       "      <td>1000000</td>\n",
       "      <td>NaN</td>\n",
       "      <td>noise</td>\n",
       "      <td>NaN</td>\n",
       "      <td>NaN</td>\n",
       "      <td>b'FFE1682AC9E6921C'</td>\n",
       "      <td>sweepsize_test/2018-04-09_152133__0.txt</td>\n",
       "      <td>10.0</td>\n",
       "      <td>b'0000000000000080'</td>\n",
       "      <td>0.999533</td>\n",
       "      <td>10</td>\n",
       "      <td>1000000</td>\n",
       "    </tr>\n",
       "    <tr>\n",
       "      <th>491</th>\n",
       "      <td>1000000</td>\n",
       "      <td>NaN</td>\n",
       "      <td>noise</td>\n",
       "      <td>NaN</td>\n",
       "      <td>NaN</td>\n",
       "      <td>b'FFE156AD6051A88F'</td>\n",
       "      <td>sweepsize_test/2018-04-09_152133__1.txt</td>\n",
       "      <td>10.0</td>\n",
       "      <td>b'000000000000007F'</td>\n",
       "      <td>0.999532</td>\n",
       "      <td>10</td>\n",
       "      <td>1000000</td>\n",
       "    </tr>\n",
       "    <tr>\n",
       "      <th>492</th>\n",
       "      <td>1000000</td>\n",
       "      <td>NaN</td>\n",
       "      <td>noise</td>\n",
       "      <td>NaN</td>\n",
       "      <td>NaN</td>\n",
       "      <td>b'FFE14802E4FC25A1'</td>\n",
       "      <td>sweepsize_test/2018-04-09_152133__2.txt</td>\n",
       "      <td>10.0</td>\n",
       "      <td>b'000000000000007F'</td>\n",
       "      <td>0.999531</td>\n",
       "      <td>10</td>\n",
       "      <td>1000000</td>\n",
       "    </tr>\n",
       "    <tr>\n",
       "      <th>493</th>\n",
       "      <td>1000000</td>\n",
       "      <td>NaN</td>\n",
       "      <td>noise</td>\n",
       "      <td>NaN</td>\n",
       "      <td>NaN</td>\n",
       "      <td>b'FFE1108A2B357786'</td>\n",
       "      <td>sweepsize_test/2018-04-09_152133__3.txt</td>\n",
       "      <td>10.0</td>\n",
       "      <td>b'000000000000007F'</td>\n",
       "      <td>0.999528</td>\n",
       "      <td>10</td>\n",
       "      <td>1000000</td>\n",
       "    </tr>\n",
       "    <tr>\n",
       "      <th>494</th>\n",
       "      <td>1000000</td>\n",
       "      <td>NaN</td>\n",
       "      <td>noise</td>\n",
       "      <td>NaN</td>\n",
       "      <td>NaN</td>\n",
       "      <td>b'FFE11FB0FB08A5D6'</td>\n",
       "      <td>sweepsize_test/2018-04-09_152133__4.txt</td>\n",
       "      <td>10.0</td>\n",
       "      <td>b'000000000000007F'</td>\n",
       "      <td>0.999529</td>\n",
       "      <td>10</td>\n",
       "      <td>1000000</td>\n",
       "    </tr>\n",
       "    <tr>\n",
       "      <th>495</th>\n",
       "      <td>1000000</td>\n",
       "      <td>NaN</td>\n",
       "      <td>noise</td>\n",
       "      <td>NaN</td>\n",
       "      <td>NaN</td>\n",
       "      <td>b'FFE1228BAD53E623'</td>\n",
       "      <td>sweepsize_test/2018-04-09_152133__5.txt</td>\n",
       "      <td>10.0</td>\n",
       "      <td>b'000000000000007F'</td>\n",
       "      <td>0.999529</td>\n",
       "      <td>10</td>\n",
       "      <td>1000000</td>\n",
       "    </tr>\n",
       "    <tr>\n",
       "      <th>496</th>\n",
       "      <td>1000000</td>\n",
       "      <td>NaN</td>\n",
       "      <td>noise</td>\n",
       "      <td>NaN</td>\n",
       "      <td>NaN</td>\n",
       "      <td>b'FFE166EC99E2376E'</td>\n",
       "      <td>sweepsize_test/2018-04-09_152133__6.txt</td>\n",
       "      <td>10.0</td>\n",
       "      <td>b'0000000000000080'</td>\n",
       "      <td>0.999533</td>\n",
       "      <td>10</td>\n",
       "      <td>1000000</td>\n",
       "    </tr>\n",
       "    <tr>\n",
       "      <th>497</th>\n",
       "      <td>1000000</td>\n",
       "      <td>NaN</td>\n",
       "      <td>noise</td>\n",
       "      <td>NaN</td>\n",
       "      <td>NaN</td>\n",
       "      <td>b'FFE1B59E0F852BFA'</td>\n",
       "      <td>sweepsize_test/2018-04-09_152133__7.txt</td>\n",
       "      <td>10.0</td>\n",
       "      <td>b'0000000000000080'</td>\n",
       "      <td>0.999538</td>\n",
       "      <td>10</td>\n",
       "      <td>1000000</td>\n",
       "    </tr>\n",
       "    <tr>\n",
       "      <th>498</th>\n",
       "      <td>1000000</td>\n",
       "      <td>NaN</td>\n",
       "      <td>noise</td>\n",
       "      <td>NaN</td>\n",
       "      <td>NaN</td>\n",
       "      <td>b'FFE14AD9EAEE9654'</td>\n",
       "      <td>sweepsize_test/2018-04-09_152133__8.txt</td>\n",
       "      <td>10.0</td>\n",
       "      <td>b'000000000000007F'</td>\n",
       "      <td>0.999531</td>\n",
       "      <td>10</td>\n",
       "      <td>1000000</td>\n",
       "    </tr>\n",
       "    <tr>\n",
       "      <th>499</th>\n",
       "      <td>1000000</td>\n",
       "      <td>NaN</td>\n",
       "      <td>noise</td>\n",
       "      <td>NaN</td>\n",
       "      <td>NaN</td>\n",
       "      <td>b'FFE16B7FE39391AC'</td>\n",
       "      <td>sweepsize_test/2018-04-09_152133__9.txt</td>\n",
       "      <td>10.0</td>\n",
       "      <td>b'000000000000007F'</td>\n",
       "      <td>0.999533</td>\n",
       "      <td>10</td>\n",
       "      <td>1000000</td>\n",
       "    </tr>\n",
       "  </tbody>\n",
       "</table>\n",
       "<p>500 rows × 12 columns</p>\n",
       "</div>"
      ],
      "text/plain": [
       "     HstackSize  NeedleSize NeedleType  StartSam  dSNR          entropy_hex  \\\n",
       "0       1000000    250000.0       sine  412289.0 -20.0  b'FFEEA98689289E64'   \n",
       "1       1000000    250000.0       sine  378454.0 -20.0  b'FFEE0DDF059A541E'   \n",
       "2       1000000    250000.0       sine  145764.0 -20.0  b'FFED67661F523571'   \n",
       "3       1000000    250000.0       sine  506613.0 -20.0  b'FFED7659D2F3BECB'   \n",
       "4       1000000    250000.0       sine  354162.0 -20.0  b'FFEED46B73DA361D'   \n",
       "5       1000000    250000.0       sine   50410.0 -20.0  b'FFECB30FAEC72222'   \n",
       "6       1000000    250000.0       sine  182632.0 -20.0  b'FFED8471F4382229'   \n",
       "7       1000000    250000.0       sine   72636.0 -20.0  b'FFEEE6B7FC53920F'   \n",
       "8       1000000    250000.0       sine  557565.0 -20.0  b'FFED399B49BAF722'   \n",
       "9       1000000    250000.0       sine  483090.0 -20.0  b'FFEE214E02B44F92'   \n",
       "10      1000000    250000.0       sine  676111.0 -10.0  b'FFEBEAECBE2FCBEE'   \n",
       "11      1000000    250000.0       sine  264311.0 -10.0  b'FFEE482C48F66991'   \n",
       "12      1000000    250000.0       sine  631570.0 -10.0  b'FFEEC23BFFBB7C2A'   \n",
       "13      1000000    250000.0       sine  109285.0 -10.0  b'FFECCAB7A01D0091'   \n",
       "14      1000000    250000.0       sine  575849.0 -10.0  b'FFEE9FADD2F22D0B'   \n",
       "15      1000000    250000.0       sine  231290.0 -10.0  b'FFED5E3FE161B178'   \n",
       "16      1000000    250000.0       sine   50507.0 -10.0  b'FFEE1DE16C490051'   \n",
       "17      1000000    250000.0       sine  545109.0 -10.0  b'FFEFEF22ADDFDA92'   \n",
       "18      1000000    250000.0       sine  438780.0 -10.0  b'FFEF2EA8047D7C4B'   \n",
       "19      1000000    250000.0       sine  281527.0 -10.0  b'FFEEF611ACF2DED6'   \n",
       "20      1000000    250000.0       sine  301129.0   0.5  b'FFEE7C107FD036A7'   \n",
       "21      1000000    250000.0       sine   86909.0   0.5  b'FFEB6762CF939F33'   \n",
       "22      1000000    250000.0       sine  211048.0   0.5  b'FFDE854C32AA37A3'   \n",
       "23      1000000    250000.0       sine  706898.0   0.5  b'FFE131E410FD0100'   \n",
       "24      1000000    250000.0       sine  478443.0   0.5  b'FFE6AE9FFCD8699F'   \n",
       "25      1000000    250000.0       sine  367494.0   0.5  b'FFEE1EC37C9C2420'   \n",
       "26      1000000    250000.0       sine  248877.0   0.5  b'FFEE7A6BB59E2D6B'   \n",
       "27      1000000    250000.0       sine  303940.0   0.5  b'FFE571DD1E3D2D64'   \n",
       "28      1000000    250000.0       sine   26775.0   0.5  b'FFEE86CA881284B2'   \n",
       "29      1000000    250000.0       sine  680724.0   0.5  b'FFEDAF21B31144F0'   \n",
       "..          ...         ...        ...       ...   ...                  ...   \n",
       "470     1000000    250000.0       sine  301129.0   0.5  b'FFE2704DCD454FF6'   \n",
       "471     1000000    250000.0       sine   86909.0   0.5  b'FFE3505E7C67BB7B'   \n",
       "472     1000000    250000.0       sine  211048.0   0.5  b'FFE4AD843A692AE9'   \n",
       "473     1000000    250000.0       sine  706898.0   0.5  b'FFE41B3E255B8A46'   \n",
       "474     1000000    250000.0       sine  478443.0   0.5  b'FFE3EA7A213A1546'   \n",
       "475     1000000    250000.0       sine  367494.0   0.5  b'FFE1B61F7368DC04'   \n",
       "476     1000000    250000.0       sine  248877.0   0.5  b'FFE1C091CB8E6C98'   \n",
       "477     1000000    250000.0       sine  303940.0   0.5  b'FFE3EB0CADB46A1B'   \n",
       "478     1000000    250000.0       sine   26775.0   0.5  b'FFE16E893EB69A76'   \n",
       "479     1000000    250000.0       sine  680724.0   0.5  b'FFE10A4F1348E4CB'   \n",
       "480     1000000    250000.0       sine  294924.0   5.0  b'FFE6EA594B140E9C'   \n",
       "481     1000000    250000.0       sine  492808.0   5.0  b'FFE42C8A5372C813'   \n",
       "482     1000000    250000.0       sine  497492.0   5.0  b'FFE1158D29128133'   \n",
       "483     1000000    250000.0       sine  588638.0   5.0  b'FFE6A51F20F5F672'   \n",
       "484     1000000    250000.0       sine  328869.0   5.0  b'FFE47004BEF93FD5'   \n",
       "485     1000000    250000.0       sine  637593.0   5.0  b'FFE17BB6C1783F99'   \n",
       "486     1000000    250000.0       sine   86461.0   5.0  b'FFE1C03332F0CA02'   \n",
       "487     1000000    250000.0       sine  734059.0   5.0  b'FFE22A43F99DCE47'   \n",
       "488     1000000    250000.0       sine  200051.0   5.0  b'FFE22FAC1722F5E9'   \n",
       "489     1000000    250000.0       sine  542254.0   5.0  b'FFE5E694FFBB0C3B'   \n",
       "490     1000000         NaN      noise       NaN   NaN  b'FFE1682AC9E6921C'   \n",
       "491     1000000         NaN      noise       NaN   NaN  b'FFE156AD6051A88F'   \n",
       "492     1000000         NaN      noise       NaN   NaN  b'FFE14802E4FC25A1'   \n",
       "493     1000000         NaN      noise       NaN   NaN  b'FFE1108A2B357786'   \n",
       "494     1000000         NaN      noise       NaN   NaN  b'FFE11FB0FB08A5D6'   \n",
       "495     1000000         NaN      noise       NaN   NaN  b'FFE1228BAD53E623'   \n",
       "496     1000000         NaN      noise       NaN   NaN  b'FFE166EC99E2376E'   \n",
       "497     1000000         NaN      noise       NaN   NaN  b'FFE1B59E0F852BFA'   \n",
       "498     1000000         NaN      noise       NaN   NaN  b'FFE14AD9EAEE9654'   \n",
       "499     1000000         NaN      noise       NaN   NaN  b'FFE16B7FE39391AC'   \n",
       "\n",
       "                                   file_name  sigma         start_window  \\\n",
       "0    sweepsize_test/2018-04-09_152122__0.txt   10.0  b'0000000000000000'   \n",
       "1    sweepsize_test/2018-04-09_152122__1.txt   10.0  b'0000000000000000'   \n",
       "2    sweepsize_test/2018-04-09_152122__2.txt   10.0  b'0000000000000000'   \n",
       "3    sweepsize_test/2018-04-09_152122__3.txt   10.0  b'0000000000000000'   \n",
       "4    sweepsize_test/2018-04-09_152122__4.txt   10.0  b'0000000000000000'   \n",
       "5    sweepsize_test/2018-04-09_152122__5.txt   10.0  b'0000000000000000'   \n",
       "6    sweepsize_test/2018-04-09_152122__6.txt   10.0  b'0000000000000000'   \n",
       "7    sweepsize_test/2018-04-09_152122__7.txt   10.0  b'0000000000000000'   \n",
       "8    sweepsize_test/2018-04-09_152122__8.txt   10.0  b'0000000000000000'   \n",
       "9    sweepsize_test/2018-04-09_152122__9.txt   10.0  b'0000000000000000'   \n",
       "10   sweepsize_test/2018-04-09_152125__0.txt   10.0  b'0000000000000000'   \n",
       "11   sweepsize_test/2018-04-09_152125__1.txt   10.0  b'0000000000000000'   \n",
       "12   sweepsize_test/2018-04-09_152125__2.txt   10.0  b'0000000000000000'   \n",
       "13   sweepsize_test/2018-04-09_152125__3.txt   10.0  b'0000000000000000'   \n",
       "14   sweepsize_test/2018-04-09_152125__4.txt   10.0  b'0000000000000000'   \n",
       "15   sweepsize_test/2018-04-09_152125__5.txt   10.0  b'0000000000000000'   \n",
       "16   sweepsize_test/2018-04-09_152125__6.txt   10.0  b'0000000000000000'   \n",
       "17   sweepsize_test/2018-04-09_152125__7.txt   10.0  b'0000000000000000'   \n",
       "18   sweepsize_test/2018-04-09_152125__8.txt   10.0  b'0000000000000000'   \n",
       "19   sweepsize_test/2018-04-09_152125__9.txt   10.0  b'0000000000000000'   \n",
       "20   sweepsize_test/2018-04-09_152128__0.txt   10.0  b'0000000000000000'   \n",
       "21   sweepsize_test/2018-04-09_152128__1.txt   10.0  b'00000000000180CA'   \n",
       "22   sweepsize_test/2018-04-09_152128__2.txt   10.0  b'0000000000040B7A'   \n",
       "23   sweepsize_test/2018-04-09_152128__3.txt   10.0  b'00000000000B78E1'   \n",
       "24   sweepsize_test/2018-04-09_152128__4.txt   10.0  b'0000000000096382'   \n",
       "25   sweepsize_test/2018-04-09_152128__5.txt   10.0  b'0000000000000000'   \n",
       "26   sweepsize_test/2018-04-09_152128__6.txt   10.0  b'0000000000000000'   \n",
       "27   sweepsize_test/2018-04-09_152128__7.txt   10.0  b'000000000005DB82'   \n",
       "28   sweepsize_test/2018-04-09_152128__8.txt   10.0  b'0000000000000000'   \n",
       "29   sweepsize_test/2018-04-09_152128__9.txt   10.0  b'0000000000000000'   \n",
       "..                                       ...    ...                  ...   \n",
       "470  sweepsize_test/2018-04-09_152128__0.txt   10.0  b'000000000000007F'   \n",
       "471  sweepsize_test/2018-04-09_152128__1.txt   10.0  b'000000000000007F'   \n",
       "472  sweepsize_test/2018-04-09_152128__2.txt   10.0  b'0000000000000080'   \n",
       "473  sweepsize_test/2018-04-09_152128__3.txt   10.0  b'000000000000007F'   \n",
       "474  sweepsize_test/2018-04-09_152128__4.txt   10.0  b'000000000000007F'   \n",
       "475  sweepsize_test/2018-04-09_152128__5.txt   10.0  b'0000000000000080'   \n",
       "476  sweepsize_test/2018-04-09_152128__6.txt   10.0  b'000000000000007F'   \n",
       "477  sweepsize_test/2018-04-09_152128__7.txt   10.0  b'000000000000007F'   \n",
       "478  sweepsize_test/2018-04-09_152128__8.txt   10.0  b'0000000000000080'   \n",
       "479  sweepsize_test/2018-04-09_152128__9.txt   10.0  b'000000000000007F'   \n",
       "480  sweepsize_test/2018-04-09_152130__0.txt   10.0  b'0000000000000080'   \n",
       "481  sweepsize_test/2018-04-09_152130__1.txt   10.0  b'000000000000007F'   \n",
       "482  sweepsize_test/2018-04-09_152130__2.txt   10.0  b'000000000000007F'   \n",
       "483  sweepsize_test/2018-04-09_152130__3.txt   10.0  b'0000000000000080'   \n",
       "484  sweepsize_test/2018-04-09_152130__4.txt   10.0  b'0000000000000080'   \n",
       "485  sweepsize_test/2018-04-09_152130__5.txt   10.0  b'0000000000000080'   \n",
       "486  sweepsize_test/2018-04-09_152130__6.txt   10.0  b'000000000000007F'   \n",
       "487  sweepsize_test/2018-04-09_152130__7.txt   10.0  b'000000000000007F'   \n",
       "488  sweepsize_test/2018-04-09_152130__8.txt   10.0  b'000000000000007F'   \n",
       "489  sweepsize_test/2018-04-09_152130__9.txt   10.0  b'000000000000007F'   \n",
       "490  sweepsize_test/2018-04-09_152133__0.txt   10.0  b'0000000000000080'   \n",
       "491  sweepsize_test/2018-04-09_152133__1.txt   10.0  b'000000000000007F'   \n",
       "492  sweepsize_test/2018-04-09_152133__2.txt   10.0  b'000000000000007F'   \n",
       "493  sweepsize_test/2018-04-09_152133__3.txt   10.0  b'000000000000007F'   \n",
       "494  sweepsize_test/2018-04-09_152133__4.txt   10.0  b'000000000000007F'   \n",
       "495  sweepsize_test/2018-04-09_152133__5.txt   10.0  b'000000000000007F'   \n",
       "496  sweepsize_test/2018-04-09_152133__6.txt   10.0  b'0000000000000080'   \n",
       "497  sweepsize_test/2018-04-09_152133__7.txt   10.0  b'0000000000000080'   \n",
       "498  sweepsize_test/2018-04-09_152133__8.txt   10.0  b'000000000000007F'   \n",
       "499  sweepsize_test/2018-04-09_152133__9.txt   10.0  b'000000000000007F'   \n",
       "\n",
       "     norm_entropy  geometry  sweep size (bytes)  \n",
       "0        0.999735        10                1024  \n",
       "1        0.999726        10                1024  \n",
       "2        0.999716        10                1024  \n",
       "3        0.999717        10                1024  \n",
       "4        0.999738        10                1024  \n",
       "5        0.999705        10                1024  \n",
       "6        0.999718        10                1024  \n",
       "7        0.999739        10                1024  \n",
       "8        0.999714        10                1024  \n",
       "9        0.999727        10                1024  \n",
       "10       0.999694        10                1024  \n",
       "11       0.999730        10                1024  \n",
       "12       0.999737        10                1024  \n",
       "13       0.999707        10                1024  \n",
       "14       0.999735        10                1024  \n",
       "15       0.999716        10                1024  \n",
       "16       0.999727        10                1024  \n",
       "17       0.999755        10                1024  \n",
       "18       0.999743        10                1024  \n",
       "19       0.999740        10                1024  \n",
       "20       0.999733        10                1024  \n",
       "21       0.999686        10                1024  \n",
       "22       0.999489        10                1024  \n",
       "23       0.999530        10                1024  \n",
       "24       0.999614        10                1024  \n",
       "25       0.999727        10                1024  \n",
       "26       0.999733        10                1024  \n",
       "27       0.999595        10                1024  \n",
       "28       0.999733        10                1024  \n",
       "29       0.999721        10                1024  \n",
       "..            ...       ...                 ...  \n",
       "470      0.999549        10             1000000  \n",
       "471      0.999562        10             1000000  \n",
       "472      0.999583        10             1000000  \n",
       "473      0.999574        10             1000000  \n",
       "474      0.999571        10             1000000  \n",
       "475      0.999538        10             1000000  \n",
       "476      0.999538        10             1000000  \n",
       "477      0.999572        10             1000000  \n",
       "478      0.999534        10             1000000  \n",
       "479      0.999528        10             1000000  \n",
       "480      0.999617        10             1000000  \n",
       "481      0.999575        10             1000000  \n",
       "482      0.999528        10             1000000  \n",
       "483      0.999613        10             1000000  \n",
       "484      0.999579        10             1000000  \n",
       "485      0.999534        10             1000000  \n",
       "486      0.999538        10             1000000  \n",
       "487      0.999545        10             1000000  \n",
       "488      0.999545        10             1000000  \n",
       "489      0.999602        10             1000000  \n",
       "490      0.999533        10             1000000  \n",
       "491      0.999532        10             1000000  \n",
       "492      0.999531        10             1000000  \n",
       "493      0.999528        10             1000000  \n",
       "494      0.999529        10             1000000  \n",
       "495      0.999529        10             1000000  \n",
       "496      0.999533        10             1000000  \n",
       "497      0.999538        10             1000000  \n",
       "498      0.999531        10             1000000  \n",
       "499      0.999533        10             1000000  \n",
       "\n",
       "[500 rows x 12 columns]"
      ]
     },
     "execution_count": 16,
     "metadata": {},
     "output_type": "execute_result"
    }
   ],
   "source": [
    "results = pd.read_csv('sweepsize_test/i_results.csv',index_col=0)\n",
    "#pd.read_csv('foo.txt', header=None, squeeze=True, index_col=0))\n",
    "results"
   ]
  },
  {
   "cell_type": "code",
   "execution_count": 17,
   "metadata": {},
   "outputs": [
    {
     "ename": "ValueError",
     "evalue": "not enough values to unpack (expected 2, got 0)",
     "output_type": "error",
     "traceback": [
      "\u001b[0;31m---------------------------------------------------------------------------\u001b[0m",
      "\u001b[0;31mValueError\u001b[0m                                Traceback (most recent call last)",
      "\u001b[0;32m<ipython-input-17-aefb245b9207>\u001b[0m in \u001b[0;36m<module>\u001b[0;34m()\u001b[0m\n\u001b[1;32m      1\u001b[0m \u001b[0marr\u001b[0m \u001b[0;34m=\u001b[0m \u001b[0mresults\u001b[0m\u001b[0;34m[\u001b[0m\u001b[0;34m'dSNR'\u001b[0m\u001b[0;34m]\u001b[0m\u001b[0;34m.\u001b[0m\u001b[0munique\u001b[0m\u001b[0;34m(\u001b[0m\u001b[0;34m)\u001b[0m\u001b[0;34m\u001b[0m\u001b[0m\n\u001b[1;32m      2\u001b[0m \u001b[0;32mfor\u001b[0m \u001b[0mi\u001b[0m \u001b[0;32min\u001b[0m \u001b[0marr\u001b[0m\u001b[0;34m:\u001b[0m\u001b[0;34m\u001b[0m\u001b[0m\n\u001b[0;32m----> 3\u001b[0;31m         \u001b[0mresults\u001b[0m\u001b[0;34m[\u001b[0m\u001b[0mresults\u001b[0m\u001b[0;34m[\u001b[0m\u001b[0;34m'dSNR'\u001b[0m\u001b[0;34m]\u001b[0m \u001b[0;34m==\u001b[0m \u001b[0mi\u001b[0m\u001b[0;34m]\u001b[0m\u001b[0;34m.\u001b[0m\u001b[0mboxplot\u001b[0m\u001b[0;34m(\u001b[0m\u001b[0mcolumn\u001b[0m\u001b[0;34m=\u001b[0m\u001b[0;34m'norm_entropy'\u001b[0m\u001b[0;34m,\u001b[0m \u001b[0mby\u001b[0m\u001b[0;34m=\u001b[0m\u001b[0;34m'sweep size (bytes)'\u001b[0m\u001b[0;34m)\u001b[0m\u001b[0;34m\u001b[0m\u001b[0m\n\u001b[0m",
      "\u001b[0;32m~/anaconda/lib/python3.6/site-packages/pandas/core/frame.py\u001b[0m in \u001b[0;36mboxplot\u001b[0;34m(self, column, by, ax, fontsize, rot, grid, figsize, layout, return_type, **kwds)\u001b[0m\n\u001b[1;32m   5943\u001b[0m     ax = boxplot(self, column=column, by=by, ax=ax, fontsize=fontsize,\n\u001b[1;32m   5944\u001b[0m                  \u001b[0mgrid\u001b[0m\u001b[0;34m=\u001b[0m\u001b[0mgrid\u001b[0m\u001b[0;34m,\u001b[0m \u001b[0mrot\u001b[0m\u001b[0;34m=\u001b[0m\u001b[0mrot\u001b[0m\u001b[0;34m,\u001b[0m \u001b[0mfigsize\u001b[0m\u001b[0;34m=\u001b[0m\u001b[0mfigsize\u001b[0m\u001b[0;34m,\u001b[0m \u001b[0mlayout\u001b[0m\u001b[0;34m=\u001b[0m\u001b[0mlayout\u001b[0m\u001b[0;34m,\u001b[0m\u001b[0;34m\u001b[0m\u001b[0m\n\u001b[0;32m-> 5945\u001b[0;31m                  return_type=return_type, **kwds)\n\u001b[0m\u001b[1;32m   5946\u001b[0m     \u001b[0mplt\u001b[0m\u001b[0;34m.\u001b[0m\u001b[0mdraw_if_interactive\u001b[0m\u001b[0;34m(\u001b[0m\u001b[0;34m)\u001b[0m\u001b[0;34m\u001b[0m\u001b[0m\n\u001b[1;32m   5947\u001b[0m     \u001b[0;32mreturn\u001b[0m \u001b[0max\u001b[0m\u001b[0;34m\u001b[0m\u001b[0m\n",
      "\u001b[0;32m~/anaconda/lib/python3.6/site-packages/pandas/plotting/_core.py\u001b[0m in \u001b[0;36mboxplot\u001b[0;34m(data, column, by, ax, fontsize, rot, grid, figsize, layout, return_type, **kwds)\u001b[0m\n\u001b[1;32m   1995\u001b[0m                                          \u001b[0mby\u001b[0m\u001b[0;34m=\u001b[0m\u001b[0mby\u001b[0m\u001b[0;34m,\u001b[0m \u001b[0mgrid\u001b[0m\u001b[0;34m=\u001b[0m\u001b[0mgrid\u001b[0m\u001b[0;34m,\u001b[0m \u001b[0mfigsize\u001b[0m\u001b[0;34m=\u001b[0m\u001b[0mfigsize\u001b[0m\u001b[0;34m,\u001b[0m\u001b[0;34m\u001b[0m\u001b[0m\n\u001b[1;32m   1996\u001b[0m                                          \u001b[0max\u001b[0m\u001b[0;34m=\u001b[0m\u001b[0max\u001b[0m\u001b[0;34m,\u001b[0m \u001b[0mlayout\u001b[0m\u001b[0;34m=\u001b[0m\u001b[0mlayout\u001b[0m\u001b[0;34m,\u001b[0m\u001b[0;34m\u001b[0m\u001b[0m\n\u001b[0;32m-> 1997\u001b[0;31m                                          return_type=return_type)\n\u001b[0m\u001b[1;32m   1998\u001b[0m     \u001b[0;32melse\u001b[0m\u001b[0;34m:\u001b[0m\u001b[0;34m\u001b[0m\u001b[0m\n\u001b[1;32m   1999\u001b[0m         \u001b[0;32mif\u001b[0m \u001b[0mreturn_type\u001b[0m \u001b[0;32mis\u001b[0m \u001b[0;32mNone\u001b[0m\u001b[0;34m:\u001b[0m\u001b[0;34m\u001b[0m\u001b[0m\n",
      "\u001b[0;32m~/anaconda/lib/python3.6/site-packages/pandas/plotting/_core.py\u001b[0m in \u001b[0;36m_grouped_plot_by_column\u001b[0;34m(plotf, data, columns, by, numeric_only, grid, figsize, ax, layout, return_type, **kwargs)\u001b[0m\n\u001b[1;32m   2386\u001b[0m         \u001b[0max\u001b[0m \u001b[0;34m=\u001b[0m \u001b[0m_axes\u001b[0m\u001b[0;34m[\u001b[0m\u001b[0mi\u001b[0m\u001b[0;34m]\u001b[0m\u001b[0;34m\u001b[0m\u001b[0m\n\u001b[1;32m   2387\u001b[0m         \u001b[0mgp_col\u001b[0m \u001b[0;34m=\u001b[0m \u001b[0mgrouped\u001b[0m\u001b[0;34m[\u001b[0m\u001b[0mcol\u001b[0m\u001b[0;34m]\u001b[0m\u001b[0;34m\u001b[0m\u001b[0m\n\u001b[0;32m-> 2388\u001b[0;31m         \u001b[0mkeys\u001b[0m\u001b[0;34m,\u001b[0m \u001b[0mvalues\u001b[0m \u001b[0;34m=\u001b[0m \u001b[0mzip\u001b[0m\u001b[0;34m(\u001b[0m\u001b[0;34m*\u001b[0m\u001b[0mgp_col\u001b[0m\u001b[0;34m)\u001b[0m\u001b[0;34m\u001b[0m\u001b[0m\n\u001b[0m\u001b[1;32m   2389\u001b[0m         \u001b[0mre_plotf\u001b[0m \u001b[0;34m=\u001b[0m \u001b[0mplotf\u001b[0m\u001b[0;34m(\u001b[0m\u001b[0mkeys\u001b[0m\u001b[0;34m,\u001b[0m \u001b[0mvalues\u001b[0m\u001b[0;34m,\u001b[0m \u001b[0max\u001b[0m\u001b[0;34m,\u001b[0m \u001b[0;34m**\u001b[0m\u001b[0mkwargs\u001b[0m\u001b[0;34m)\u001b[0m\u001b[0;34m\u001b[0m\u001b[0m\n\u001b[1;32m   2390\u001b[0m         \u001b[0max\u001b[0m\u001b[0;34m.\u001b[0m\u001b[0mset_title\u001b[0m\u001b[0;34m(\u001b[0m\u001b[0mcol\u001b[0m\u001b[0;34m)\u001b[0m\u001b[0;34m\u001b[0m\u001b[0m\n",
      "\u001b[0;31mValueError\u001b[0m: not enough values to unpack (expected 2, got 0)"
     ]
    },
    {
     "data": {
      "image/png": "[encoded data removed]",
      "text/plain": [
       "<matplotlib.figure.Figure at 0x1c1a202048>"
      ]
     },
     "metadata": {},
     "output_type": "display_data"
    },
    {
     "data": {
      "image/png": "[encoded data removed]",
      "text/plain": [
       "<matplotlib.figure.Figure at 0x1c1a202470>"
      ]
     },
     "metadata": {},
     "output_type": "display_data"
    },
    {
     "data": {
      "image/png": "[encoded data removed]",
      "text/plain": [
       "<matplotlib.figure.Figure at 0x1c1a145ba8>"
      ]
     },
     "metadata": {},
     "output_type": "display_data"
    },
    {
     "data": {
      "image/png": "[encoded data removed]",
      "text/plain": [
       "<matplotlib.figure.Figure at 0x1c1a145a20>"
      ]
     },
     "metadata": {},
     "output_type": "display_data"
    },
    {
     "data": {
      "image/png": "[encoded data removed]",
      "text/plain": [
       "<matplotlib.figure.Figure at 0x1c1a693e48>"
      ]
     },
     "metadata": {},
     "output_type": "display_data"
    }
   ],
   "source": [
    "arr = results['dSNR'].unique()\n",
    "for i in arr:\n",
    "        results[results['dSNR'] == i].boxplot(column='norm_entropy', by='sweep size (bytes)')"
   ]
  },
  {
   "cell_type": "code",
   "execution_count": 32,
   "metadata": {},
   "outputs": [
    {
     "ename": "NameError",
     "evalue": "name 'ax' is not defined",
     "output_type": "error",
     "traceback": [
      "\u001b[0;31m---------------------------------------------------------------------------\u001b[0m",
      "\u001b[0;31mNameError\u001b[0m                                 Traceback (most recent call last)",
      "\u001b[0;32m<ipython-input-32-20a43137f1d9>\u001b[0m in \u001b[0;36m<module>\u001b[0;34m()\u001b[0m\n\u001b[1;32m      1\u001b[0m results[results['dSNR'].isnull()].boxplot(column='norm_entropy', by='sweep size (bytes)', ax=\n\u001b[0;32m----> 2\u001b[0;31m                                           ax[0]);\n\u001b[0m",
      "\u001b[0;31mNameError\u001b[0m: name 'ax' is not defined"
     ]
    }
   ],
   "source": [
    "results[results['dSNR'].isnull()].boxplot(column='norm_entropy', by='sweep size (bytes)', ax=\n",
    "                                          ax[0]);"
   ]
  },
  {
   "cell_type": "code",
   "execution_count": 37,
   "metadata": {},
   "outputs": [
    {
     "name": "stdout",
     "output_type": "stream",
     "text": [
      "Axes(0.125,0.71587;0.775x0.16413)\n",
      "Axes(0.125,0.518913;0.775x0.16413)\n",
      "Axes(0.125,0.321957;0.775x0.16413)\n",
      "Axes(0.125,0.125;0.775x0.16413)\n"
     ]
    },
    {
     "data": {
      "image/png": "[encoded data removed]",
      "text/plain": [
       "<matplotlib.figure.Figure at 0x1c1b345eb8>"
      ]
     },
     "metadata": {},
     "output_type": "display_data"
    }
   ],
   "source": [
    "fig, ax = plt.subplots(4, 1, figsize=(20, 15))\n",
    "for i in ax:\n",
    "    print (i)"
   ]
  },
  {
   "cell_type": "code",
   "execution_count": 31,
   "metadata": {
    "scrolled": false
   },
   "outputs": [],
   "source": [
    "results = pd.read_csv('5.0db_10.0sigma_haystacks/i_results.txt', index_col=0)"
   ]
  },
  {
   "cell_type": "code",
   "execution_count": 155,
   "metadata": {
    "scrolled": true
   },
   "outputs": [
    {
     "data": {
      "text/html": [
       "<div>\n",
       "<style>\n",
       "    .dataframe thead tr:only-child th {\n",
       "        text-align: right;\n",
       "    }\n",
       "\n",
       "    .dataframe thead th {\n",
       "        text-align: left;\n",
       "    }\n",
       "\n",
       "    .dataframe tbody tr th {\n",
       "        vertical-align: top;\n",
       "    }\n",
       "</style>\n",
       "<table border=\"1\" class=\"dataframe\">\n",
       "  <thead>\n",
       "    <tr style=\"text-align: right;\">\n",
       "      <th></th>\n",
       "      <th>HstackSize</th>\n",
       "      <th>NeedleSize</th>\n",
       "      <th>NeedleType</th>\n",
       "      <th>StartSam</th>\n",
       "      <th>dSNR</th>\n",
       "      <th>entropy_hex</th>\n",
       "      <th>file_name</th>\n",
       "      <th>sigma</th>\n",
       "      <th>start_window</th>\n",
       "      <th>norm_entropy</th>\n",
       "    </tr>\n",
       "  </thead>\n",
       "  <tbody>\n",
       "    <tr>\n",
       "      <th>115</th>\n",
       "      <td>1000000</td>\n",
       "      <td>NaN</td>\n",
       "      <td>noise</td>\n",
       "      <td>NaN</td>\n",
       "      <td>NaN</td>\n",
       "      <td>b'FFF238CFF7E15E58'</td>\n",
       "      <td>5.0db_10.0sigma_haystacks/2018-03-29_181802__5...</td>\n",
       "      <td>10.0</td>\n",
       "      <td>b'0000000000000000'</td>\n",
       "      <td>0.999790</td>\n",
       "    </tr>\n",
       "    <tr>\n",
       "      <th>116</th>\n",
       "      <td>1000000</td>\n",
       "      <td>NaN</td>\n",
       "      <td>noise</td>\n",
       "      <td>NaN</td>\n",
       "      <td>NaN</td>\n",
       "      <td>b'FFF35B597D81DE59'</td>\n",
       "      <td>5.0db_10.0sigma_haystacks/2018-03-29_181802__6...</td>\n",
       "      <td>10.0</td>\n",
       "      <td>b'0000000000087492'</td>\n",
       "      <td>0.999807</td>\n",
       "    </tr>\n",
       "    <tr>\n",
       "      <th>117</th>\n",
       "      <td>1000000</td>\n",
       "      <td>NaN</td>\n",
       "      <td>noise</td>\n",
       "      <td>NaN</td>\n",
       "      <td>NaN</td>\n",
       "      <td>b'FFF3E4418E9F5D8C'</td>\n",
       "      <td>5.0db_10.0sigma_haystacks/2018-03-29_181802__7...</td>\n",
       "      <td>10.0</td>\n",
       "      <td>b'00000000000D5BFA'</td>\n",
       "      <td>0.999815</td>\n",
       "    </tr>\n",
       "    <tr>\n",
       "      <th>118</th>\n",
       "      <td>1000000</td>\n",
       "      <td>NaN</td>\n",
       "      <td>noise</td>\n",
       "      <td>NaN</td>\n",
       "      <td>NaN</td>\n",
       "      <td>b'FFF3A19FB0A7EA65'</td>\n",
       "      <td>5.0db_10.0sigma_haystacks/2018-03-29_181802__8...</td>\n",
       "      <td>10.0</td>\n",
       "      <td>b'00000000000B3367'</td>\n",
       "      <td>0.999811</td>\n",
       "    </tr>\n",
       "    <tr>\n",
       "      <th>119</th>\n",
       "      <td>1000000</td>\n",
       "      <td>NaN</td>\n",
       "      <td>noise</td>\n",
       "      <td>NaN</td>\n",
       "      <td>NaN</td>\n",
       "      <td>b'FFF3BA8465779300'</td>\n",
       "      <td>5.0db_10.0sigma_haystacks/2018-03-29_181802__9...</td>\n",
       "      <td>10.0</td>\n",
       "      <td>b'0000000000053D41'</td>\n",
       "      <td>0.999813</td>\n",
       "    </tr>\n",
       "  </tbody>\n",
       "</table>\n",
       "</div>"
      ],
      "text/plain": [
       "     HstackSize  NeedleSize NeedleType  StartSam  dSNR          entropy_hex  \\\n",
       "115     1000000         NaN      noise       NaN   NaN  b'FFF238CFF7E15E58'   \n",
       "116     1000000         NaN      noise       NaN   NaN  b'FFF35B597D81DE59'   \n",
       "117     1000000         NaN      noise       NaN   NaN  b'FFF3E4418E9F5D8C'   \n",
       "118     1000000         NaN      noise       NaN   NaN  b'FFF3A19FB0A7EA65'   \n",
       "119     1000000         NaN      noise       NaN   NaN  b'FFF3BA8465779300'   \n",
       "\n",
       "                                             file_name  sigma  \\\n",
       "115  5.0db_10.0sigma_haystacks/2018-03-29_181802__5...   10.0   \n",
       "116  5.0db_10.0sigma_haystacks/2018-03-29_181802__6...   10.0   \n",
       "117  5.0db_10.0sigma_haystacks/2018-03-29_181802__7...   10.0   \n",
       "118  5.0db_10.0sigma_haystacks/2018-03-29_181802__8...   10.0   \n",
       "119  5.0db_10.0sigma_haystacks/2018-03-29_181802__9...   10.0   \n",
       "\n",
       "            start_window  norm_entropy  \n",
       "115  b'0000000000000000'      0.999790  \n",
       "116  b'0000000000087492'      0.999807  \n",
       "117  b'00000000000D5BFA'      0.999815  \n",
       "118  b'00000000000B3367'      0.999811  \n",
       "119  b'0000000000053D41'      0.999813  "
      ]
     },
     "execution_count": 155,
     "metadata": {},
     "output_type": "execute_result"
    }
   ],
   "source": [
    "results.tail()"
   ]
  },
  {
   "cell_type": "code",
   "execution_count": 42,
   "metadata": {},
   "outputs": [
    {
     "data": {
      "text/plain": [
       "10"
      ]
     },
     "execution_count": 42,
     "metadata": {},
     "output_type": "execute_result"
    }
   ],
   "source": [
    "square_root = lambda n: int(np.sqrt(n))\n",
    "n =  len(results)\n",
    "square_root(n)"
   ]
  },
  {
   "cell_type": "code",
   "execution_count": 56,
   "metadata": {},
   "outputs": [
    {
     "data": {
      "text/plain": [
       "0.9998196456912096"
      ]
     },
     "execution_count": 56,
     "metadata": {},
     "output_type": "execute_result"
    }
   ],
   "source": [
    "noise.max()"
   ]
  },
  {
   "cell_type": "code",
   "execution_count": 53,
   "metadata": {},
   "outputs": [
    {
     "data": {
      "text/plain": [
       "0.9997828665331524"
      ]
     },
     "execution_count": 53,
     "metadata": {},
     "output_type": "execute_result"
    }
   ],
   "source": [
    "noise.min()\n"
   ]
  },
  {
   "cell_type": "code",
   "execution_count": 55,
   "metadata": {},
   "outputs": [
    {
     "data": {
      "text/plain": [
       "0.9998185563445772"
      ]
     },
     "execution_count": 55,
     "metadata": {},
     "output_type": "execute_result"
    }
   ],
   "source": [
    "sin.max()"
   ]
  },
  {
   "cell_type": "code",
   "execution_count": 58,
   "metadata": {},
   "outputs": [
    {
     "data": {
      "image/png": "[encoded data removed]",
      "text/plain": [
       "<matplotlib.figure.Figure at 0x1c186a2780>"
      ]
     },
     "metadata": {},
     "output_type": "display_data"
    }
   ],
   "source": [
    "\n",
    "bins = np.linspace(0.996, 1.0, 50)\n",
    "\n",
    "plt.hist([sin, noise], bins=square_root(n), label=['sine', 'noise'], range=(noise.min(), max(noise.max(), sin.max())))\n",
    "plt.legend(loc='upper right')\n",
    "plt.show()"
   ]
  },
  {
   "cell_type": "code",
   "execution_count": 153,
   "metadata": {},
   "outputs": [
    {
     "data": {
      "text/plain": [
       "60"
      ]
     },
     "execution_count": 153,
     "metadata": {},
     "output_type": "execute_result"
    }
   ],
   "source": [
    "noise.count()"
   ]
  },
  {
   "cell_type": "code",
   "execution_count": 150,
   "metadata": {},
   "outputs": [
    {
     "data": {
      "image/png": "[encoded data removed]",
      "text/plain": [
       "<matplotlib.figure.Figure at 0x10b0af588>"
      ]
     },
     "metadata": {},
     "output_type": "display_data"
    }
   ],
   "source": [
    "plt.style.use('seaborn-deep')\n",
    "f = plt.figure(figsize=(20, 15))\n",
    "ax1 = plt.subplot2grid((3,2), (0,0), colspan=2)\n",
    "ax2 = plt.subplot2grid((3,2), (1,0), colspan=2)\n",
    "ax3 = plt.subplot2grid((3,2), (2,0), colspan=1)\n",
    "ax4 = plt.subplot2grid((3,2), (2,1), colspan=1)\n",
    "\n",
    "sin = results[results.NeedleType == 'sine']['norm_entropy']\n",
    "noise = results[results.NeedleType == 'noise']['norm_entropy']\n",
    "full_range=(sin.min(), max(noise.max(), sin.max()))\n",
    "overlap_range=(noise.min(), max(noise.max(), sin.max()))\n",
    "bins = int(np.sqrt(len(results)))\n",
    "\n",
    "ax1.hist(noise, bins=bins*10, color='orange', alpha=0.70, edgecolor='black', label='noise', range=full_range);\n",
    "ax1.hist(sin, bins=bins*10, alpha=0.70, edgecolor='black', label='sine', range=full_range);\n",
    "ax1.legend(loc='upper left');\n",
    "ax1.set_title('Full Range Histogram')\n",
    "\n",
    "ax2.hist(noise, bins=bins*5, color='orange', alpha=0.70, edgecolor='black', label='noise', range=overlap_range);\n",
    "ax2.hist(sin, bins=bins*5, alpha=0.70, edgecolor='black', label='sine', range=overlap_range);\n",
    "ax2.legend(loc='upper left');\n",
    "ax2.set_title('Overlap Histogram')\n",
    "\n",
    "ax3.hist(sin, bins=bins)\n",
    "ax3.set_title('Sine Histogram')\n",
    "\n",
    "ax4.hist(noise, bins=bins, color='orange')\n",
    "ax4.set_title('Noise Histogram')\n",
    "\n",
    "f.tight_layout()"
   ]
  },
  {
   "cell_type": "code",
   "execution_count": 129,
   "metadata": {},
   "outputs": [
    {
     "data": {
      "text/plain": [
       "(array([1., 1., 0., 0., 0., 0., 0., 0., 0., 1., 0., 1., 0., 0., 0., 0., 0.,\n",
       "        0., 0., 1., 0., 0., 0., 0., 0., 0., 0., 0., 0., 0., 0., 0., 0., 0.,\n",
       "        0., 0., 0., 0., 0., 0., 0., 0., 0., 0., 1., 1., 0., 0., 1., 2.]),\n",
       " array([0.89563882, 0.89746092, 0.89928302, 0.90110512, 0.90292722,\n",
       "        0.90474932, 0.90657142, 0.90839352, 0.91021563, 0.91203773,\n",
       "        0.91385983, 0.91568193, 0.91750403, 0.91932613, 0.92114823,\n",
       "        0.92297033, 0.92479243, 0.92661453, 0.92843663, 0.93025873,\n",
       "        0.93208083, 0.93390293, 0.93572503, 0.93754713, 0.93936923,\n",
       "        0.94119133, 0.94301343, 0.94483553, 0.94665763, 0.94847973,\n",
       "        0.95030183, 0.95212393, 0.95394604, 0.95576814, 0.95759024,\n",
       "        0.95941234, 0.96123444, 0.96305654, 0.96487864, 0.96670074,\n",
       "        0.96852284, 0.97034494, 0.97216704, 0.97398914, 0.97581124,\n",
       "        0.97763334, 0.97945544, 0.98127754, 0.98309964, 0.98492174,\n",
       "        0.98674384]),\n",
       " <a list of 50 Patch objects>)"
      ]
     },
     "execution_count": 129,
     "metadata": {},
     "output_type": "execute_result"
    },
    {
     "data": {
      "image/png": "[encoded data removed]",
      "text/plain": [
       "<matplotlib.figure.Figure at 0x1c1b0dc630>"
      ]
     },
     "metadata": {},
     "output_type": "display_data"
    }
   ],
   "source": [
    "%timeit\n",
    "plt.hist(results.loc[results['NeedleType'] == 'sine', 'norm_entropy'], bins=50, color='g')"
   ]
  },
  {
   "cell_type": "code",
   "execution_count": 134,
   "metadata": {},
   "outputs": [
    {
     "data": {
      "image/png": "[encoded data removed]",
      "text/plain": [
       "<matplotlib.figure.Figure at 0x10d060b70>"
      ]
     },
     "metadata": {},
     "output_type": "display_data"
    }
   ],
   "source": [
    "plt.hist(results[results.NeedleType == 'sine']['norm_entropy'], bins=50, color='g');"
   ]
  },
  {
   "cell_type": "code",
   "execution_count": 135,
   "metadata": {},
   "outputs": [
    {
     "data": {
      "text/html": [
       "<div>\n",
       "<style>\n",
       "    .dataframe thead tr:only-child th {\n",
       "        text-align: right;\n",
       "    }\n",
       "\n",
       "    .dataframe thead th {\n",
       "        text-align: left;\n",
       "    }\n",
       "\n",
       "    .dataframe tbody tr th {\n",
       "        vertical-align: top;\n",
       "    }\n",
       "</style>\n",
       "<table border=\"1\" class=\"dataframe\">\n",
       "  <thead>\n",
       "    <tr style=\"text-align: right;\">\n",
       "      <th></th>\n",
       "      <th>count</th>\n",
       "      <th>mean</th>\n",
       "      <th>std</th>\n",
       "      <th>min</th>\n",
       "      <th>25%</th>\n",
       "      <th>50%</th>\n",
       "      <th>75%</th>\n",
       "      <th>max</th>\n",
       "    </tr>\n",
       "    <tr>\n",
       "      <th>NeedleType</th>\n",
       "      <th></th>\n",
       "      <th></th>\n",
       "      <th></th>\n",
       "      <th></th>\n",
       "      <th></th>\n",
       "      <th></th>\n",
       "      <th></th>\n",
       "      <th></th>\n",
       "    </tr>\n",
       "  </thead>\n",
       "  <tbody>\n",
       "    <tr>\n",
       "      <th>noise</th>\n",
       "      <td>10.0</td>\n",
       "      <td>0.999744</td>\n",
       "      <td>0.000009</td>\n",
       "      <td>0.999730</td>\n",
       "      <td>0.999737</td>\n",
       "      <td>0.999747</td>\n",
       "      <td>0.999749</td>\n",
       "      <td>0.999754</td>\n",
       "    </tr>\n",
       "    <tr>\n",
       "      <th>sine</th>\n",
       "      <td>10.0</td>\n",
       "      <td>0.998884</td>\n",
       "      <td>0.000819</td>\n",
       "      <td>0.997802</td>\n",
       "      <td>0.998197</td>\n",
       "      <td>0.999019</td>\n",
       "      <td>0.999629</td>\n",
       "      <td>0.999744</td>\n",
       "    </tr>\n",
       "  </tbody>\n",
       "</table>\n",
       "</div>"
      ],
      "text/plain": [
       "            count      mean       std       min       25%       50%       75%  \\\n",
       "NeedleType                                                                      \n",
       "noise        10.0  0.999744  0.000009  0.999730  0.999737  0.999747  0.999749   \n",
       "sine         10.0  0.998884  0.000819  0.997802  0.998197  0.999019  0.999629   \n",
       "\n",
       "                 max  \n",
       "NeedleType            \n",
       "noise       0.999754  \n",
       "sine        0.999744  "
      ]
     },
     "execution_count": 135,
     "metadata": {},
     "output_type": "execute_result"
    }
   ],
   "source": [
    "results.groupby('NeedleType')['norm_entropy'].describe()"
   ]
  },
  {
   "cell_type": "code",
   "execution_count": 130,
   "metadata": {},
   "outputs": [
    {
     "data": {
      "image/png": "[encoded data removed]",
      "text/plain": [
       "<matplotlib.figure.Figure at 0x1c1b196be0>"
      ]
     },
     "metadata": {},
     "output_type": "display_data"
    }
   ],
   "source": [
    "plt.hist(results[results.NeedleType == 'noise']['norm_entropy'], bins=50);"
   ]
  },
  {
   "cell_type": "code",
   "execution_count": 17,
   "metadata": {},
   "outputs": [
    {
     "data": {
      "text/html": [
       "<div>\n",
       "<style>\n",
       "    .dataframe thead tr:only-child th {\n",
       "        text-align: right;\n",
       "    }\n",
       "\n",
       "    .dataframe thead th {\n",
       "        text-align: left;\n",
       "    }\n",
       "\n",
       "    .dataframe tbody tr th {\n",
       "        vertical-align: top;\n",
       "    }\n",
       "</style>\n",
       "<table border=\"1\" class=\"dataframe\">\n",
       "  <thead>\n",
       "    <tr style=\"text-align: right;\">\n",
       "      <th></th>\n",
       "      <th>HstackSize</th>\n",
       "      <th>NeedleSize</th>\n",
       "      <th>StartSam</th>\n",
       "      <th>dSNR</th>\n",
       "      <th>entropy</th>\n",
       "      <th>sigma</th>\n",
       "    </tr>\n",
       "  </thead>\n",
       "  <tbody>\n",
       "    <tr>\n",
       "      <th>count</th>\n",
       "      <td>1000.0</td>\n",
       "      <td>1000.0</td>\n",
       "      <td>1000.0</td>\n",
       "      <td>1000.0</td>\n",
       "      <td>2000.0000</td>\n",
       "      <td>2.000000e+03</td>\n",
       "    </tr>\n",
       "    <tr>\n",
       "      <th>mean</th>\n",
       "      <td>1000000.0</td>\n",
       "      <td>250000.0</td>\n",
       "      <td>0.0</td>\n",
       "      <td>5.0</td>\n",
       "      <td>317045.1325</td>\n",
       "      <td>2.092804e+01</td>\n",
       "    </tr>\n",
       "    <tr>\n",
       "      <th>std</th>\n",
       "      <td>0.0</td>\n",
       "      <td>0.0</td>\n",
       "      <td>0.0</td>\n",
       "      <td>0.0</td>\n",
       "      <td>287813.8730</td>\n",
       "      <td>1.030545e-13</td>\n",
       "    </tr>\n",
       "    <tr>\n",
       "      <th>min</th>\n",
       "      <td>1000000.0</td>\n",
       "      <td>250000.0</td>\n",
       "      <td>0.0</td>\n",
       "      <td>5.0</td>\n",
       "      <td>0.0000</td>\n",
       "      <td>2.092804e+01</td>\n",
       "    </tr>\n",
       "    <tr>\n",
       "      <th>25%</th>\n",
       "      <td>1000000.0</td>\n",
       "      <td>250000.0</td>\n",
       "      <td>0.0</td>\n",
       "      <td>5.0</td>\n",
       "      <td>92669.5000</td>\n",
       "      <td>2.092804e+01</td>\n",
       "    </tr>\n",
       "    <tr>\n",
       "      <th>50%</th>\n",
       "      <td>1000000.0</td>\n",
       "      <td>250000.0</td>\n",
       "      <td>0.0</td>\n",
       "      <td>5.0</td>\n",
       "      <td>202099.5000</td>\n",
       "      <td>2.092804e+01</td>\n",
       "    </tr>\n",
       "    <tr>\n",
       "      <th>75%</th>\n",
       "      <td>1000000.0</td>\n",
       "      <td>250000.0</td>\n",
       "      <td>0.0</td>\n",
       "      <td>5.0</td>\n",
       "      <td>541028.7500</td>\n",
       "      <td>2.092804e+01</td>\n",
       "    </tr>\n",
       "    <tr>\n",
       "      <th>max</th>\n",
       "      <td>1000000.0</td>\n",
       "      <td>250000.0</td>\n",
       "      <td>0.0</td>\n",
       "      <td>5.0</td>\n",
       "      <td>995102.0000</td>\n",
       "      <td>2.092804e+01</td>\n",
       "    </tr>\n",
       "  </tbody>\n",
       "</table>\n",
       "</div>"
      ],
      "text/plain": [
       "       HstackSize  NeedleSize  StartSam    dSNR      entropy         sigma\n",
       "count      1000.0      1000.0    1000.0  1000.0    2000.0000  2.000000e+03\n",
       "mean    1000000.0    250000.0       0.0     5.0  317045.1325  2.092804e+01\n",
       "std           0.0         0.0       0.0     0.0  287813.8730  1.030545e-13\n",
       "min     1000000.0    250000.0       0.0     5.0       0.0000  2.092804e+01\n",
       "25%     1000000.0    250000.0       0.0     5.0   92669.5000  2.092804e+01\n",
       "50%     1000000.0    250000.0       0.0     5.0  202099.5000  2.092804e+01\n",
       "75%     1000000.0    250000.0       0.0     5.0  541028.7500  2.092804e+01\n",
       "max     1000000.0    250000.0       0.0     5.0  995102.0000  2.092804e+01"
      ]
     },
     "execution_count": 17,
     "metadata": {},
     "output_type": "execute_result"
    }
   ],
   "source": [
    "results.describe()"
   ]
  },
  {
   "cell_type": "code",
   "execution_count": 140,
   "metadata": {},
   "outputs": [
    {
     "data": {
      "image/png": "[encoded data removed]",
      "text/plain": [
       "<matplotlib.figure.Figure at 0x1c1b281da0>"
      ]
     },
     "metadata": {},
     "output_type": "display_data"
    }
   ],
   "source": [
    "results.groupby('NeedleType')['norm_entropy'].hist(bins=100);"
   ]
  },
  {
   "cell_type": "code",
   "execution_count": null,
   "metadata": {},
   "outputs": [],
   "source": []
  },
  {
   "cell_type": "code",
   "execution_count": null,
   "metadata": {},
   "outputs": [],
   "source": []
  },
  {
   "cell_type": "code",
   "execution_count": null,
   "metadata": {},
   "outputs": [],
   "source": []
  },
  {
   "cell_type": "code",
   "execution_count": null,
   "metadata": {},
   "outputs": [],
   "source": []
  },
  {
   "cell_type": "code",
   "execution_count": null,
   "metadata": {},
   "outputs": [],
   "source": []
  },
  {
   "cell_type": "code",
   "execution_count": null,
   "metadata": {},
   "outputs": [],
   "source": []
  },
  {
   "cell_type": "code",
   "execution_count": 19,
   "metadata": {},
   "outputs": [
    {
     "data": {
      "text/plain": [
       "array([0, 2, 3, 4, 4, 5, 6, 7, 8, 9])"
      ]
     },
     "execution_count": 19,
     "metadata": {},
     "output_type": "execute_result"
    }
   ],
   "source": [
    "x = np.arange(10)\n",
    "y = np.repeat(1, 3)\n",
    "sig_start = 1\n",
    "x[sig_start:sig_start+3] += y\n",
    "x"
   ]
  },
  {
   "cell_type": "code",
   "execution_count": null,
   "metadata": {},
   "outputs": [],
   "source": [
    "def run_scan(datafiles, txtfiles):\n",
    "    for data, txt in zip(datafiles, txtfiles):\n",
    "        output = run([\"agnentro/tmp/agnentroscan\", \"i\", data, \"10\", \"5000\", \"1\", \"3\"], stdout=PIPE)\n",
    "        m = pd.read_csv(txt, header=None).T\n",
    "        m.columns = m.iloc[0]\n",
    "        m = m.reindex(m.index.drop(0))\n",
    "        m['start_window'] = output.stdout.decode('utf-8')[0:16]\n",
    "        m['entropy'] = int(output.stdout.decode('utf-8')[17:34], 16)\n",
    "        m.to_csv(txt)"
   ]
  },
  {
   "cell_type": "code",
   "execution_count": 4,
   "metadata": {},
   "outputs": [],
   "source": [
    "def plot_entropies(txtfiles):\n",
    "    df_list = [pd.read_csv(file) for file in txtfiles]\n",
    "    big_df = pd.concat(df_list)\n",
    "    return big_df"
   ]
  },
  {
   "cell_type": "code",
   "execution_count": 5,
   "metadata": {},
   "outputs": [
    {
     "ename": "NameError",
     "evalue": "name 'all_txt' is not defined",
     "output_type": "error",
     "traceback": [
      "\u001b[0;31m---------------------------------------------------------------------------\u001b[0m",
      "\u001b[0;31mNameError\u001b[0m                                 Traceback (most recent call last)",
      "\u001b[0;32m<ipython-input-5-7652981ec9b8>\u001b[0m in \u001b[0;36m<module>\u001b[0;34m()\u001b[0m\n\u001b[0;32m----> 1\u001b[0;31m \u001b[0mpd\u001b[0m\u001b[0;34m.\u001b[0m\u001b[0mread_csv\u001b[0m\u001b[0;34m(\u001b[0m\u001b[0mall_txt\u001b[0m\u001b[0;34m[\u001b[0m\u001b[0;36m0\u001b[0m\u001b[0;34m]\u001b[0m\u001b[0;34m)\u001b[0m\u001b[0;34m\u001b[0m\u001b[0m\n\u001b[0m",
      "\u001b[0;31mNameError\u001b[0m: name 'all_txt' is not defined"
     ]
    }
   ],
   "source": [
    "pd.read_csv(all_txt[0])"
   ]
  },
  {
   "cell_type": "code",
   "execution_count": 6,
   "metadata": {},
   "outputs": [
    {
     "ename": "NameError",
     "evalue": "name 'all_txt' is not defined",
     "output_type": "error",
     "traceback": [
      "\u001b[0;31m---------------------------------------------------------------------------\u001b[0m",
      "\u001b[0;31mNameError\u001b[0m                                 Traceback (most recent call last)",
      "\u001b[0;32m<ipython-input-6-a3f12d328f63>\u001b[0m in \u001b[0;36m<module>\u001b[0;34m()\u001b[0m\n\u001b[0;32m----> 1\u001b[0;31m \u001b[0mplot_entropies\u001b[0m\u001b[0;34m(\u001b[0m\u001b[0mall_txt\u001b[0m\u001b[0;34m)\u001b[0m\u001b[0;34m\u001b[0m\u001b[0m\n\u001b[0m",
      "\u001b[0;31mNameError\u001b[0m: name 'all_txt' is not defined"
     ]
    }
   ],
   "source": [
    "plot_entropies(all_txt)"
   ]
  },
  {
   "cell_type": "code",
   "execution_count": 86,
   "metadata": {},
   "outputs": [],
   "source": [
    "all_dat = sorted(glob('./haystacks/*.dat'))\n",
    "all_txt = sorted(glob('./haystacks/*.txt'))\n",
    "scan.run_scan(all_dat, all_txt)"
   ]
  },
  {
   "cell_type": "code",
   "execution_count": null,
   "metadata": {},
   "outputs": [],
   "source": [
    "    #plot_entropies(textfiles)"
   ]
  },
  {
   "cell_type": "code",
   "execution_count": 79,
   "metadata": {},
   "outputs": [
    {
     "data": {
      "text/html": [
       "<div>\n",
       "<style>\n",
       "    .dataframe thead tr:only-child th {\n",
       "        text-align: right;\n",
       "    }\n",
       "\n",
       "    .dataframe thead th {\n",
       "        text-align: left;\n",
       "    }\n",
       "\n",
       "    .dataframe tbody tr th {\n",
       "        vertical-align: top;\n",
       "    }\n",
       "</style>\n",
       "<table border=\"1\" class=\"dataframe\">\n",
       "  <thead>\n",
       "    <tr style=\"text-align: right;\">\n",
       "      <th></th>\n",
       "      <th>dSNR</th>\n",
       "      <th>HstackSize</th>\n",
       "      <th>NeedleSize</th>\n",
       "      <th>NeedleType</th>\n",
       "      <th>StartSam</th>\n",
       "    </tr>\n",
       "  </thead>\n",
       "  <tbody>\n",
       "    <tr>\n",
       "      <th>1</th>\n",
       "      <td>-30.236528831502945</td>\n",
       "      <td>1000000</td>\n",
       "      <td>250000</td>\n",
       "      <td>sine</td>\n",
       "      <td>283359</td>\n",
       "    </tr>\n",
       "  </tbody>\n",
       "</table>\n",
       "</div>"
      ],
      "text/plain": [
       "0                 dSNR HstackSize NeedleSize NeedleType StartSam\n",
       "1  -30.236528831502945    1000000     250000       sine   283359"
      ]
     },
     "execution_count": 79,
     "metadata": {},
     "output_type": "execute_result"
    }
   ],
   "source": [
    "g = pd.read_csv(\"./haystacks/2018-03-18_130701__1.txt\", header=None).T\n",
    "g.columns = g.iloc[0]\n",
    "g = g.reindex(g.index.drop(0))\n",
    "g"
   ]
  },
  {
   "cell_type": "code",
   "execution_count": 66,
   "metadata": {},
   "outputs": [
    {
     "data": {
      "text/html": [
       "<div>\n",
       "<style>\n",
       "    .dataframe thead tr:only-child th {\n",
       "        text-align: right;\n",
       "    }\n",
       "\n",
       "    .dataframe thead th {\n",
       "        text-align: left;\n",
       "    }\n",
       "\n",
       "    .dataframe tbody tr th {\n",
       "        vertical-align: top;\n",
       "    }\n",
       "</style>\n",
       "<table border=\"1\" class=\"dataframe\">\n",
       "  <thead>\n",
       "    <tr style=\"text-align: right;\">\n",
       "      <th></th>\n",
       "      <th>dSNR</th>\n",
       "      <th>HstackSize</th>\n",
       "      <th>NeedleSize</th>\n",
       "      <th>NeedleType</th>\n",
       "      <th>StartSam</th>\n",
       "      <th>result</th>\n",
       "    </tr>\n",
       "  </thead>\n",
       "  <tbody>\n",
       "    <tr>\n",
       "      <th>1</th>\n",
       "      <td>-30.236528831502945</td>\n",
       "      <td>1000000</td>\n",
       "      <td>250000</td>\n",
       "      <td>sine</td>\n",
       "      <td>283359</td>\n",
       "      <td>4</td>\n",
       "    </tr>\n",
       "  </tbody>\n",
       "</table>\n",
       "</div>"
      ],
      "text/plain": [
       "0                 dSNR HstackSize NeedleSize NeedleType StartSam  result\n",
       "1  -30.236528831502945    1000000     250000       sine   283359       4"
      ]
     },
     "execution_count": 66,
     "metadata": {},
     "output_type": "execute_result"
    }
   ],
   "source": [
    "m = pd.read_csv(\"./haystacks/2018-03-18_130701__1.txt\", header=None)\n",
    "m = m.T\n",
    "m.columns = m.iloc[0]\n",
    "m = m.reindex(m.index.drop(0))\n",
    "m['result'] = 4\n",
    "m\n",
    "#m.to_csv('newfile.txt')"
   ]
  },
  {
   "cell_type": "code",
   "execution_count": 69,
   "metadata": {},
   "outputs": [
    {
     "data": {
      "text/html": [
       "<div>\n",
       "<style>\n",
       "    .dataframe thead tr:only-child th {\n",
       "        text-align: right;\n",
       "    }\n",
       "\n",
       "    .dataframe thead th {\n",
       "        text-align: left;\n",
       "    }\n",
       "\n",
       "    .dataframe tbody tr th {\n",
       "        vertical-align: top;\n",
       "    }\n",
       "</style>\n",
       "<table border=\"1\" class=\"dataframe\">\n",
       "  <thead>\n",
       "    <tr style=\"text-align: right;\">\n",
       "      <th></th>\n",
       "      <th>dSNR</th>\n",
       "      <th>HstackSize</th>\n",
       "      <th>NeedleSize</th>\n",
       "      <th>NeedleType</th>\n",
       "      <th>StartSam</th>\n",
       "      <th>result</th>\n",
       "    </tr>\n",
       "  </thead>\n",
       "  <tbody>\n",
       "    <tr>\n",
       "      <th>1</th>\n",
       "      <td>-30.236529</td>\n",
       "      <td>1000000</td>\n",
       "      <td>250000</td>\n",
       "      <td>sine</td>\n",
       "      <td>283359</td>\n",
       "      <td>4</td>\n",
       "    </tr>\n",
       "  </tbody>\n",
       "</table>\n",
       "</div>"
      ],
      "text/plain": [
       "        dSNR  HstackSize  NeedleSize NeedleType  StartSam  result\n",
       "1 -30.236529     1000000      250000       sine    283359       4"
      ]
     },
     "execution_count": 69,
     "metadata": {},
     "output_type": "execute_result"
    }
   ],
   "source": [
    "q = pd.read_csv(\"newfile.txt\", index_col=0)\n",
    "q"
   ]
  },
  {
   "cell_type": "code",
   "execution_count": 53,
   "metadata": {},
   "outputs": [
    {
     "ename": "SyntaxError",
     "evalue": "invalid syntax (<ipython-input-53-506bb4b1089a>, line 2)",
     "output_type": "error",
     "traceback": [
      "\u001b[0;36m  File \u001b[0;32m\"<ipython-input-53-506bb4b1089a>\"\u001b[0;36m, line \u001b[0;32m2\u001b[0m\n\u001b[0;31m    n.append(['Result':[4]])\u001b[0m\n\u001b[0m                      ^\u001b[0m\n\u001b[0;31mSyntaxError\u001b[0m\u001b[0;31m:\u001b[0m invalid syntax\n"
     ]
    }
   ],
   "source": [
    "n = pd.read_csv(\"./haystacks/2018-03-18_130701__1.txt\", header=None)\n",
    "n.append(['Result':[4]])"
   ]
  },
  {
   "cell_type": "code",
   "execution_count": 36,
   "metadata": {},
   "outputs": [
    {
     "data": {
      "text/html": [
       "<div>\n",
       "<style>\n",
       "    .dataframe thead tr:only-child th {\n",
       "        text-align: right;\n",
       "    }\n",
       "\n",
       "    .dataframe thead th {\n",
       "        text-align: left;\n",
       "    }\n",
       "\n",
       "    .dataframe tbody tr th {\n",
       "        vertical-align: top;\n",
       "    }\n",
       "</style>\n",
       "<table border=\"1\" class=\"dataframe\">\n",
       "  <thead>\n",
       "    <tr style=\"text-align: right;\">\n",
       "      <th></th>\n",
       "      <th>0</th>\n",
       "      <th>1</th>\n",
       "    </tr>\n",
       "  </thead>\n",
       "  <tbody>\n",
       "    <tr>\n",
       "      <th>0</th>\n",
       "      <td>0</td>\n",
       "      <td>-30.236528831502945</td>\n",
       "    </tr>\n",
       "    <tr>\n",
       "      <th>1</th>\n",
       "      <td>1</td>\n",
       "      <td>1000000</td>\n",
       "    </tr>\n",
       "    <tr>\n",
       "      <th>2</th>\n",
       "      <td>2</td>\n",
       "      <td>250000</td>\n",
       "    </tr>\n",
       "    <tr>\n",
       "      <th>3</th>\n",
       "      <td>3</td>\n",
       "      <td>sine</td>\n",
       "    </tr>\n",
       "    <tr>\n",
       "      <th>4</th>\n",
       "      <td>4</td>\n",
       "      <td>283359</td>\n",
       "    </tr>\n",
       "  </tbody>\n",
       "</table>\n",
       "</div>"
      ],
      "text/plain": [
       "   0                    1\n",
       "0  0  -30.236528831502945\n",
       "1  1              1000000\n",
       "2  2               250000\n",
       "3  3                 sine\n",
       "4  4               283359"
      ]
     },
     "execution_count": 36,
     "metadata": {},
     "output_type": "execute_result"
    }
   ],
   "source": [
    "q = pd.read_csv('file.txt', header=None)\n",
    "q"
   ]
  },
  {
   "cell_type": "code",
   "execution_count": 30,
   "metadata": {},
   "outputs": [
    {
     "data": {
      "text/plain": [
       "0          dSNR\n",
       "1    HstackSize\n",
       "2    NeedleSize\n",
       "3    NeedleType\n",
       "4      StartSam\n",
       "Name: 0, dtype: object"
      ]
     },
     "execution_count": 30,
     "metadata": {},
     "output_type": "execute_result"
    }
   ],
   "source": [
    "m[0]"
   ]
  },
  {
   "cell_type": "code",
   "execution_count": 22,
   "metadata": {},
   "outputs": [
    {
     "data": {
      "text/html": [
       "<div>\n",
       "<style>\n",
       "    .dataframe thead tr:only-child th {\n",
       "        text-align: right;\n",
       "    }\n",
       "\n",
       "    .dataframe thead th {\n",
       "        text-align: left;\n",
       "    }\n",
       "\n",
       "    .dataframe tbody tr th {\n",
       "        vertical-align: top;\n",
       "    }\n",
       "</style>\n",
       "<table border=\"1\" class=\"dataframe\">\n",
       "  <thead>\n",
       "    <tr>\n",
       "      <th></th>\n",
       "      <th colspan=\"5\" halign=\"left\">Vals</th>\n",
       "      <th colspan=\"5\" halign=\"left\">Vals1</th>\n",
       "    </tr>\n",
       "    <tr>\n",
       "      <th>Attr</th>\n",
       "      <th>HstackSize</th>\n",
       "      <th>NeedleSize</th>\n",
       "      <th>NeedleType</th>\n",
       "      <th>StartSam</th>\n",
       "      <th>dSNR</th>\n",
       "      <th>HstackSize</th>\n",
       "      <th>NeedleSize</th>\n",
       "      <th>NeedleType</th>\n",
       "      <th>StartSam</th>\n",
       "      <th>dSNR</th>\n",
       "    </tr>\n",
       "  </thead>\n",
       "  <tbody>\n",
       "    <tr>\n",
       "      <th>0</th>\n",
       "      <td>None</td>\n",
       "      <td>None</td>\n",
       "      <td>None</td>\n",
       "      <td>None</td>\n",
       "      <td>-30.236528831502945</td>\n",
       "      <td>None</td>\n",
       "      <td>None</td>\n",
       "      <td>None</td>\n",
       "      <td>None</td>\n",
       "      <td>-20</td>\n",
       "    </tr>\n",
       "    <tr>\n",
       "      <th>1</th>\n",
       "      <td>1000000</td>\n",
       "      <td>None</td>\n",
       "      <td>None</td>\n",
       "      <td>None</td>\n",
       "      <td>None</td>\n",
       "      <td>100</td>\n",
       "      <td>None</td>\n",
       "      <td>None</td>\n",
       "      <td>None</td>\n",
       "      <td>None</td>\n",
       "    </tr>\n",
       "    <tr>\n",
       "      <th>2</th>\n",
       "      <td>None</td>\n",
       "      <td>250000</td>\n",
       "      <td>None</td>\n",
       "      <td>None</td>\n",
       "      <td>None</td>\n",
       "      <td>None</td>\n",
       "      <td>25</td>\n",
       "      <td>None</td>\n",
       "      <td>None</td>\n",
       "      <td>None</td>\n",
       "    </tr>\n",
       "    <tr>\n",
       "      <th>3</th>\n",
       "      <td>None</td>\n",
       "      <td>None</td>\n",
       "      <td>sine</td>\n",
       "      <td>None</td>\n",
       "      <td>None</td>\n",
       "      <td>None</td>\n",
       "      <td>None</td>\n",
       "      <td>sine</td>\n",
       "      <td>None</td>\n",
       "      <td>None</td>\n",
       "    </tr>\n",
       "    <tr>\n",
       "      <th>4</th>\n",
       "      <td>None</td>\n",
       "      <td>None</td>\n",
       "      <td>None</td>\n",
       "      <td>283359</td>\n",
       "      <td>None</td>\n",
       "      <td>None</td>\n",
       "      <td>None</td>\n",
       "      <td>None</td>\n",
       "      <td>25</td>\n",
       "      <td>None</td>\n",
       "    </tr>\n",
       "  </tbody>\n",
       "</table>\n",
       "</div>"
      ],
      "text/plain": [
       "           Vals                                                      \\\n",
       "Attr HstackSize NeedleSize NeedleType StartSam                 dSNR   \n",
       "0          None       None       None     None  -30.236528831502945   \n",
       "1       1000000       None       None     None                 None   \n",
       "2          None     250000       None     None                 None   \n",
       "3          None       None       sine     None                 None   \n",
       "4          None       None       None   283359                 None   \n",
       "\n",
       "          Vals1                                       \n",
       "Attr HstackSize NeedleSize NeedleType StartSam  dSNR  \n",
       "0          None       None       None     None   -20  \n",
       "1           100       None       None     None  None  \n",
       "2          None         25       None     None  None  \n",
       "3          None       None       sine     None  None  \n",
       "4          None       None       None       25  None  "
      ]
     },
     "execution_count": 22,
     "metadata": {},
     "output_type": "execute_result"
    }
   ],
   "source": [
    "m.pivot(index = m.columns[, columns=m[0])"
   ]
  },
  {
   "cell_type": "code",
   "execution_count": null,
   "metadata": {},
   "outputs": [],
   "source": [
    "#loads binary file\n",
    "output_file = open(\"signal.dat\",\"rb\")\n",
    "totsig = np.load(output_file)\n",
    "output_file.close()"
   ]
  },
  {
   "cell_type": "code",
   "execution_count": null,
   "metadata": {},
   "outputs": [],
   "source": [
    "%load_ext watermark\n",
    "%watermark"
   ]
  },
  {
   "cell_type": "code",
   "execution_count": null,
   "metadata": {},
   "outputs": [],
   "source": [
    "\n",
    "totsig = noise[:, 0]\n"
   ]
  },
  {
   "cell_type": "code",
   "execution_count": null,
   "metadata": {},
   "outputs": [],
   "source": [
    "np.float(30)"
   ]
  },
  {
   "cell_type": "code",
   "execution_count": null,
   "metadata": {},
   "outputs": [],
   "source": [
    "noise[:,0].mean()"
   ]
  },
  {
   "cell_type": "code",
   "execution_count": 137,
   "metadata": {},
   "outputs": [],
   "source": [
    "dSNR = 29.18\n",
    "\n",
    "sigma = 100*pow(3+pow(10,dSNR/np.float(20)),-1)\n",
    "#guass = np.random.normal(0, scale=sigma, size=1000)"
   ]
  },
  {
   "cell_type": "code",
   "execution_count": 138,
   "metadata": {},
   "outputs": [
    {
     "data": {
      "text/plain": [
       "3.147228862966468"
      ]
     },
     "execution_count": 138,
     "metadata": {},
     "output_type": "execute_result"
    }
   ],
   "source": [
    "sigma"
   ]
  },
  {
   "cell_type": "code",
   "execution_count": 139,
   "metadata": {},
   "outputs": [],
   "source": [
    "output_file = open('guass.dat', \"wb\")\n",
    "np.save(output_file, guass.astype(np.int8))\n",
    "output_file.close()"
   ]
  },
  {
   "cell_type": "code",
   "execution_count": 140,
   "metadata": {},
   "outputs": [],
   "source": [
    "input_file = open('guass.dat',\"rb\")\n",
    "quant_guass = np.load(input_file)\n",
    "input_file.close()"
   ]
  },
  {
   "cell_type": "code",
   "execution_count": 141,
   "metadata": {},
   "outputs": [
    {
     "data": {
      "image/png": "[encoded data removed]",
      "text/plain": [
       "<matplotlib.figure.Figure at 0x1c168c0f98>"
      ]
     },
     "metadata": {},
     "output_type": "display_data"
    }
   ],
   "source": [
    "plt.hist(quant_guass, bins=50);"
   ]
  },
  {
   "cell_type": "code",
   "execution_count": null,
   "metadata": {
    "scrolled": false
   },
   "outputs": [],
   "source": [
    "fig, axs = plt.subplots(ncols=3, figsize=[20, 7])\n",
    "#axs[0].hist(totsig, bins=501\n",
    "axs[0].hist(quant_guass,  lw=2, fc=(1, 0.7, .2, 0.5), bins=10)\n",
    "\n",
    "f, t, Sxx = signal.spectrogram(totsig)\n",
    "axs[1].pcolormesh(t, f, Sxx)\n",
    "\n",
    "axs[2].plot(totsig)\n",
    "axs[2].plot(guass, color = 'orange', alpha=0.5)\n",
    "\n",
    "plt.show()\n"
   ]
  },
  {
   "cell_type": "code",
   "execution_count": null,
   "metadata": {},
   "outputs": [],
   "source": [
    "#Creating noise\n",
    "SigSize = 200\n",
    "nSig = 100\n",
    "dSNR = np.repeat(30, nSig)\n",
    "sigma = 100*pow(3+pow(10,dSNR/20.),-1)\n",
    "noise = np.random.normal(0,sigma, (1000, 100))"
   ]
  },
  {
   "cell_type": "code",
   "execution_count": null,
   "metadata": {},
   "outputs": [],
   "source": [
    "dSNR=(1, 15)\n",
    "n=10\n",
    "TotSize=1000"
   ]
  },
  {
   "cell_type": "code",
   "execution_count": null,
   "metadata": {},
   "outputs": [],
   "source": [
    "dSNR[1]"
   ]
  },
  {
   "cell_type": "code",
   "execution_count": null,
   "metadata": {},
   "outputs": [],
   "source": [
    "dSNR = np.random.uniform(low=dSNR[0], high=dSNR[1], size=n)\n",
    "sigma = 100*pow(3+pow(10,dSNR/20.),-1)\n",
    "\n",
    "#Creating noise matrix\n",
    "signal = np.random.normal(0,sigma, size=(TotSize, n))\n",
    "sigma"
   ]
  },
  {
   "cell_type": "code",
   "execution_count": null,
   "metadata": {},
   "outputs": [],
   "source": [
    "signal.shape"
   ]
  },
  {
   "cell_type": "code",
   "execution_count": null,
   "metadata": {},
   "outputs": [],
   "source": [
    "zero.shape"
   ]
  },
  {
   "cell_type": "code",
   "execution_count": 142,
   "metadata": {},
   "outputs": [
    {
     "name": "stdout",
     "output_type": "stream",
     "text": [
      "7.02 s ± 364 ms per loop (mean ± std. dev. of 7 runs, 1 loop each)\n"
     ]
    }
   ],
   "source": [
    "%%timeit\n",
    "np.random.seed(121)\n",
    "\n",
    "#Defining/computing variables\n",
    "nSig = 100\n",
    "TotSize = 1000000\n",
    "SigSize = 250000\n",
    "dSNR = np.repeat(20, nSig)\n",
    "sigma = 100*pow(3+pow(10,dSNR/20.),-1)\n",
    "\n",
    "#Creating noise matrix\n",
    "noise = np.random.normal(0,sigma, (TotSize, nSig))\n",
    "\n",
    "#Creating injected signal matrix\n",
    "w = np.arange(SigSize)\n",
    "w.shape\n",
    "w = w.reshape(SigSize,1)\n",
    "\n",
    "uni_mul = np.random.uniform(size=(1, nSig))\n",
    "uni_add = np.repeat([np.random.uniform(size=nSig)], SigSize).reshape(nSig,SigSize).T\n",
    "                            \n",
    "y = sigma*pow(10,dSNR/20)*np.sin(2*np.pi*((w@uni_mul) + uni_add))\n",
    "\n",
    "#Adding each signal at the correct place within the noise matrix\n",
    "LastStartR= (TotSize-SigSize)/TotSize\n",
    "StartR = np.random.uniform(0, LastStartR, size=nSig)\n",
    "StartSam = np.round((StartR*TotSize).astype(float)).astype(int)\n",
    "\n",
    "for sig in np.arange(nSig):\n",
    "    noise[:,sig][StartSam[sig]:StartSam[sig]+SigSize] = y[0:SigSize, sig]"
   ]
  },
  {
   "cell_type": "code",
   "execution_count": null,
   "metadata": {},
   "outputs": [],
   "source": [
    "StartSam.shape"
   ]
  },
  {
   "cell_type": "code",
   "execution_count": null,
   "metadata": {},
   "outputs": [],
   "source": [
    "noise.shape"
   ]
  },
  {
   "cell_type": "code",
   "execution_count": null,
   "metadata": {},
   "outputs": [],
   "source": [
    "plt.plot(noise[:, 40])"
   ]
  },
  {
   "cell_type": "code",
   "execution_count": null,
   "metadata": {},
   "outputs": [],
   "source": [
    "#Creating signal\n",
    "np.random.seed(111)\n",
    "SigSize = 200\n",
    "nSig = 100\n",
    "dSNR = np.repeat(30, nSig)\n",
    "sigma = 100*pow(3+pow(10,dSNR/20.),-1)\n",
    "\n",
    "w = np.arange(SigSize)\n",
    "w.shape\n",
    "w = w.reshape(SigSize,1)\n",
    "\n",
    "uni_mul = np.random.uniform(size=(1, nSig))\n",
    "uni_add = np.repeat([np.random.uniform(size=nSig)], SigSize).reshape(nSig,SigSize).T\n",
    "                            \n",
    "y = sigma*pow(10,dSNR/20)*np.sin(2*np.pi*((w@uni_mul) + uni_add))"
   ]
  },
  {
   "cell_type": "code",
   "execution_count": null,
   "metadata": {},
   "outputs": [],
   "source": [
    "y.shape"
   ]
  },
  {
   "cell_type": "code",
   "execution_count": null,
   "metadata": {},
   "outputs": [],
   "source": [
    "plt.plot(y[0:200, 0]);"
   ]
  },
  {
   "cell_type": "code",
   "execution_count": null,
   "metadata": {},
   "outputs": [],
   "source": [
    "np.random.seed(111)\n",
    "dSNR1=30\n",
    "nSigSam1=200\n",
    "x = sigma*pow(10,dSNR1/20)*np.sin(2*np.pi*(np.random.uniform()*np.arange(nSigSam1) + np.random.uniform()))\n",
    "\n",
    "plt.plot(x);"
   ]
  },
  {
   "cell_type": "code",
   "execution_count": null,
   "metadata": {},
   "outputs": [],
   "source": [
    "np.random.seed(111)\n",
    "x[0:200]"
   ]
  },
  {
   "cell_type": "code",
   "execution_count": null,
   "metadata": {},
   "outputs": [],
   "source": [
    "sig = np.zeros(np.array([10,2]))"
   ]
  },
  {
   "cell_type": "code",
   "execution_count": null,
   "metadata": {},
   "outputs": [],
   "source": [
    "sig\n"
   ]
  },
  {
   "cell_type": "code",
   "execution_count": null,
   "metadata": {},
   "outputs": [],
   "source": [
    "start = np.array([2, 4])\n",
    "end = np.array([6, 9])"
   ]
  },
  {
   "cell_type": "code",
   "execution_count": null,
   "metadata": {},
   "outputs": [],
   "source": [
    "sig[start:end]"
   ]
  },
  {
   "cell_type": "code",
   "execution_count": null,
   "metadata": {},
   "outputs": [],
   "source": [
    "import pandas as pd\n",
    "pd.Timestamp.today()"
   ]
  },
  {
   "cell_type": "code",
   "execution_count": null,
   "metadata": {},
   "outputs": [],
   "source": [
    "'signals/[' + str(1) + ']_' + str(time.date()) + '_' + str(time.time())"
   ]
  },
  {
   "cell_type": "code",
   "execution_count": null,
   "metadata": {},
   "outputs": [],
   "source": [
    "time = pd.Timestamp.today()\n",
    "index = np.arange(10000)"
   ]
  },
  {
   "cell_type": "code",
   "execution_count": null,
   "metadata": {},
   "outputs": [],
   "source": [
    "time = pd.Timestamp.today()\n",
    "for sig_index in np.arange(n):\n",
    "    '(' + str(sig_index) ') ' + str(time)\n",
    "    "
   ]
  },
  {
   "cell_type": "code",
   "execution_count": null,
   "metadata": {},
   "outputs": [],
   "source": [
    "'signals/(' + str(1) + ') ' + str(time)"
   ]
  },
  {
   "cell_type": "code",
   "execution_count": null,
   "metadata": {},
   "outputs": [],
   "source": [
    "zer = np.zeros(shape=(5,10))"
   ]
  },
  {
   "cell_type": "code",
   "execution_count": null,
   "metadata": {},
   "outputs": [],
   "source": [
    "qSNR = np.random.uniform(0, 10, size=10)\n"
   ]
  },
  {
   "cell_type": "code",
   "execution_count": null,
   "metadata": {},
   "outputs": [],
   "source": [
    "np.random.seed(111)\n",
    "dSNR = np.random.uniform(0, 10, size=10)\n",
    "metadata = pd.DataFrame()\n",
    "metadata['dSNR'] = pd.Series(dSNR)\n",
    "metadata['qSNR'] = pd.Series(qSNR)\n",
    "print(metadata.iloc[1])"
   ]
  },
  {
   "cell_type": "code",
   "execution_count": null,
   "metadata": {},
   "outputs": [],
   "source": [
    "metadata.iloc[1].to_pickle('random.txt')"
   ]
  },
  {
   "cell_type": "code",
   "execution_count": null,
   "metadata": {},
   "outputs": [],
   "source": [
    "\n",
    "x = pd.read_pickle('random.txt')"
   ]
  },
  {
   "cell_type": "code",
   "execution_count": null,
   "metadata": {},
   "outputs": [],
   "source": [
    "x.index"
   ]
  },
  {
   "cell_type": "code",
   "execution_count": null,
   "metadata": {},
   "outputs": [],
   "source": [
    "df = pd.DataFrame(t)\n",
    "df"
   ]
  },
  {
   "cell_type": "code",
   "execution_count": null,
   "metadata": {},
   "outputs": [],
   "source": [
    "pd.DataFrame([dSNR, qSNR ] )"
   ]
  },
  {
   "cell_type": "code",
   "execution_count": null,
   "metadata": {},
   "outputs": [],
   "source": [
    "metadata = pd.DataFrame()\n",
    "metadata['dSNR'] = pd.Series(dSNR)\n",
    "metadata = pd.DataFrame()\n",
    "metadata['dSNR'] = pd.Series(dSNR)\n",
    "metadata"
   ]
  },
  {
   "cell_type": "code",
   "execution_count": null,
   "metadata": {},
   "outputs": [],
   "source": [
    "metadata"
   ]
  },
  {
   "cell_type": "code",
   "execution_count": null,
   "metadata": {},
   "outputs": [],
   "source": []
  }
 ],
 "metadata": {
  "kernelspec": {
   "display_name": "Python 3",
   "language": "python",
   "name": "python3"
  },
  "language_info": {
   "codemirror_mode": {
    "name": "ipython",
    "version": 3
   },
   "file_extension": ".py",
   "mimetype": "text/x-python",
   "name": "python",
   "nbconvert_exporter": "python",
   "pygments_lexer": "ipython3",
   "version": "3.6.1"
  }
 },
 "nbformat": 4,
 "nbformat_minor": 2
}
