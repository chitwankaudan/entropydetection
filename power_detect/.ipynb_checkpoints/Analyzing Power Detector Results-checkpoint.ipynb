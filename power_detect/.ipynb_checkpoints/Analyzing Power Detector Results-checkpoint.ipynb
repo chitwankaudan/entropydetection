{
 "cells": [
  {
   "cell_type": "markdown",
   "metadata": {},
   "source": [
    "To run this ntbk, make sure you have created the entropy environment and have opened the ntbk in this environment. \n",
    "To make the environment go to the repo with the environment.ym file and enter into the terminal:\n",
    "\n",
    "conda env create -f environment.yml\n",
    "\n",
    "To activate:\n",
    "\n",
    "source activate entropy\n",
    "\n",
    "Then to launch ntbk in browser:\n",
    "\n",
    "jupyter notebook"
   ]
  },
  {
   "cell_type": "code",
   "execution_count": 5,
   "metadata": {},
   "outputs": [],
   "source": [
    "import sys\n",
    "import numpy as np\n",
    "import pandas as pd\n",
    "import matplotlib.pyplot as plt\n",
    "import seaborn as sns\n",
    "from scipy import signal\n",
    "from glob import glob\n"
   ]
  },
  {
   "cell_type": "markdown",
   "metadata": {},
   "source": [
    "## Background\n",
    "\n",
    "For higher SNR(db) or stronger sinusodials, the power detector is consistently outputting a **higher** energy for just noise than for noise + sine.\n",
    "\n",
    "This ntbk is going to analyze a sample of smaller signals. Note:\n",
    "* haystack (noise + sine) = 100 samples\n",
    "* needle (sine) = 10 samples\n",
    "* noise sd = 10 (fixed across all haystacks)\n",
    "* sine amplitude = 10 \\* 10^(SNR dbs/20)\n",
    "* sine freq and phase are randomly selected for each haystack\n",
    "* NOTE: this behavior showed up in large haystacks/needles (1M sample hstack / 250K sample needle); I'm recreating the behavior here with smaller signals to make it eaiser to visually analyze\n",
    "\n",
    "The dir power_detect contains 5 haystacks at each db level [-20, -10, -5.0, 0.5, 5.0, 10, 20]. Each haystack has a quantized (int8) and raw version of the haystack, the noise, and the sine. \n",
    "    "
   ]
  },
  {
   "cell_type": "markdown",
   "metadata": {},
   "source": [
    "## Sine at 20 db"
   ]
  },
  {
   "cell_type": "code",
   "execution_count": 31,
   "metadata": {},
   "outputs": [],
   "source": [
    "meta_20db_1 = pd.read_csv(\"1_20.0db.txt\", squeeze=True, header=None, index_col=0).T\n",
    "\n",
    "haystack_20db_1 = np.load(\"1_20.0db_quantized_haystack.npy\")\n",
    "raw_haystack_20db_1 = np.load(\"1_20.0db_raw_haystack.npy\")\n",
    "\n",
    "noise_20db_1 = np.load(\"1_20.0db_quantized_noise.npy\")\n",
    "raw_noise_20db_1 = np.load(\"1_20.0db_raw_noise.npy\")\n",
    "\n",
    "needle_20db_1 = np.load(\"1_20.0db_quantized_needle.npy\")\n",
    "raw_needle_20db_1 = np.load(\"1_20.0db_raw_needle.npy\")"
   ]
  },
  {
   "cell_type": "code",
   "execution_count": 32,
   "metadata": {},
   "outputs": [
    {
     "data": {
      "image/png": "[encoded data removed]",
      "text/plain": [
       "<matplotlib.figure.Figure at 0x1c19511198>"
      ]
     },
     "metadata": {},
     "output_type": "display_data"
    }
   ],
   "source": [
    "plt.plot(haystack_20db_1);"
   ]
  },
  {
   "cell_type": "code",
   "execution_count": 61,
   "metadata": {},
   "outputs": [
    {
     "name": "stdout",
     "output_type": "stream",
     "text": [
      "Raw Hstack: \n",
      " [[ 1.94943403e+01  4.90639251e+00  9.59836583e-01  8.29948476e-01\n",
      "  -5.86328007e+00 -9.07792461e+00 -6.00073293e+00 -1.39052584e+01\n",
      "  -1.75542481e+01 -5.94986805e+00  9.91456624e+00  1.73689019e+01\n",
      "   1.92632239e+00  4.64534884e-02 -2.18999431e+00 -1.42344711e+01\n",
      "   1.16625529e+01  9.94082921e+00  1.48346418e+01  1.15023268e+01\n",
      "  -5.85679717e+00 -1.33400507e+01 -8.05593170e-01 -3.74409991e+00\n",
      "   1.48997270e+01 -1.79959103e+01 -1.52617559e+01  1.12526802e+01\n",
      "  -2.16613816e+00 -6.15464067e+00  1.46380270e+00  1.81272634e+00\n",
      "  -1.57335739e+01 -1.03439762e+01 -8.96386988e+00  5.22815351e+00\n",
      "  -2.29300702e+00 -6.57007559e+00  1.02954949e+01 -8.17256564e-01\n",
      "   7.20304447e+00 -8.05718479e+00  6.18014054e+00 -9.78596041e+00\n",
      "  -1.23996969e+00  3.74835593e+00  1.32822139e+01  1.32504172e+01\n",
      "  -9.50139723e+00  2.18364620e+01  2.69514916e+00 -2.05246581e+01\n",
      "   1.34144758e+01 -1.27286252e+01  2.12930304e+00  1.98469871e+00\n",
      "   3.02050705e+00  7.37547568e+00  1.56171241e+01  3.81854041e+00\n",
      "   1.10416272e+01 -6.49639477e+00  7.94139730e+00  1.60400806e+00\n",
      "  -7.90806491e+00 -3.46986469e+00 -9.67023753e+00  1.26926021e+01\n",
      "   1.40776751e+01  1.78817893e+01 -9.74520830e+00  8.37603970e+00\n",
      "  -8.45803176e+00  1.25151050e+01 -9.37420277e+00  7.68833257e+01\n",
      "  -1.11115252e+02  3.10655557e+01  3.55995218e+01 -9.39737406e+01\n",
      "   6.93588141e+01  3.15112509e+01 -1.07731585e+02  7.75643928e+01\n",
      "   9.40008034e-01  8.09318028e+00 -1.24983607e+01 -1.23003830e+01\n",
      "   1.08053350e+01  3.96448451e+00 -1.07265781e+01  9.63646726e+00\n",
      "   1.02335539e+01 -6.17926423e+00 -1.03558524e+01  1.12084076e+01\n",
      "  -2.66545692e+00 -3.20901534e+00  1.53228771e+01 -1.80977165e+01]] \n",
      "\n",
      "Quantized Hstack: \n",
      " [[  19    4    0    0   -5   -9   -6  -13  -17   -5    9   17    1    0\n",
      "    -2  -14   11    9   14   11   -5  -13    0   -3   14  -17  -15   11\n",
      "    -2   -6    1    1  -15  -10   -8    5   -2   -6   10    0    7   -8\n",
      "     6   -9   -1    3   13   13   -9   21    2  -20   13  -12    2    1\n",
      "     3    7   15    3   11   -6    7    1   -7   -3   -9   12   14   17\n",
      "    -9    8   -8   12   -9   76 -111   31   35  -93   69   31 -107   77\n",
      "     0    8  -12  -12   10    3  -10    9   10   -6  -10   11   -2   -3\n",
      "    15  -18]] \n",
      "\n",
      "Raw Noise: \n",
      " [[ 19.49434028   4.90639251   0.95983658   0.82994848  -5.86328007\n",
      "   -9.07792461  -6.00073293 -13.90525841 -17.55424814  -5.94986805\n",
      "    9.91456624  17.36890187   1.92632239   0.04645349  -2.18999431\n",
      "  -14.23447109  11.66255292   9.94082921  14.83464176  11.50232679\n",
      "   -5.85679717 -13.34005068  -0.80559317  -3.74409991  14.89972699\n",
      "  -17.99591031 -15.26175588  11.25268016  -2.16613816  -6.15464067\n",
      "    1.4638027    1.81272634 -15.73357389 -10.34397623  -8.96386988\n",
      "    5.22815351  -2.29300702  -6.57007559  10.29549492  -0.81725656\n",
      "    7.20304447  -8.05718479   6.18014054  -9.78596041  -1.23996969\n",
      "    3.74835593  13.28221389  13.25041724  -9.50139723  21.83646203\n",
      "    2.69514916 -20.52465814  13.41447577 -12.72862519   2.12930304\n",
      "    1.98469871   3.02050705   7.37547568  15.61712409   3.81854041\n",
      "   11.0416272   -6.49639477   7.9413973    1.60400806  -7.90806491\n",
      "   -3.46986469  -9.67023753  12.69260215  14.07767508  17.88178932\n",
      "   -9.7452083    8.3760397   -8.45803176  12.51510504  -9.37420277\n",
      "   -1.23265959 -14.8906907   -2.77296116 -21.25490125   6.01325774\n",
      "    9.88124822   0.72468506 -12.43473806  -2.52417486  -1.17610059\n",
      "    8.09318028 -12.49836071 -12.30038303  10.80533499   3.96448451\n",
      "  -10.72657814   9.63646726  10.23355393  -6.17926423 -10.35585241\n",
      "   11.2084076   -2.66545692  -3.20901534  15.32287707 -18.09771648]] \n",
      "\n",
      "Quantized Noise: \n",
      " [[ 19   4   0   0  -5  -9  -6 -13 -17  -5   9  17   1   0  -2 -14  11   9\n",
      "   14  11  -5 -13   0  -3  14 -17 -15  11  -2  -6   1   1 -15 -10  -8   5\n",
      "   -2  -6  10   0   7  -8   6  -9  -1   3  13  13  -9  21   2 -20  13 -12\n",
      "    2   1   3   7  15   3  11  -6   7   1  -7  -3  -9  12  14  17  -9   8\n",
      "   -8  12  -9  -1 -14  -2 -21   6   9   0 -12  -2  -1   8 -12 -12  10   3\n",
      "  -10   9  10  -6 -10  11  -2  -3  15 -18]] \n",
      "\n"
     ]
    }
   ],
   "source": [
    "#Check to see if the quantization process is occuring correctly\n",
    "#Check out raw haystack and raw noise\n",
    "print(\"Raw Hstack:\", \"\\n\", raw_haystack_20db_1.T, \"\\n\")\n",
    "print(\"Quantized Hstack:\", \"\\n\", haystack_20db_1.T, \"\\n\")\n",
    "print(\"Raw Noise:\", \"\\n\", raw_noise_20db_1.T, \"\\n\")\n",
    "print(\"Quantized Noise:\", \"\\n\", noise_20db_1.T, \"\\n\")"
   ]
  },
  {
   "cell_type": "code",
   "execution_count": 63,
   "metadata": {
    "scrolled": false
   },
   "outputs": [
    {
     "name": "stdout",
     "output_type": "stream",
     "text": [
      "Hstack - Noise \n",
      " [[  0.           0.           0.           0.           0.\n",
      "    0.           0.           0.           0.           0.\n",
      "    0.           0.           0.           0.           0.\n",
      "    0.           0.           0.           0.           0.\n",
      "    0.           0.           0.           0.           0.\n",
      "    0.           0.           0.           0.           0.\n",
      "    0.           0.           0.           0.           0.\n",
      "    0.           0.           0.           0.           0.\n",
      "    0.           0.           0.           0.           0.\n",
      "    0.           0.           0.           0.           0.\n",
      "    0.           0.           0.           0.           0.\n",
      "    0.           0.           0.           0.           0.\n",
      "    0.           0.           0.           0.           0.\n",
      "    0.           0.           0.           0.           0.\n",
      "    0.           0.           0.           0.           0.\n",
      "   78.11598531 -96.22456151  33.83851685  56.85442306 -99.98699838\n",
      "   59.4775659   30.78656581 -95.29684733  80.08856767   2.11610863\n",
      "    0.           0.           0.           0.           0.\n",
      "    0.           0.           0.           0.           0.\n",
      "    0.           0.           0.           0.           0.        ]] \n",
      "\n",
      "Hstack - Noise with 0's removed: \n",
      " [ 78.11598531 -96.22456151  33.83851685  56.85442306 -99.98699838\n",
      "  59.4775659   30.78656581 -95.29684733  80.08856767   2.11610863] \n",
      "\n",
      "Sine: \n",
      " [[ 78.11598531 -96.22456151  33.83851685  56.85442306 -99.98699838\n",
      "   59.4775659   30.78656581 -95.29684733  80.08856767   2.11610863]] \n",
      "\n",
      "[[  19    4    0    0   -5   -9   -6  -13  -17   -5    9   17    1    0\n",
      "    -2  -14   11    9   14   11   -5  -13    0   -3   14  -17  -15   11\n",
      "    -2   -6    1    1  -15  -10   -8    5   -2   -6   10    0    7   -8\n",
      "     6   -9   -1    3   13   13   -9   21    2  -20   13  -12    2    1\n",
      "     3    7   15    3   11   -6    7    1   -7   -3   -9   12   14   17\n",
      "    -9    8   -8   12   -9   76 -111   31   35  -93   69   31 -107   77\n",
      "     0    8  -12  -12   10    3  -10    9   10   -6  -10   11   -2   -3\n",
      "    15  -18]] \n",
      "\n"
     ]
    }
   ],
   "source": [
    "#Their differences should be exactly the sine \n",
    "print(\"Hstack - Noise\", \"\\n\", (raw_haystack_20db_1 - raw_noise_20db_1).T,\"\\n\")\n",
    "print(\"Hstack - Noise with 0's removed:\", \"\\n\", (raw_haystack_20db_1 - raw_noise_20db_1)[np.nonzero((raw_haystack_20db_1 - raw_noise_20db_1))], \"\\n\")\n",
    "print(\"Sine:\",\"\\n\", raw_needle_20db_1.T, '\\n')\n",
    "\n",
    "#Check to make sure quantization is right \n",
    "print(haystack_20db_1.T, \"\\n\")"
   ]
  },
  {
   "cell_type": "code",
   "execution_count": 67,
   "metadata": {},
   "outputs": [
    {
     "name": "stdout",
     "output_type": "stream",
     "text": [
      "Quantized Hstack 1 Energy: 11.9\n",
      "Quantized Noise 1 Energy: 15.22\n",
      "Raw Hstack 1 Energy: 623.5266326106473\n",
      "Raw Noise 1 Energy: 105.8415556142779\n",
      "\n",
      "\n",
      "Quantized Hstack 2 Energy: 8.52\n",
      "Quantized Noise 2 Energy: 14.49\n",
      "Raw Hstack 2 Energy: 647.8079872046704\n",
      "Raw Noise 2 Energy: 98.30841743852041\n",
      "\n",
      "\n",
      "Quantized Hstack 3 Energy: 7.84\n",
      "Quantized Noise 3 Energy: 10.2\n",
      "Raw Hstack 3 Energy: 576.6059086516734\n",
      "Raw Noise 3 Energy: 109.17976727424725\n",
      "\n",
      "\n",
      "Quantized Hstack 4 Energy: 17.63\n",
      "Quantized Noise 4 Energy: 23.12\n",
      "Raw Hstack 4 Energy: 593.8626120760699\n",
      "Raw Noise 4 Energy: 103.08714748528975\n",
      "\n",
      "\n",
      "Quantized Hstack 5 Energy: 20.86\n",
      "Quantized Noise 5 Energy: 24.75\n",
      "Raw Hstack 5 Energy: 611.0727172753109\n",
      "Raw Noise 5 Energy: 89.16147884860551\n",
      "\n",
      "\n"
     ]
    }
   ],
   "source": [
    "#Seems like the haystack is being created correctly\n",
    "#Let's check the energy outputted by the 5 sigals at this db\n",
    "for i in np.arange(1,6):\n",
    "    quantized_hstack = np.load(str(i) + \"_20.0db_quantized_haystack.npy\")\n",
    "    quantized_noise = np.load(str(i) + \"_20.0db_quantized_noise.npy\")\n",
    "    print(\"Quantized Hstack \" + str(i) + \" Energy:\", np.mean(np.power(quantized_hstack,2)))\n",
    "    print(\"Quantized Noise \" + str(i) + \" Energy:\", np.mean(np.power(quantized_noise,2)))\n",
    "\n",
    "    raw_hstack = np.load(str(i) + \"_20.0db_raw_haystack.npy\")\n",
    "    raw_noise = np.load(str(i) + \"_20.0db_raw_noise.npy\")\n",
    "    print(\"Raw Hstack \" + str(i) + \" Energy:\", np.mean(np.power(raw_hstack,2)))\n",
    "    print(\"Raw Noise \" + str(i) + \" Energy:\", np.mean(np.power(raw_noise,2)))\n",
    "    \n",
    "    print('\\n')"
   ]
  },
  {
   "cell_type": "markdown",
   "metadata": {},
   "source": [
    "## Sine at 10 db"
   ]
  },
  {
   "cell_type": "code",
   "execution_count": 69,
   "metadata": {},
   "outputs": [],
   "source": [
    "meta_10db_1 = pd.read_csv(\"1_10.0db.txt\", squeeze=True, header=None, index_col=0).T\n",
    "\n",
    "haystack_10db_1 = np.load(\"1_10.0db_quantized_haystack.npy\")\n",
    "raw_haystack_10db_1 = np.load(\"1_10.0db_raw_haystack.npy\")\n",
    "\n",
    "noise_10db_1 = np.load(\"1_10.0db_quantized_noise.npy\")\n",
    "raw_noise_10db_1 = np.load(\"1_10.0db_raw_noise.npy\")\n",
    "\n",
    "needle_10db_1 = np.load(\"1_10.0db_quantized_needle.npy\")\n",
    "raw_needle_10db_1 = np.load(\"1_10.0db_raw_needle.npy\")"
   ]
  },
  {
   "cell_type": "code",
   "execution_count": 70,
   "metadata": {},
   "outputs": [
    {
     "data": {
      "image/png": "[encoded data removed]",
      "text/plain": [
       "<matplotlib.figure.Figure at 0x1c19810470>"
      ]
     },
     "metadata": {},
     "output_type": "display_data"
    }
   ],
   "source": [
    "plt.plot(haystack_10db_1);"
   ]
  },
  {
   "cell_type": "code",
   "execution_count": 71,
   "metadata": {},
   "outputs": [
    {
     "name": "stdout",
     "output_type": "stream",
     "text": [
      "Raw Hstack: \n",
      " [[ -0.22832372   7.17974391   3.89283413  12.67743301  15.92625674\n",
      "   -1.53570925   3.64362334 -12.49663834  22.44937561  -3.0684469\n",
      "    6.91228748  10.39477032 -11.28738125   0.84534515  19.92324405\n",
      "  -17.03777344  18.35501026  -7.65200413  -2.59927842  14.97973936\n",
      "  -29.10296593  29.76182612  13.88011916 -29.87954231 -21.02176837\n",
      "   41.00879328  -0.32854053 -16.78288689  -1.73069115  33.28726873\n",
      "    5.14689635 -13.96227564  -6.833447    -7.19962829  -8.76416222\n",
      "    0.2729175    4.68171613  -2.43758582  -8.18236001  -6.76904154\n",
      "    2.0726901  -11.98304853  14.8358866   -1.58076757   5.01362173\n",
      "   15.08551467   9.06643535  -1.57444602  11.0789766    9.51606057\n",
      "   -0.22832022   7.42583035 -13.40189141   7.87674349   8.63485123\n",
      "  -11.76799824   5.17199475   3.7218877  -11.30184477  -0.13746413\n",
      "   28.32696642  -4.3840624  -12.33871371  13.99715087   1.86639983\n",
      "   -8.95996329  15.02524653  -8.68921673 -15.07345626   5.53289021\n",
      "   -9.55406694   6.30510002   3.52116555  -3.0473011    0.45864755\n",
      "  -13.38379841   5.01849219   3.11007719  -9.33979964  10.16118801\n",
      "   10.41589474 -19.99967188 -10.0316421   -5.69880722  -0.57709205\n",
      "    9.62225468  -8.94626374  14.51663948  -1.29832215  12.25246925\n",
      "    8.36222528 -10.43543055  -6.92349117  23.08387874 -11.06316079\n",
      "   11.96999562   2.46855687  -1.3248221   -7.90568472  -6.60280599]] \n",
      "\n",
      "Quantized Hstack: \n",
      " [[  0   7   3  12  15  -1   3 -12  22  -3   6  10 -11   0  19 -17  18  -7\n",
      "   -2  14 -29  29  13 -29 -21  41   0 -16  -1  33   5 -13  -6  -7  -8   0\n",
      "    4  -2  -8  -6   2 -11  14  -1   5  15   9  -1  11   9   0   7 -13   7\n",
      "    8 -11   5   3 -11   0  28  -4 -12  13   1  -8  15  -8 -15   5  -9   6\n",
      "    3  -3   0 -13   5   3  -9  10  10 -19 -10  -5   0   9  -8  14  -1  12\n",
      "    8 -10  -6  23 -11  11   2  -1  -7  -6]] \n",
      "\n",
      "Raw Noise: \n",
      " [[ -0.22832372   7.17974391   3.89283413  12.67743301  15.92625674\n",
      "   -1.53570925   3.64362334 -12.49663834  22.44937561  -3.0684469\n",
      "    6.91228748  10.39477032 -11.28738125   0.84534515  19.92324405\n",
      "  -17.03777344  18.35501026  -7.65200413  -2.59927842  14.97973936\n",
      "   -2.76833052   9.53389597  -8.11935098  -4.93677786  -4.36792704\n",
      "   12.49684731 -10.87182102  13.98865079   2.21776227   1.66951505\n",
      "    5.14689635 -13.96227564  -6.833447    -7.19962829  -8.76416222\n",
      "    0.2729175    4.68171613  -2.43758582  -8.18236001  -6.76904154\n",
      "    2.0726901  -11.98304853  14.8358866   -1.58076757   5.01362173\n",
      "   15.08551467   9.06643535  -1.57444602  11.0789766    9.51606057\n",
      "   -0.22832022   7.42583035 -13.40189141   7.87674349   8.63485123\n",
      "  -11.76799824   5.17199475   3.7218877  -11.30184477  -0.13746413\n",
      "   28.32696642  -4.3840624  -12.33871371  13.99715087   1.86639983\n",
      "   -8.95996329  15.02524653  -8.68921673 -15.07345626   5.53289021\n",
      "   -9.55406694   6.30510002   3.52116555  -3.0473011    0.45864755\n",
      "  -13.38379841   5.01849219   3.11007719  -9.33979964  10.16118801\n",
      "   10.41589474 -19.99967188 -10.0316421   -5.69880722  -0.57709205\n",
      "    9.62225468  -8.94626374  14.51663948  -1.29832215  12.25246925\n",
      "    8.36222528 -10.43543055  -6.92349117  23.08387874 -11.06316079\n",
      "   11.96999562   2.46855687  -1.3248221   -7.90568472  -6.60280599]] \n",
      "\n",
      "Quantized Noise: \n",
      " [[  0   7   3  12  15  -1   3 -12  22  -3   6  10 -11   0  19 -17  18  -7\n",
      "   -2  14  -2   9  -8  -4  -4  12 -10  13   2   1   5 -13  -6  -7  -8   0\n",
      "    4  -2  -8  -6   2 -11  14  -1   5  15   9  -1  11   9   0   7 -13   7\n",
      "    8 -11   5   3 -11   0  28  -4 -12  13   1  -8  15  -8 -15   5  -9   6\n",
      "    3  -3   0 -13   5   3  -9  10  10 -19 -10  -5   0   9  -8  14  -1  12\n",
      "    8 -10  -6  23 -11  11   2  -1  -7  -6]] \n",
      "\n"
     ]
    }
   ],
   "source": [
    "#Check to see if the quantization process is occuring correctly\n",
    "#Check out raw haystack and raw noise\n",
    "print(\"Raw Hstack:\", \"\\n\", raw_haystack_10db_1.T, \"\\n\")\n",
    "print(\"Quantized Hstack:\", \"\\n\", haystack_10db_1.T, \"\\n\")\n",
    "print(\"Raw Noise:\", \"\\n\", raw_noise_10db_1.T, \"\\n\")\n",
    "print(\"Quantized Noise:\", \"\\n\", noise_10db_1.T, \"\\n\")"
   ]
  },
  {
   "cell_type": "code",
   "execution_count": 72,
   "metadata": {
    "scrolled": false
   },
   "outputs": [
    {
     "name": "stdout",
     "output_type": "stream",
     "text": [
      "Hstack - Noise \n",
      " [[  0.           0.           0.           0.           0.\n",
      "    0.           0.           0.           0.           0.\n",
      "    0.           0.           0.           0.           0.\n",
      "    0.           0.           0.           0.           0.\n",
      "  -26.3346354   20.22793015  21.99947014 -24.94276445 -16.65384133\n",
      "   28.51194597  10.5432805  -30.77153768  -3.94845343  31.61775368\n",
      "    0.           0.           0.           0.           0.\n",
      "    0.           0.           0.           0.           0.\n",
      "    0.           0.           0.           0.           0.\n",
      "    0.           0.           0.           0.           0.\n",
      "    0.           0.           0.           0.           0.\n",
      "    0.           0.           0.           0.           0.\n",
      "    0.           0.           0.           0.           0.\n",
      "    0.           0.           0.           0.           0.\n",
      "    0.           0.           0.           0.           0.\n",
      "    0.           0.           0.           0.           0.\n",
      "    0.           0.           0.           0.           0.\n",
      "    0.           0.           0.           0.           0.\n",
      "    0.           0.           0.           0.           0.\n",
      "    0.           0.           0.           0.           0.        ]] \n",
      "\n",
      "Hstack - Noise with 0's removed: \n",
      " [-26.3346354   20.22793015  21.99947014 -24.94276445 -16.65384133\n",
      "  28.51194597  10.5432805  -30.77153768  -3.94845343  31.61775368] \n",
      "\n",
      "Sine: \n",
      " [[-26.3346354   20.22793015  21.99947014 -24.94276445 -16.65384133\n",
      "   28.51194597  10.5432805  -30.77153768  -3.94845343  31.61775368]] \n",
      "\n",
      "[[  0   7   3  12  15  -1   3 -12  22  -3   6  10 -11   0  19 -17  18  -7\n",
      "   -2  14 -29  29  13 -29 -21  41   0 -16  -1  33   5 -13  -6  -7  -8   0\n",
      "    4  -2  -8  -6   2 -11  14  -1   5  15   9  -1  11   9   0   7 -13   7\n",
      "    8 -11   5   3 -11   0  28  -4 -12  13   1  -8  15  -8 -15   5  -9   6\n",
      "    3  -3   0 -13   5   3  -9  10  10 -19 -10  -5   0   9  -8  14  -1  12\n",
      "    8 -10  -6  23 -11  11   2  -1  -7  -6]] \n",
      "\n"
     ]
    }
   ],
   "source": [
    "#Their differences should be exactly the sine \n",
    "print(\"Hstack - Noise\", \"\\n\", (raw_haystack_10db_1 - raw_noise_10db_1).T,\"\\n\")\n",
    "print(\"Hstack - Noise with 0's removed:\", \"\\n\", (raw_haystack_10db_1 - raw_noise_10db_1)[np.nonzero((raw_haystack_10db_1 - raw_noise_10db_1))], \"\\n\")\n",
    "print(\"Sine:\",\"\\n\", raw_needle_10db_1.T, '\\n')\n",
    "\n",
    "#Check to make sure quantization is right \n",
    "print(haystack_10db_1.T, \"\\n\")"
   ]
  },
  {
   "cell_type": "code",
   "execution_count": 74,
   "metadata": {},
   "outputs": [
    {
     "name": "stdout",
     "output_type": "stream",
     "text": [
      "Quantized Hstack 1 Energy: 22.09\n",
      "Quantized Noise 1 Energy: 22.8\n",
      "Raw Hstack 1 Energy: 159.22012806883288\n",
      "Raw Noise 1 Energy: 102.7306151138634\n",
      "\n",
      "\n",
      "Quantized Hstack 2 Energy: 16.18\n",
      "Quantized Noise 2 Energy: 16.08\n",
      "Raw Hstack 2 Energy: 151.76184651245873\n",
      "Raw Noise 2 Energy: 111.87508377606925\n",
      "\n",
      "\n",
      "Quantized Hstack 3 Energy: 21.85\n",
      "Quantized Noise 3 Energy: 22.79\n",
      "Raw Hstack 3 Energy: 178.043595329291\n",
      "Raw Noise 3 Energy: 79.6907268603403\n",
      "\n",
      "\n",
      "Quantized Hstack 4 Energy: 18.76\n",
      "Quantized Noise 4 Energy: 20.61\n",
      "Raw Hstack 4 Energy: 128.9596261570029\n",
      "Raw Noise 4 Energy: 70.03783780479881\n",
      "\n",
      "\n",
      "Quantized Hstack 5 Energy: 14.1\n",
      "Quantized Noise 5 Energy: 19.41\n",
      "Raw Hstack 5 Energy: 167.01029149848688\n",
      "Raw Noise 5 Energy: 109.61085185763432\n",
      "\n",
      "\n"
     ]
    }
   ],
   "source": [
    "#Seems like the haystack is being created correctly\n",
    "#Let's check the energy outputted by the 5 sigals at this db\n",
    "for i in np.arange(1,6):\n",
    "    quantized_hstack = np.load(str(i) + \"_10.0db_quantized_haystack.npy\")\n",
    "    quantized_noise = np.load(str(i) + \"_10.0db_quantized_noise.npy\")\n",
    "    print(\"Quantized Hstack \" + str(i) + \" Energy:\", np.mean(np.power(quantized_hstack,2)))\n",
    "    print(\"Quantized Noise \" + str(i) + \" Energy:\", np.mean(np.power(quantized_noise,2)))\n",
    "\n",
    "    raw_hstack = np.load(str(i) + \"_10.0db_raw_haystack.npy\")\n",
    "    raw_noise = np.load(str(i) + \"_10.0db_raw_noise.npy\")\n",
    "    print(\"Raw Hstack \" + str(i) + \" Energy:\", np.mean(np.power(raw_hstack,2)))\n",
    "    print(\"Raw Noise \" + str(i) + \" Energy:\", np.mean(np.power(raw_noise,2)))\n",
    "    \n",
    "    print('\\n')"
   ]
  },
  {
   "cell_type": "markdown",
   "metadata": {},
   "source": [
    "## Sine at 5 db"
   ]
  },
  {
   "cell_type": "code",
   "execution_count": 82,
   "metadata": {},
   "outputs": [],
   "source": [
    "meta_5db_1 = pd.read_csv(\"1_5.0db.txt\", squeeze=True, header=None, index_col=0).T\n",
    "\n",
    "haystack_5db_1 = np.load(\"1_5.0db_quantized_haystack.npy\")\n",
    "raw_haystack_5db_1 = np.load(\"1_5.0db_raw_haystack.npy\")\n",
    "\n",
    "noise_5db_1 = np.load(\"1_5.0db_quantized_noise.npy\")\n",
    "raw_noise_5db_1 = np.load(\"1_5.0db_raw_noise.npy\")\n",
    "\n",
    "needle_5db_1 = np.load(\"1_5.0db_quantized_needle.npy\")\n",
    "raw_needle_5db_1 = np.load(\"1_5.0db_raw_needle.npy\")"
   ]
  },
  {
   "cell_type": "code",
   "execution_count": 83,
   "metadata": {},
   "outputs": [
    {
     "data": {
      "image/png": "[encoded data removed]",
      "text/plain": [
       "<matplotlib.figure.Figure at 0x1c18b88940>"
      ]
     },
     "metadata": {},
     "output_type": "display_data"
    }
   ],
   "source": [
    "plt.plot(haystack_5db_1);"
   ]
  },
  {
   "cell_type": "code",
   "execution_count": 84,
   "metadata": {},
   "outputs": [
    {
     "name": "stdout",
     "output_type": "stream",
     "text": [
      "Raw Hstack: \n",
      " [[-20.4897672    1.36131348  -7.9407847  -12.23813961  15.35141896\n",
      "    0.33968053  11.46801216   4.22870532   7.59133649 -22.65158046\n",
      "   16.48246667  -9.48272562  -1.88223397 -18.14412091  -6.72841868\n",
      "   -4.89991699  -1.40585042   0.42188398  11.58636981  -6.15915018\n",
      "    3.64973906 -22.86978871  -8.88820282  -2.77704555   8.04585098\n",
      "   -3.12640042  15.50305552  -4.39895006 -23.86830963  11.9135269\n",
      "   -0.15912792 -12.72642712  -5.87647725  12.39194305   2.71693907\n",
      "   -6.67401086   0.58054716  -5.74099536  11.21129705   7.68563092\n",
      "  -19.81371611 -12.17022563  -2.65625152  -7.49666501   5.01325873\n",
      "    3.21735727 -11.01480469   4.9635693  -20.54327018 -16.28942601\n",
      "    4.02416975   1.85991306  -2.44640482   3.771889     8.52366975\n",
      "  -11.86025983 -11.57782653  -2.94872514   3.58717587  12.1424863\n",
      "   -3.48650977   1.87128781 -11.93320228  -1.20242944   0.77241875\n",
      "  -10.77015308   3.9603865    4.63117151 -19.67621854 -17.69959684\n",
      "   -8.46580326 -12.94199385  -5.58167538  -8.18795724  18.98307816\n",
      "   12.24226638  20.01653303   1.34956064 -27.14887643  -4.12837745\n",
      "    9.97002426 -12.71321928  11.49469045  -7.85101087   2.8601392\n",
      "   11.06999066  -7.57723267  -1.48133295  11.36284924  -1.6932764\n",
      "   11.15656366 -10.64493154  -5.35805959   5.71232929  11.40286119\n",
      "    9.4701586   -0.65849448   9.49873414 -13.60796579  19.90553728]] \n",
      "\n",
      "Quantized Hstack: \n",
      " [[-20   1  -7 -12  15   0  11   4   7 -22  16  -9  -1 -18  -6  -4  -1   0\n",
      "   11  -6   3 -22  -8  -2   8  -3  15  -4 -23  11   0 -12  -5  12   2  -6\n",
      "    0  -5  11   7 -19 -12  -2  -7   5   3 -11   4 -20 -16   4   1  -2   3\n",
      "    8 -11 -11  -2   3  12  -3   1 -11  -1   0 -10   3   4 -19 -17  -8 -12\n",
      "   -5  -8  18  12  20   1 -27  -4   9 -12  11  -7   2  11  -7  -1  11  -1\n",
      "   11 -10  -5   5  11   9   0   9 -13  19]] \n",
      "\n",
      "Raw Noise: \n",
      " [[-20.4897672    1.36131348  -7.9407847  -12.23813961  15.35141896\n",
      "    0.33968053  11.46801216   4.22870532   7.59133649 -22.65158046\n",
      "   16.48246667  -9.48272562  -1.88223397 -18.14412091  -6.72841868\n",
      "   -4.89991699  -1.40585042   0.42188398  11.58636981  -6.15915018\n",
      "    3.64973906  -8.78604067   7.64922146   0.075643    -5.57005554\n",
      "  -19.92351788  11.91656643   8.72514409  -6.84107036  16.22750249\n",
      "  -12.76830469 -12.72642712  -5.87647725  12.39194305   2.71693907\n",
      "   -6.67401086   0.58054716  -5.74099536  11.21129705   7.68563092\n",
      "  -19.81371611 -12.17022563  -2.65625152  -7.49666501   5.01325873\n",
      "    3.21735727 -11.01480469   4.9635693  -20.54327018 -16.28942601\n",
      "    4.02416975   1.85991306  -2.44640482   3.771889     8.52366975\n",
      "  -11.86025983 -11.57782653  -2.94872514   3.58717587  12.1424863\n",
      "   -3.48650977   1.87128781 -11.93320228  -1.20242944   0.77241875\n",
      "  -10.77015308   3.9603865    4.63117151 -19.67621854 -17.69959684\n",
      "   -8.46580326 -12.94199385  -5.58167538  -8.18795724  18.98307816\n",
      "   12.24226638  20.01653303   1.34956064 -27.14887643  -4.12837745\n",
      "    9.97002426 -12.71321928  11.49469045  -7.85101087   2.8601392\n",
      "   11.06999066  -7.57723267  -1.48133295  11.36284924  -1.6932764\n",
      "   11.15656366 -10.64493154  -5.35805959   5.71232929  11.40286119\n",
      "    9.4701586   -0.65849448   9.49873414 -13.60796579  19.90553728]] \n",
      "\n",
      "Quantized Noise: \n",
      " [[-20   1  -7 -12  15   0  11   4   7 -22  16  -9  -1 -18  -6  -4  -1   0\n",
      "   11  -6   3  -8   7   0  -5 -19  11   8  -6  16 -12 -12  -5  12   2  -6\n",
      "    0  -5  11   7 -19 -12  -2  -7   5   3 -11   4 -20 -16   4   1  -2   3\n",
      "    8 -11 -11  -2   3  12  -3   1 -11  -1   0 -10   3   4 -19 -17  -8 -12\n",
      "   -5  -8  18  12  20   1 -27  -4   9 -12  11  -7   2  11  -7  -1  11  -1\n",
      "   11 -10  -5   5  11   9   0   9 -13  19]] \n",
      "\n"
     ]
    }
   ],
   "source": [
    "#Check to see if the quantization process is occuring correctly\n",
    "#Check out raw haystack and raw noise\n",
    "print(\"Raw Hstack:\", \"\\n\", raw_haystack_5db_1.T, \"\\n\")\n",
    "print(\"Quantized Hstack:\", \"\\n\", haystack_5db_1.T, \"\\n\")\n",
    "print(\"Raw Noise:\", \"\\n\", raw_noise_5db_1.T, \"\\n\")\n",
    "print(\"Quantized Noise:\", \"\\n\", noise_5db_1.T, \"\\n\")"
   ]
  },
  {
   "cell_type": "code",
   "execution_count": 85,
   "metadata": {
    "scrolled": false
   },
   "outputs": [
    {
     "name": "stdout",
     "output_type": "stream",
     "text": [
      "Hstack - Noise \n",
      " [[  0.           0.           0.           0.           0.\n",
      "    0.           0.           0.           0.           0.\n",
      "    0.           0.           0.           0.           0.\n",
      "    0.           0.           0.           0.           0.\n",
      "    0.         -14.08374803 -16.53742428  -2.85268855  13.61590652\n",
      "   16.79711747   3.58648909 -13.12409415 -17.02723926  -4.31397559\n",
      "   12.60917676   0.           0.           0.           0.\n",
      "    0.           0.           0.           0.           0.\n",
      "    0.           0.           0.           0.           0.\n",
      "    0.           0.           0.           0.           0.\n",
      "    0.           0.           0.           0.           0.\n",
      "    0.           0.           0.           0.           0.\n",
      "    0.           0.           0.           0.           0.\n",
      "    0.           0.           0.           0.           0.\n",
      "    0.           0.           0.           0.           0.\n",
      "    0.           0.           0.           0.           0.\n",
      "    0.           0.           0.           0.           0.\n",
      "    0.           0.           0.           0.           0.\n",
      "    0.           0.           0.           0.           0.\n",
      "    0.           0.           0.           0.           0.        ]] \n",
      "\n",
      "Hstack - Noise with 0's removed: \n",
      " [-14.08374803 -16.53742428  -2.85268855  13.61590652  16.79711747\n",
      "   3.58648909 -13.12409415 -17.02723926  -4.31397559  12.60917676] \n",
      "\n",
      "Sine: \n",
      " [[-14.08374803 -16.53742428  -2.85268855  13.61590652  16.79711747\n",
      "    3.58648909 -13.12409415 -17.02723926  -4.31397559  12.60917676]] \n",
      "\n",
      "[[-20   1  -7 -12  15   0  11   4   7 -22  16  -9  -1 -18  -6  -4  -1   0\n",
      "   11  -6   3 -22  -8  -2   8  -3  15  -4 -23  11   0 -12  -5  12   2  -6\n",
      "    0  -5  11   7 -19 -12  -2  -7   5   3 -11   4 -20 -16   4   1  -2   3\n",
      "    8 -11 -11  -2   3  12  -3   1 -11  -1   0 -10   3   4 -19 -17  -8 -12\n",
      "   -5  -8  18  12  20   1 -27  -4   9 -12  11  -7   2  11  -7  -1  11  -1\n",
      "   11 -10  -5   5  11   9   0   9 -13  19]] \n",
      "\n"
     ]
    }
   ],
   "source": [
    "#Their differences should be exactly the sine \n",
    "print(\"Hstack - Noise\", \"\\n\", (raw_haystack_5db_1 - raw_noise_5db_1).T,\"\\n\")\n",
    "print(\"Hstack - Noise with 0's removed:\", \"\\n\", (raw_haystack_5db_1 - raw_noise_5db_1)[np.nonzero((raw_haystack_5db_1 - raw_noise_5db_1))], \"\\n\")\n",
    "print(\"Sine:\",\"\\n\", raw_needle_5db_1.T, '\\n')\n",
    "\n",
    "#Check to make sure quantization is right \n",
    "print(haystack_5db_1.T, \"\\n\")"
   ]
  },
  {
   "cell_type": "code",
   "execution_count": 86,
   "metadata": {},
   "outputs": [
    {
     "name": "stdout",
     "output_type": "stream",
     "text": [
      "Quantized Hstack 1 Energy: 22.02\n",
      "Quantized Noise 1 Energy: 23.18\n",
      "Raw Hstack 1 Energy: 118.32182517365862\n",
      "Raw Noise 1 Energy: 114.31561196990471\n",
      "\n",
      "\n",
      "Quantized Hstack 2 Energy: 16.63\n",
      "Quantized Noise 2 Energy: 20.02\n",
      "Raw Hstack 2 Energy: 111.57031000799796\n",
      "Raw Noise 2 Energy: 112.66055690855372\n",
      "\n",
      "\n",
      "Quantized Hstack 3 Energy: 18.72\n",
      "Quantized Noise 3 Energy: 19.13\n",
      "Raw Hstack 3 Energy: 104.62402493568896\n",
      "Raw Noise 3 Energy: 96.89699712140073\n",
      "\n",
      "\n",
      "Quantized Hstack 4 Energy: 21.14\n",
      "Quantized Noise 4 Energy: 22.8\n",
      "Raw Hstack 4 Energy: 122.6769420883917\n",
      "Raw Noise 4 Energy: 105.52068708396519\n",
      "\n",
      "\n",
      "Quantized Hstack 5 Energy: 20.66\n",
      "Quantized Noise 5 Energy: 20.35\n",
      "Raw Hstack 5 Energy: 117.92657996275467\n",
      "Raw Noise 5 Energy: 104.38465785813064\n",
      "\n",
      "\n"
     ]
    }
   ],
   "source": [
    "#Seems like the haystack is being created correctly\n",
    "#Let's check the energy outputted by the 5 sigals at this db\n",
    "for i in np.arange(1,6):\n",
    "    quantized_hstack = np.load(str(i) + \"_5.0db_quantized_haystack.npy\")\n",
    "    quantized_noise = np.load(str(i) + \"_5.0db_quantized_noise.npy\")\n",
    "    print(\"Quantized Hstack \" + str(i) + \" Energy:\", np.mean(np.power(quantized_hstack,2)))\n",
    "    print(\"Quantized Noise \" + str(i) + \" Energy:\", np.mean(np.power(quantized_noise,2)))\n",
    "\n",
    "    raw_hstack = np.load(str(i) + \"_5.0db_raw_haystack.npy\")\n",
    "    raw_noise = np.load(str(i) + \"_5.0db_raw_noise.npy\")\n",
    "    print(\"Raw Hstack \" + str(i) + \" Energy:\", np.mean(np.power(raw_hstack,2)))\n",
    "    print(\"Raw Noise \" + str(i) + \" Energy:\", np.mean(np.power(raw_noise,2)))\n",
    "    \n",
    "    print('\\n')"
   ]
  },
  {
   "cell_type": "markdown",
   "metadata": {},
   "source": [
    "## Sine at 0.5 db"
   ]
  },
  {
   "cell_type": "code",
   "execution_count": 100,
   "metadata": {},
   "outputs": [],
   "source": [
    "meta_point5db_1 = pd.read_csv(\"1_0.5db.txt\", squeeze=True, header=None, index_col=0).T\n",
    "\n",
    "haystack_point5db_1 = np.load(\"1_0.5db_quantized_haystack.npy\")\n",
    "raw_haystack_point5db_1 = np.load(\"1_0.5db_raw_haystack.npy\")\n",
    "\n",
    "noise_point5db_1 = np.load(\"1_0.5db_quantized_noise.npy\")\n",
    "raw_noise_point5db_1 = np.load(\"1_0.5db_raw_noise.npy\")\n",
    "\n",
    "needle_point5db_1 = np.load(\"1_0.5db_quantized_needle.npy\")\n",
    "raw_needle_point5db_1 = np.load(\"1_0.5db_raw_needle.npy\")"
   ]
  },
  {
   "cell_type": "code",
   "execution_count": 101,
   "metadata": {},
   "outputs": [
    {
     "data": {
      "image/png": "[encoded data removed]",
      "text/plain": [
       "<matplotlib.figure.Figure at 0x10dfa2f28>"
      ]
     },
     "metadata": {},
     "output_type": "display_data"
    }
   ],
   "source": [
    "plt.plot(haystack_point5db_1);"
   ]
  },
  {
   "cell_type": "code",
   "execution_count": 102,
   "metadata": {},
   "outputs": [
    {
     "name": "stdout",
     "output_type": "stream",
     "text": [
      "Raw Hstack: \n",
      " [[-10.19098602  -1.74794432 -13.9818028   -8.81124716   0.29916016\n",
      "    8.33691681   2.14993776   3.92206648   6.20201622 -12.87151583\n",
      "    8.14530491  17.78531111  11.31017219   3.98644904 -21.43739727\n",
      "    7.69771351   8.65493849  -8.73130459  14.51105622   0.98103822\n",
      "   10.3286988   12.71533078  13.52122169  -6.41179384   3.36072739\n",
      "    6.76147231  -8.98652219  -2.63414637  16.48111961 -11.88799381\n",
      "   -2.33544623  13.0797971   -5.7145163    3.16644551   8.89262086\n",
      "  -12.11820869  -1.46537503   7.84370609   0.66509387   7.95809837\n",
      "    5.62740358   2.25677175   5.07968705  -1.25576214  -9.71394633\n",
      "   -6.98995705   6.65912089  14.92531277  -4.37726347   9.97910598\n",
      "   -4.42230829   8.68409437   2.89933884  -2.29356558   2.26958962\n",
      "   -7.62290648   0.6711965   16.88025233   0.2326405   -2.22398508\n",
      "   -8.70478051  -0.3248846    0.19700479 -11.87855685  -2.95153156\n",
      "  -18.16888204   2.34163007   0.77568034 -15.70097095  -4.41095431\n",
      "    5.00933306  10.09934162 -19.86344443  -4.08503208   6.79914469\n",
      "   -0.79806323  -1.54462705 -17.18583745   9.59683405   9.22930946\n",
      "   -4.04421674  -4.95082188  15.18251817  -1.52456316  -1.76849404\n",
      "   15.04101591  21.54507093   5.70264646  -8.80992123   5.02464663\n",
      "    0.28670071  -9.0434963  -15.27099487 -18.3256711   11.32702044\n",
      "  -12.76035717   6.36126022   1.37507856  -3.54680505  -3.67191586]] \n",
      "\n",
      "Quantized Hstack: \n",
      " [[-10  -1 -13  -8   0   8   2   3   6 -12   8  17  11   3 -21   7   8  -8\n",
      "   14   0  10  12  13  -6   3   6  -8  -2  16 -11  -2  13  -5   3   8 -12\n",
      "   -1   7   0   7   5   2   5  -1  -9  -6   6  14  -4   9  -4   8   2  -2\n",
      "    2  -7   0  16   0  -2  -8   0   0 -11  -2 -18   2   0 -15  -4   5  10\n",
      "  -19  -4   6   0  -1 -17   9   9  -4  -4  15  -1  -1  15  21   5  -8   5\n",
      "    0  -9 -15 -18  11 -12   6   1  -3  -3]] \n",
      "\n",
      "Raw Noise: \n",
      " [[-10.19098602  -1.74794432 -13.9818028   -8.81124716   0.29916016\n",
      "    8.33691681   2.14993776   3.92206648   6.20201622 -12.87151583\n",
      "    8.14530491  17.78531111  11.31017219   3.98644904 -21.43739727\n",
      "    7.69771351   8.65493849  -8.73130459  14.51105622   0.98103822\n",
      "   10.3286988   12.71533078  13.52122169  -6.41179384   3.36072739\n",
      "    6.76147231  -8.98652219  -2.63414637  16.48111961 -11.88799381\n",
      "   -2.33544623   3.60104292   2.09596424   7.04811831  -1.69951165\n",
      "   -8.4094359    6.46900766  -1.55093782  -0.53697751  18.21416064\n",
      "   -0.52013879   2.25677175   5.07968705  -1.25576214  -9.71394633\n",
      "   -6.98995705   6.65912089  14.92531277  -4.37726347   9.97910598\n",
      "   -4.42230829   8.68409437   2.89933884  -2.29356558   2.26958962\n",
      "   -7.62290648   0.6711965   16.88025233   0.2326405   -2.22398508\n",
      "   -8.70478051  -0.3248846    0.19700479 -11.87855685  -2.95153156\n",
      "  -18.16888204   2.34163007   0.77568034 -15.70097095  -4.41095431\n",
      "    5.00933306  10.09934162 -19.86344443  -4.08503208   6.79914469\n",
      "   -0.79806323  -1.54462705 -17.18583745   9.59683405   9.22930946\n",
      "   -4.04421674  -4.95082188  15.18251817  -1.52456316  -1.76849404\n",
      "   15.04101591  21.54507093   5.70264646  -8.80992123   5.02464663\n",
      "    0.28670071  -9.0434963  -15.27099487 -18.3256711   11.32702044\n",
      "  -12.76035717   6.36126022   1.37507856  -3.54680505  -3.67191586]] \n",
      "\n",
      "Quantized Noise: \n",
      " [[-10  -1 -13  -8   0   8   2   3   6 -12   8  17  11   3 -21   7   8  -8\n",
      "   14   0  10  12  13  -6   3   6  -8  -2  16 -11  -2   3   2   7  -1  -8\n",
      "    6  -1   0  18   0   2   5  -1  -9  -6   6  14  -4   9  -4   8   2  -2\n",
      "    2  -7   0  16   0  -2  -8   0   0 -11  -2 -18   2   0 -15  -4   5  10\n",
      "  -19  -4   6   0  -1 -17   9   9  -4  -4  15  -1  -1  15  21   5  -8   5\n",
      "    0  -9 -15 -18  11 -12   6   1  -3  -3]] \n",
      "\n"
     ]
    }
   ],
   "source": [
    "#Check to see if the quantization process is occuring correctly\n",
    "#Check out raw haystack and raw noise\n",
    "print(\"Raw Hstack:\", \"\\n\", raw_haystack_point5db_1.T, \"\\n\")\n",
    "print(\"Quantized Hstack:\", \"\\n\", haystack_point5db_1.T, \"\\n\")\n",
    "print(\"Raw Noise:\", \"\\n\", raw_noise_point5db_1.T, \"\\n\")\n",
    "print(\"Quantized Noise:\", \"\\n\", noise_point5db_1.T, \"\\n\")"
   ]
  },
  {
   "cell_type": "code",
   "execution_count": 103,
   "metadata": {
    "scrolled": false
   },
   "outputs": [
    {
     "name": "stdout",
     "output_type": "stream",
     "text": [
      "Hstack - Noise \n",
      " [[  0.           0.           0.           0.           0.\n",
      "    0.           0.           0.           0.           0.\n",
      "    0.           0.           0.           0.           0.\n",
      "    0.           0.           0.           0.           0.\n",
      "    0.           0.           0.           0.           0.\n",
      "    0.           0.           0.           0.           0.\n",
      "    0.           9.47875418  -7.81048053  -3.8816728   10.59213251\n",
      "   -3.7087728   -7.9343827    9.39464391   1.20207138 -10.25606227\n",
      "    6.14754237   0.           0.           0.           0.\n",
      "    0.           0.           0.           0.           0.\n",
      "    0.           0.           0.           0.           0.\n",
      "    0.           0.           0.           0.           0.\n",
      "    0.           0.           0.           0.           0.\n",
      "    0.           0.           0.           0.           0.\n",
      "    0.           0.           0.           0.           0.\n",
      "    0.           0.           0.           0.           0.\n",
      "    0.           0.           0.           0.           0.\n",
      "    0.           0.           0.           0.           0.\n",
      "    0.           0.           0.           0.           0.\n",
      "    0.           0.           0.           0.           0.        ]] \n",
      "\n",
      "Hstack - Noise with 0's removed: \n",
      " [  9.47875418  -7.81048053  -3.8816728   10.59213251  -3.7087728\n",
      "  -7.9343827    9.39464391   1.20207138 -10.25606227   6.14754237] \n",
      "\n",
      "Sine: \n",
      " [[  9.47875418  -7.81048053  -3.8816728   10.59213251  -3.7087728\n",
      "   -7.9343827    9.39464391   1.20207138 -10.25606227   6.14754237]] \n",
      "\n",
      "[[-10  -1 -13  -8   0   8   2   3   6 -12   8  17  11   3 -21   7   8  -8\n",
      "   14   0  10  12  13  -6   3   6  -8  -2  16 -11  -2  13  -5   3   8 -12\n",
      "   -1   7   0   7   5   2   5  -1  -9  -6   6  14  -4   9  -4   8   2  -2\n",
      "    2  -7   0  16   0  -2  -8   0   0 -11  -2 -18   2   0 -15  -4   5  10\n",
      "  -19  -4   6   0  -1 -17   9   9  -4  -4  15  -1  -1  15  21   5  -8   5\n",
      "    0  -9 -15 -18  11 -12   6   1  -3  -3]] \n",
      "\n"
     ]
    }
   ],
   "source": [
    "#Their differences should be exactly the sine \n",
    "print(\"Hstack - Noise\", \"\\n\", (raw_haystack_point5db_1 - raw_noise_point5db_1).T,\"\\n\")\n",
    "print(\"Hstack - Noise with 0's removed:\", \"\\n\", (raw_haystack_point5db_1 - raw_noise_point5db_1)[np.nonzero((raw_haystack_point5db_1 - raw_noise_point5db_1))], \"\\n\")\n",
    "print(\"Sine:\",\"\\n\", raw_needle_point5db_1.T, '\\n')\n",
    "\n",
    "#Check to make sure quantization is right \n",
    "print(haystack_point5db_1.T, \"\\n\")"
   ]
  },
  {
   "cell_type": "code",
   "execution_count": 104,
   "metadata": {},
   "outputs": [
    {
     "name": "stdout",
     "output_type": "stream",
     "text": [
      "Quantized Hstack 1 Energy: 18.36\n",
      "Quantized Noise 1 Energy: 20.45\n",
      "Raw Hstack 1 Energy: 87.6099597723756\n",
      "Raw Noise 1 Energy: 86.79402228866651\n",
      "\n",
      "\n",
      "Quantized Hstack 2 Energy: 19.66\n",
      "Quantized Noise 2 Energy: 19.61\n",
      "Raw Hstack 2 Energy: 109.41708409520626\n",
      "Raw Noise 2 Energy: 103.8490990756113\n",
      "\n",
      "\n",
      "Quantized Hstack 3 Energy: 18.75\n",
      "Quantized Noise 3 Energy: 25.2\n",
      "Raw Hstack 3 Energy: 125.42697623342161\n",
      "Raw Noise 3 Energy: 121.30855277427638\n",
      "\n",
      "\n",
      "Quantized Hstack 4 Energy: 15.35\n",
      "Quantized Noise 4 Energy: 15.65\n",
      "Raw Hstack 4 Energy: 121.56355394673731\n",
      "Raw Noise 4 Energy: 116.72111681021792\n",
      "\n",
      "\n",
      "Quantized Hstack 5 Energy: 16.35\n",
      "Quantized Noise 5 Energy: 16.39\n",
      "Raw Hstack 5 Energy: 121.52213700627713\n",
      "Raw Noise 5 Energy: 118.01899750991548\n",
      "\n",
      "\n"
     ]
    }
   ],
   "source": [
    "#Seems like the haystack is being created correctly\n",
    "#Let's check the energy outputted by the 5 sigals at this db\n",
    "for i in np.arange(1,6):\n",
    "    quantized_hstack = np.load(str(i) + \"_0.5db_quantized_haystack.npy\")\n",
    "    quantized_noise = np.load(str(i) + \"_0.5db_quantized_noise.npy\")\n",
    "    print(\"Quantized Hstack \" + str(i) + \" Energy:\", np.mean(np.power(quantized_hstack,2)))\n",
    "    print(\"Quantized Noise \" + str(i) + \" Energy:\", np.mean(np.power(quantized_noise,2)))\n",
    "\n",
    "    raw_hstack = np.load(str(i) + \"_0.5db_raw_haystack.npy\")\n",
    "    raw_noise = np.load(str(i) + \"_0.5db_raw_noise.npy\")\n",
    "    print(\"Raw Hstack \" + str(i) + \" Energy:\", np.mean(np.power(raw_hstack,2)))\n",
    "    print(\"Raw Noise \" + str(i) + \" Energy:\", np.mean(np.power(raw_noise,2)))\n",
    "    \n",
    "    print('\\n')"
   ]
  },
  {
   "cell_type": "markdown",
   "metadata": {},
   "source": [
    "## Sine at -5 db"
   ]
  },
  {
   "cell_type": "code",
   "execution_count": 90,
   "metadata": {},
   "outputs": [],
   "source": [
    "meta_minus5db_1 = pd.read_csv(\"1_-5.0db.txt\", squeeze=True, header=None, index_col=0).T\n",
    "\n",
    "haystack_minus5db_1 = np.load(\"1_-5.0db_quantized_haystack.npy\")\n",
    "raw_haystack_minus5db_1 = np.load(\"1_-5.0db_raw_haystack.npy\")\n",
    "\n",
    "noise_minus5db_1 = np.load(\"1_-5.0db_quantized_noise.npy\")\n",
    "raw_noise_minus5db_1 = np.load(\"1_-5.0db_raw_noise.npy\")\n",
    "\n",
    "needle_minus5db_1 = np.load(\"1_-5.0db_quantized_needle.npy\")\n",
    "raw_needle_minus5db_1 = np.load(\"1_-5.0db_raw_needle.npy\")"
   ]
  },
  {
   "cell_type": "code",
   "execution_count": 91,
   "metadata": {},
   "outputs": [
    {
     "data": {
      "image/png": "[encoded data removed]",
      "text/plain": [
       "<matplotlib.figure.Figure at 0x1c18e437f0>"
      ]
     },
     "metadata": {},
     "output_type": "display_data"
    }
   ],
   "source": [
    "plt.plot(haystack_minus5db_1);"
   ]
  },
  {
   "cell_type": "code",
   "execution_count": 92,
   "metadata": {},
   "outputs": [
    {
     "name": "stdout",
     "output_type": "stream",
     "text": [
      "Raw Hstack: \n",
      " [[ -1.10395293  15.23675082   9.95309551  -2.90357926  -9.28859251\n",
      "  -32.15489181  -8.57546346  -4.42504283  -7.05880028  21.67758614\n",
      "   -5.90294348 -17.22516351 -10.5852172   -8.61936694  -9.67355617\n",
      "    5.49291841 -17.24519918  10.0561864   -4.99855911   6.7896516\n",
      "  -18.50921217   1.8723923    9.91521897  -6.77708365   9.98962831\n",
      "    3.15656142   2.02614046  -8.27038511  13.45742334  -0.8344754\n",
      "   -5.00054485  -3.93089688   2.25735355   0.15472536  -3.01191361\n",
      "  -15.68025084  -9.93350127   1.43216267  12.71530011  -0.3447119\n",
      "   12.08856693  -2.17204624  -0.43757983  -3.75968592 -18.49710189\n",
      "   -4.98908884   1.7806126   18.56968578 -13.73555772  -5.12623638\n",
      "    9.43738329   6.43128104   0.44775891  -2.12411645  -0.46280836\n",
      "   -4.01129206   3.03812981   0.45676833   7.10410362   7.80535922\n",
      "    6.78606315  -0.45805963  -6.80444729  15.99078372  -2.61585019\n",
      "   -2.48941941   3.05907923  -2.24956902   0.9199747    9.09059503\n",
      "   12.23529472  -8.6129892   21.21087421   0.45967169   4.25014472\n",
      "    6.8741472    6.58541245   5.01881205   5.35240591  -2.7002486\n",
      "    5.40871866  21.75349543  -4.68777275  24.15942301  -5.04345419\n",
      "  -12.10176314 -12.04739958 -10.44755372 -12.19443852   3.37140153\n",
      "   -8.03202962 -13.33640888  -6.05364762   1.54789627  -3.35890992\n",
      "   -1.31927409   4.90462963   2.42155027   1.49401714  -4.03811999]] \n",
      "\n",
      "Quantized Hstack: \n",
      " [[ -1  15   9  -2  -9 -32  -8  -4  -7  21  -5 -17 -10  -8  -9   5 -17  10\n",
      "   -4   6 -18   1   9  -6   9   3   2  -8  13   0  -5  -3   2   0  -3 -15\n",
      "   -9   1  12   0  12  -2   0  -3 -18  -4   1  18 -13  -5   9   6   0  -2\n",
      "    0  -4   3   0   7   7   6   0  -6  15  -2  -2   3  -2   0   9  12  -8\n",
      "   21   0   4   6   6   5   5  -2   5  21  -4  24  -5 -12 -12 -10 -12   3\n",
      "   -8 -13  -6   1  -3  -1   4   2   1  -4]] \n",
      "\n",
      "Raw Noise: \n",
      " [[ -1.10395293  15.23675082   9.95309551  -2.90357926  -9.28859251\n",
      "  -32.15489181  -8.57546346  -4.42504283  -7.05880028  16.07101326\n",
      "   -8.98220288 -15.37927387  -5.25158254  -3.95131675  -9.30612581\n",
      "    1.27360898 -22.76564985   7.5333986   -2.55917585   6.7896516\n",
      "  -18.50921217   1.8723923    9.91521897  -6.77708365   9.98962831\n",
      "    3.15656142   2.02614046  -8.27038511  13.45742334  -0.8344754\n",
      "   -5.00054485  -3.93089688   2.25735355   0.15472536  -3.01191361\n",
      "  -15.68025084  -9.93350127   1.43216267  12.71530011  -0.3447119\n",
      "   12.08856693  -2.17204624  -0.43757983  -3.75968592 -18.49710189\n",
      "   -4.98908884   1.7806126   18.56968578 -13.73555772  -5.12623638\n",
      "    9.43738329   6.43128104   0.44775891  -2.12411645  -0.46280836\n",
      "   -4.01129206   3.03812981   0.45676833   7.10410362   7.80535922\n",
      "    6.78606315  -0.45805963  -6.80444729  15.99078372  -2.61585019\n",
      "   -2.48941941   3.05907923  -2.24956902   0.9199747    9.09059503\n",
      "   12.23529472  -8.6129892   21.21087421   0.45967169   4.25014472\n",
      "    6.8741472    6.58541245   5.01881205   5.35240591  -2.7002486\n",
      "    5.40871866  21.75349543  -4.68777275  24.15942301  -5.04345419\n",
      "  -12.10176314 -12.04739958 -10.44755372 -12.19443852   3.37140153\n",
      "   -8.03202962 -13.33640888  -6.05364762   1.54789627  -3.35890992\n",
      "   -1.31927409   4.90462963   2.42155027   1.49401714  -4.03811999]] \n",
      "\n",
      "Quantized Noise: \n",
      " [[ -1  15   9  -2  -9 -32  -8  -4  -7  16  -8 -15  -5  -3  -9   1 -22   7\n",
      "   -2   6 -18   1   9  -6   9   3   2  -8  13   0  -5  -3   2   0  -3 -15\n",
      "   -9   1  12   0  12  -2   0  -3 -18  -4   1  18 -13  -5   9   6   0  -2\n",
      "    0  -4   3   0   7   7   6   0  -6  15  -2  -2   3  -2   0   9  12  -8\n",
      "   21   0   4   6   6   5   5  -2   5  21  -4  24  -5 -12 -12 -10 -12   3\n",
      "   -8 -13  -6   1  -3  -1   4   2   1  -4]] \n",
      "\n"
     ]
    }
   ],
   "source": [
    "#Check to see if the quantization process is occuring correctly\n",
    "#Check out raw haystack and raw noise\n",
    "print(\"Raw Hstack:\", \"\\n\", raw_haystack_minus5db_1.T, \"\\n\")\n",
    "print(\"Quantized Hstack:\", \"\\n\", haystack_minus5db_1.T, \"\\n\")\n",
    "print(\"Raw Noise:\", \"\\n\", raw_noise_minus5db_1.T, \"\\n\")\n",
    "print(\"Quantized Noise:\", \"\\n\", noise_minus5db_1.T, \"\\n\")"
   ]
  },
  {
   "cell_type": "code",
   "execution_count": 93,
   "metadata": {
    "scrolled": false
   },
   "outputs": [
    {
     "name": "stdout",
     "output_type": "stream",
     "text": [
      "Hstack - Noise \n",
      " [[ 0.          0.          0.          0.          0.          0.\n",
      "   0.          0.          0.          5.60657287  3.07925939 -1.84588965\n",
      "  -5.33363467 -4.66805019 -0.36743036  4.21930943  5.52045067  2.5227878\n",
      "  -2.43938326  0.          0.          0.          0.          0.\n",
      "   0.          0.          0.          0.          0.          0.\n",
      "   0.          0.          0.          0.          0.          0.\n",
      "   0.          0.          0.          0.          0.          0.\n",
      "   0.          0.          0.          0.          0.          0.\n",
      "   0.          0.          0.          0.          0.          0.\n",
      "   0.          0.          0.          0.          0.          0.\n",
      "   0.          0.          0.          0.          0.          0.\n",
      "   0.          0.          0.          0.          0.          0.\n",
      "   0.          0.          0.          0.          0.          0.\n",
      "   0.          0.          0.          0.          0.          0.\n",
      "   0.          0.          0.          0.          0.          0.\n",
      "   0.          0.          0.          0.          0.          0.\n",
      "   0.          0.          0.          0.        ]] \n",
      "\n",
      "Hstack - Noise with 0's removed: \n",
      " [ 5.60657287  3.07925939 -1.84588965 -5.33363467 -4.66805019 -0.36743036\n",
      "  4.21930943  5.52045067  2.5227878  -2.43938326] \n",
      "\n",
      "Sine: \n",
      " [[ 5.60657287  3.07925939 -1.84588965 -5.33363467 -4.66805019 -0.36743036\n",
      "   4.21930943  5.52045067  2.5227878  -2.43938326]] \n",
      "\n",
      "[[ -1  15   9  -2  -9 -32  -8  -4  -7  21  -5 -17 -10  -8  -9   5 -17  10\n",
      "   -4   6 -18   1   9  -6   9   3   2  -8  13   0  -5  -3   2   0  -3 -15\n",
      "   -9   1  12   0  12  -2   0  -3 -18  -4   1  18 -13  -5   9   6   0  -2\n",
      "    0  -4   3   0   7   7   6   0  -6  15  -2  -2   3  -2   0   9  12  -8\n",
      "   21   0   4   6   6   5   5  -2   5  21  -4  24  -5 -12 -12 -10 -12   3\n",
      "   -8 -13  -6   1  -3  -1   4   2   1  -4]] \n",
      "\n"
     ]
    }
   ],
   "source": [
    "#Their differences should be exactly the sine \n",
    "print(\"Hstack - Noise\", \"\\n\", (raw_haystack_minus5db_1 - raw_noise_minus5db_1).T,\"\\n\")\n",
    "print(\"Hstack - Noise with 0's removed:\", \"\\n\", (raw_haystack_minus5db_1 - raw_noise_minus5db_1)[np.nonzero((raw_haystack_minus5db_1 - raw_noise_minus5db_1))], \"\\n\")\n",
    "print(\"Sine:\",\"\\n\", raw_needle_minus5db_1.T, '\\n')\n",
    "\n",
    "#Check to make sure quantization is right \n",
    "print(haystack_minus5db_1.T, \"\\n\")\n"
   ]
  },
  {
   "cell_type": "code",
   "execution_count": 94,
   "metadata": {},
   "outputs": [
    {
     "name": "stdout",
     "output_type": "stream",
     "text": [
      "Quantized Hstack 1 Energy: 12.45\n",
      "Quantized Noise 1 Energy: 10.13\n",
      "Raw Hstack 1 Energy: 93.10363706593196\n",
      "Raw Noise 1 Energy: 90.63769311610186\n",
      "\n",
      "\n",
      "Quantized Hstack 2 Energy: 12.27\n",
      "Quantized Noise 2 Energy: 15.29\n",
      "Raw Hstack 2 Energy: 94.27808846042322\n",
      "Raw Noise 2 Energy: 94.914104096983\n",
      "\n",
      "\n",
      "Quantized Hstack 3 Energy: 19.52\n",
      "Quantized Noise 3 Energy: 18.51\n",
      "Raw Hstack 3 Energy: 88.82261441382947\n",
      "Raw Noise 3 Energy: 90.56535707462477\n",
      "\n",
      "\n",
      "Quantized Hstack 4 Energy: 18.33\n",
      "Quantized Noise 4 Energy: 20.5\n",
      "Raw Hstack 4 Energy: 92.30784829883329\n",
      "Raw Noise 4 Energy: 94.96985163163383\n",
      "\n",
      "\n",
      "Quantized Hstack 5 Energy: 18.2\n",
      "Quantized Noise 5 Energy: 18.76\n",
      "Raw Hstack 5 Energy: 89.87814031672897\n",
      "Raw Noise 5 Energy: 87.73728867822305\n",
      "\n",
      "\n"
     ]
    }
   ],
   "source": [
    "#Seems like the haystack is being created correctly\n",
    "#Let's check the energy outputted by the 5 sigals at this db\n",
    "for i in np.arange(1,6):\n",
    "    quantized_hstack = np.load(str(i) + \"_-5.0db_quantized_haystack.npy\")\n",
    "    quantized_noise = np.load(str(i) + \"_-5.0db_quantized_noise.npy\")\n",
    "    print(\"Quantized Hstack \" + str(i) + \" Energy:\", np.mean(np.power(quantized_hstack,2)))\n",
    "    print(\"Quantized Noise \" + str(i) + \" Energy:\", np.mean(np.power(quantized_noise,2)))\n",
    "\n",
    "    raw_hstack = np.load(str(i) + \"_-5.0db_raw_haystack.npy\")\n",
    "    raw_noise = np.load(str(i) + \"_-5.0db_raw_noise.npy\")\n",
    "    print(\"Raw Hstack \" + str(i) + \" Energy:\", np.mean(np.power(raw_hstack,2)))\n",
    "    print(\"Raw Noise \" + str(i) + \" Energy:\", np.mean(np.power(raw_noise,2)))\n",
    "    \n",
    "    print('\\n')"
   ]
  },
  {
   "cell_type": "markdown",
   "metadata": {},
   "source": [
    "## Sine at -10 db"
   ]
  },
  {
   "cell_type": "code",
   "execution_count": 95,
   "metadata": {},
   "outputs": [],
   "source": [
    "meta_minus10db_1 = pd.read_csv(\"1_-10.0db.txt\", squeeze=True, header=None, index_col=0).T\n",
    "\n",
    "haystack_minus10db_1 = np.load(\"1_-10.0db_quantized_haystack.npy\")\n",
    "raw_haystack_minus10db_1 = np.load(\"1_-10.0db_raw_haystack.npy\")\n",
    "\n",
    "noise_minus10db_1 = np.load(\"1_-10.0db_quantized_noise.npy\")\n",
    "raw_noise_minus10db_1 = np.load(\"1_-10.0db_raw_noise.npy\")\n",
    "\n",
    "needle_minus10db_1 = np.load(\"1_-10.0db_quantized_needle.npy\")\n",
    "raw_needle_minus10db_1 = np.load(\"1_-10.0db_raw_needle.npy\")"
   ]
  },
  {
   "cell_type": "code",
   "execution_count": 96,
   "metadata": {},
   "outputs": [
    {
     "data": {
      "image/png": "[encoded data removed]",
      "text/plain": [
       "<matplotlib.figure.Figure at 0x1c197343c8>"
      ]
     },
     "metadata": {},
     "output_type": "display_data"
    }
   ],
   "source": [
    "plt.plot(haystack_minus10db_1);"
   ]
  },
  {
   "cell_type": "code",
   "execution_count": 97,
   "metadata": {},
   "outputs": [
    {
     "name": "stdout",
     "output_type": "stream",
     "text": [
      "Raw Hstack: \n",
      " [[-2.40889743e+00  1.78013674e+01 -1.07354073e+00  1.06860756e-01\n",
      "   3.56833481e+00 -7.53726777e+00 -3.47988474e+00  1.04636788e+01\n",
      "  -1.02991098e+00 -4.69078650e+00 -4.81741505e+00 -9.44257039e-01\n",
      "   1.87235108e+01 -1.29978719e+01  4.14833785e+00  2.13929665e+00\n",
      "  -1.84846766e+01  1.44523636e+01 -1.74242596e+01 -2.44459819e+01\n",
      "  -9.50321209e+00 -1.36192079e+01 -1.13678048e+01  5.20842634e+00\n",
      "   6.05778045e-01  2.31403419e+00  8.03651293e-01 -5.02629389e-01\n",
      "  -1.72438952e+01  1.01111684e+01 -4.43754786e+00 -1.27047374e+01\n",
      "  -1.73409185e+01  3.53939312e+00  1.57497988e+01  9.97928013e+00\n",
      "   1.05559707e+01  9.23209700e-01  2.49779827e+00  4.84226018e+00\n",
      "  -1.08537128e-01  2.68913658e+01  7.06472446e+00 -8.51367523e+00\n",
      "   2.12932567e+01 -8.42413498e+00  9.46735738e+00 -1.22358724e+01\n",
      "   1.76997773e+00  5.12267171e+00  1.45759054e+00  2.36022319e+01\n",
      "   1.30765300e+01 -7.76668079e+00  2.04449159e+01  1.94835329e+01\n",
      "  -7.98209751e+00  1.39395063e+00 -6.24092552e+00  4.88945439e+00\n",
      "   2.71007541e+01 -1.09441403e+01 -2.74515550e+00  8.40904757e+00\n",
      "   3.08169293e+01  1.08818150e+01 -1.44259055e-02 -3.93704803e+00\n",
      "  -4.31453991e+00 -9.41407122e+00 -5.80624713e+00 -5.59617858e+00\n",
      "   9.93320507e-01 -5.37950910e+00 -1.19006745e+00  3.00537159e+00\n",
      "  -1.36411162e+01 -3.08739883e-01  1.57147078e+01  4.12658345e+00\n",
      "   6.62790889e-01  6.90986272e+00 -7.95904930e+00 -4.08804472e+00\n",
      "   8.52840998e+00  7.09660061e+00  7.19578357e+00 -1.52954716e+00\n",
      "   7.13565069e+00  2.22649833e+01  6.16222218e-01 -4.72639481e+00\n",
      "   1.82946882e+00  3.93231898e+00  1.28069516e+01 -4.55496713e+00\n",
      "  -1.13213747e+00  6.11734877e+00  8.68032590e+00  8.94609820e+00]] \n",
      "\n",
      "Quantized Hstack: \n",
      " [[ -2  17  -1   0   3  -7  -3  10  -1  -4  -4   0  18 -12   4   2 -18  14\n",
      "  -17 -24  -9 -13 -11   5   0   2   0   0 -17  10  -4 -12 -17   3  15   9\n",
      "   10   0   2   4   0  26   7  -8  21  -8   9 -12   1   5   1  23  13  -7\n",
      "   20  19  -7   1  -6   4  27 -10  -2   8  30  10   0  -3  -4  -9  -5  -5\n",
      "    0  -5  -1   3 -13   0  15   4   0   6  -7  -4   8   7   7  -1   7  22\n",
      "    0  -4   1   3  12  -4  -1   6   8   8]] \n",
      "\n",
      "Raw Noise: \n",
      " [[-2.40889743e+00  1.78013674e+01 -1.07354073e+00  1.06860756e-01\n",
      "   3.56833481e+00 -7.53726777e+00 -3.47988474e+00  1.04636788e+01\n",
      "  -1.02991098e+00 -4.69078650e+00 -4.81741505e+00 -9.44257039e-01\n",
      "   1.87235108e+01 -1.29978719e+01  4.14833785e+00  2.13929665e+00\n",
      "  -1.84846766e+01  1.44523636e+01 -1.74242596e+01 -2.44459819e+01\n",
      "  -9.50321209e+00 -1.36192079e+01 -1.13678048e+01  5.20842634e+00\n",
      "   6.05778045e-01  2.31403419e+00  8.03651293e-01 -5.02629389e-01\n",
      "  -1.72438952e+01  1.01111684e+01 -4.43754786e+00 -1.27047374e+01\n",
      "  -1.73409185e+01  3.53939312e+00  1.57497988e+01  9.97928013e+00\n",
      "   1.05559707e+01  9.23209700e-01  2.49779827e+00  4.84226018e+00\n",
      "  -1.08537128e-01  2.38966373e+01  4.71466872e+00 -9.83689252e+00\n",
      "   2.12120593e+01 -7.25010825e+00  1.17056882e+01 -9.29723452e+00\n",
      "   4.93104186e+00  7.99211027e+00  3.56877584e+00  2.36022319e+01\n",
      "   1.30765300e+01 -7.76668079e+00  2.04449159e+01  1.94835329e+01\n",
      "  -7.98209751e+00  1.39395063e+00 -6.24092552e+00  4.88945439e+00\n",
      "   2.71007541e+01 -1.09441403e+01 -2.74515550e+00  8.40904757e+00\n",
      "   3.08169293e+01  1.08818150e+01 -1.44259055e-02 -3.93704803e+00\n",
      "  -4.31453991e+00 -9.41407122e+00 -5.80624713e+00 -5.59617858e+00\n",
      "   9.93320507e-01 -5.37950910e+00 -1.19006745e+00  3.00537159e+00\n",
      "  -1.36411162e+01 -3.08739883e-01  1.57147078e+01  4.12658345e+00\n",
      "   6.62790889e-01  6.90986272e+00 -7.95904930e+00 -4.08804472e+00\n",
      "   8.52840998e+00  7.09660061e+00  7.19578357e+00 -1.52954716e+00\n",
      "   7.13565069e+00  2.22649833e+01  6.16222218e-01 -4.72639481e+00\n",
      "   1.82946882e+00  3.93231898e+00  1.28069516e+01 -4.55496713e+00\n",
      "  -1.13213747e+00  6.11734877e+00  8.68032590e+00  8.94609820e+00]] \n",
      "\n",
      "Quantized Noise: \n",
      " [[ -2  17  -1   0   3  -7  -3  10  -1  -4  -4   0  18 -12   4   2 -18  14\n",
      "  -17 -24  -9 -13 -11   5   0   2   0   0 -17  10  -4 -12 -17   3  15   9\n",
      "   10   0   2   4   0  23   4  -9  21  -7  11  -9   4   7   3  23  13  -7\n",
      "   20  19  -7   1  -6   4  27 -10  -2   8  30  10   0  -3  -4  -9  -5  -5\n",
      "    0  -5  -1   3 -13   0  15   4   0   6  -7  -4   8   7   7  -1   7  22\n",
      "    0  -4   1   3  12  -4  -1   6   8   8]] \n",
      "\n"
     ]
    }
   ],
   "source": [
    "#Check to see if the quantization process is occuring correctly\n",
    "#Check out raw haystack and raw noise\n",
    "print(\"Raw Hstack:\", \"\\n\", raw_haystack_minus10db_1.T, \"\\n\")\n",
    "print(\"Quantized Hstack:\", \"\\n\", haystack_minus10db_1.T, \"\\n\")\n",
    "print(\"Raw Noise:\", \"\\n\", raw_noise_minus10db_1.T, \"\\n\")\n",
    "print(\"Quantized Noise:\", \"\\n\", noise_minus10db_1.T, \"\\n\")"
   ]
  },
  {
   "cell_type": "code",
   "execution_count": 98,
   "metadata": {
    "scrolled": false
   },
   "outputs": [
    {
     "name": "stdout",
     "output_type": "stream",
     "text": [
      "Hstack - Noise \n",
      " [[ 0.          0.          0.          0.          0.          0.\n",
      "   0.          0.          0.          0.          0.          0.\n",
      "   0.          0.          0.          0.          0.          0.\n",
      "   0.          0.          0.          0.          0.          0.\n",
      "   0.          0.          0.          0.          0.          0.\n",
      "   0.          0.          0.          0.          0.          0.\n",
      "   0.          0.          0.          0.          0.          2.99472847\n",
      "   2.35005574  1.32321729  0.08119744 -1.17402673 -2.23833085 -2.93863792\n",
      "  -3.16106413 -2.86943856 -2.1111853   0.          0.          0.\n",
      "   0.          0.          0.          0.          0.          0.\n",
      "   0.          0.          0.          0.          0.          0.\n",
      "   0.          0.          0.          0.          0.          0.\n",
      "   0.          0.          0.          0.          0.          0.\n",
      "   0.          0.          0.          0.          0.          0.\n",
      "   0.          0.          0.          0.          0.          0.\n",
      "   0.          0.          0.          0.          0.          0.\n",
      "   0.          0.          0.          0.        ]] \n",
      "\n",
      "Hstack - Noise with 0's removed: \n",
      " [ 2.99472847  2.35005574  1.32321729  0.08119744 -1.17402673 -2.23833085\n",
      " -2.93863792 -3.16106413 -2.86943856 -2.1111853 ] \n",
      "\n",
      "Sine: \n",
      " [[ 2.99472847  2.35005574  1.32321729  0.08119744 -1.17402673 -2.23833085\n",
      "  -2.93863792 -3.16106413 -2.86943856 -2.1111853 ]] \n",
      "\n",
      "[[ -2  17  -1   0   3  -7  -3  10  -1  -4  -4   0  18 -12   4   2 -18  14\n",
      "  -17 -24  -9 -13 -11   5   0   2   0   0 -17  10  -4 -12 -17   3  15   9\n",
      "   10   0   2   4   0  26   7  -8  21  -8   9 -12   1   5   1  23  13  -7\n",
      "   20  19  -7   1  -6   4  27 -10  -2   8  30  10   0  -3  -4  -9  -5  -5\n",
      "    0  -5  -1   3 -13   0  15   4   0   6  -7  -4   8   7   7  -1   7  22\n",
      "    0  -4   1   3  12  -4  -1   6   8   8]] \n",
      "\n"
     ]
    }
   ],
   "source": [
    "#Their differences should be exactly the sine \n",
    "print(\"Hstack - Noise\", \"\\n\", (raw_haystack_minus10db_1 - raw_noise_minus10db_1).T,\"\\n\")\n",
    "print(\"Hstack - Noise with 0's removed:\", \"\\n\", (raw_haystack_minus10db_1 - raw_noise_minus10db_1)[np.nonzero((raw_haystack_minus10db_1 - raw_noise_minus10db_1))], \"\\n\")\n",
    "print(\"Sine:\",\"\\n\", raw_needle_minus10db_1.T, '\\n')\n",
    "\n",
    "#Check to make sure quantization is right \n",
    "print(haystack_minus10db_1.T, \"\\n\")\n"
   ]
  },
  {
   "cell_type": "code",
   "execution_count": 99,
   "metadata": {},
   "outputs": [
    {
     "name": "stdout",
     "output_type": "stream",
     "text": [
      "Quantized Hstack 1 Energy: 13.7\n",
      "Quantized Noise 1 Energy: 17.28\n",
      "Raw Hstack 1 Energy: 116.84146451715536\n",
      "Raw Noise 1 Energy: 115.60336708264985\n",
      "\n",
      "\n",
      "Quantized Hstack 2 Energy: 15.11\n",
      "Quantized Noise 2 Energy: 15.16\n",
      "Raw Hstack 2 Energy: 101.90400226244556\n",
      "Raw Noise 2 Energy: 101.94194711924379\n",
      "\n",
      "\n",
      "Quantized Hstack 3 Energy: 14.18\n",
      "Quantized Noise 3 Energy: 14.76\n",
      "Raw Hstack 3 Energy: 95.79752754921849\n",
      "Raw Noise 3 Energy: 96.28542547581412\n",
      "\n",
      "\n",
      "Quantized Hstack 4 Energy: 20.46\n",
      "Quantized Noise 4 Energy: 17.43\n",
      "Raw Hstack 4 Energy: 105.22341638046102\n",
      "Raw Noise 4 Energy: 104.74841051334033\n",
      "\n",
      "\n",
      "Quantized Hstack 5 Energy: 33.75\n",
      "Quantized Noise 5 Energy: 28.61\n",
      "Raw Hstack 5 Energy: 105.41780584702543\n",
      "Raw Noise 5 Energy: 102.71186883405308\n",
      "\n",
      "\n"
     ]
    }
   ],
   "source": [
    "#Seems like the haystack is being created correctly\n",
    "#Let's check the energy outputted by the 5 sigals at this db\n",
    "for i in np.arange(1,6):\n",
    "    quantized_hstack = np.load(str(i) + \"_-10.0db_quantized_haystack.npy\")\n",
    "    quantized_noise = np.load(str(i) + \"_-10.0db_quantized_noise.npy\")\n",
    "    print(\"Quantized Hstack \" + str(i) + \" Energy:\", np.mean(np.power(quantized_hstack,2)))\n",
    "    print(\"Quantized Noise \" + str(i) + \" Energy:\", np.mean(np.power(quantized_noise,2)))\n",
    "\n",
    "    raw_hstack = np.load(str(i) + \"_-10.0db_raw_haystack.npy\")\n",
    "    raw_noise = np.load(str(i) + \"_-10.0db_raw_noise.npy\")\n",
    "    print(\"Raw Hstack \" + str(i) + \" Energy:\", np.mean(np.power(raw_hstack,2)))\n",
    "    print(\"Raw Noise \" + str(i) + \" Energy:\", np.mean(np.power(raw_noise,2)))\n",
    "    \n",
    "    print('\\n')"
   ]
  },
  {
   "cell_type": "markdown",
   "metadata": {},
   "source": [
    "## Sine at -20 db"
   ]
  },
  {
   "cell_type": "code",
   "execution_count": 95,
   "metadata": {},
   "outputs": [],
   "source": [
    "meta_minus20db_1 = pd.read_csv(\"1_-20.0db.txt\", squeeze=True, header=None, index_col=0).T\n",
    "\n",
    "haystack_minus20db_1 = np.load(\"1_-20.0db_quantized_haystack.npy\")\n",
    "raw_haystack_minus20db_1 = np.load(\"1_-20.0db_raw_haystack.npy\")\n",
    "\n",
    "noise_minus20db_1 = np.load(\"1_-20.0db_quantized_noise.npy\")\n",
    "raw_noise_minus20db_1 = np.load(\"1_-20.0db_raw_noise.npy\")\n",
    "\n",
    "needle_minus20db_1 = np.load(\"1_-20.0db_quantized_needle.npy\")\n",
    "raw_needle_minus20db_1 = np.load(\"1_-20.0db_raw_needle.npy\")"
   ]
  },
  {
   "cell_type": "code",
   "execution_count": 96,
   "metadata": {},
   "outputs": [
    {
     "data": {
      "image/png": "[encoded data removed]",
      "text/plain": [
       "<matplotlib.figure.Figure at 0x1c197343c8>"
      ]
     },
     "metadata": {},
     "output_type": "display_data"
    }
   ],
   "source": [
    "plt.plot(haystack_minus20db_1);"
   ]
  },
  {
   "cell_type": "code",
   "execution_count": 97,
   "metadata": {},
   "outputs": [
    {
     "name": "stdout",
     "output_type": "stream",
     "text": [
      "Raw Hstack: \n",
      " [[-2.40889743e+00  1.78013674e+01 -1.07354073e+00  1.06860756e-01\n",
      "   3.56833481e+00 -7.53726777e+00 -3.47988474e+00  1.04636788e+01\n",
      "  -1.02991098e+00 -4.69078650e+00 -4.81741505e+00 -9.44257039e-01\n",
      "   1.87235108e+01 -1.29978719e+01  4.14833785e+00  2.13929665e+00\n",
      "  -1.84846766e+01  1.44523636e+01 -1.74242596e+01 -2.44459819e+01\n",
      "  -9.50321209e+00 -1.36192079e+01 -1.13678048e+01  5.20842634e+00\n",
      "   6.05778045e-01  2.31403419e+00  8.03651293e-01 -5.02629389e-01\n",
      "  -1.72438952e+01  1.01111684e+01 -4.43754786e+00 -1.27047374e+01\n",
      "  -1.73409185e+01  3.53939312e+00  1.57497988e+01  9.97928013e+00\n",
      "   1.05559707e+01  9.23209700e-01  2.49779827e+00  4.84226018e+00\n",
      "  -1.08537128e-01  2.68913658e+01  7.06472446e+00 -8.51367523e+00\n",
      "   2.12932567e+01 -8.42413498e+00  9.46735738e+00 -1.22358724e+01\n",
      "   1.76997773e+00  5.12267171e+00  1.45759054e+00  2.36022319e+01\n",
      "   1.30765300e+01 -7.76668079e+00  2.04449159e+01  1.94835329e+01\n",
      "  -7.98209751e+00  1.39395063e+00 -6.24092552e+00  4.88945439e+00\n",
      "   2.71007541e+01 -1.09441403e+01 -2.74515550e+00  8.40904757e+00\n",
      "   3.08169293e+01  1.08818150e+01 -1.44259055e-02 -3.93704803e+00\n",
      "  -4.31453991e+00 -9.41407122e+00 -5.80624713e+00 -5.59617858e+00\n",
      "   9.93320507e-01 -5.37950910e+00 -1.19006745e+00  3.00537159e+00\n",
      "  -1.36411162e+01 -3.08739883e-01  1.57147078e+01  4.12658345e+00\n",
      "   6.62790889e-01  6.90986272e+00 -7.95904930e+00 -4.08804472e+00\n",
      "   8.52840998e+00  7.09660061e+00  7.19578357e+00 -1.52954716e+00\n",
      "   7.13565069e+00  2.22649833e+01  6.16222218e-01 -4.72639481e+00\n",
      "   1.82946882e+00  3.93231898e+00  1.28069516e+01 -4.55496713e+00\n",
      "  -1.13213747e+00  6.11734877e+00  8.68032590e+00  8.94609820e+00]] \n",
      "\n",
      "Quantized Hstack: \n",
      " [[ -2  17  -1   0   3  -7  -3  10  -1  -4  -4   0  18 -12   4   2 -18  14\n",
      "  -17 -24  -9 -13 -11   5   0   2   0   0 -17  10  -4 -12 -17   3  15   9\n",
      "   10   0   2   4   0  26   7  -8  21  -8   9 -12   1   5   1  23  13  -7\n",
      "   20  19  -7   1  -6   4  27 -10  -2   8  30  10   0  -3  -4  -9  -5  -5\n",
      "    0  -5  -1   3 -13   0  15   4   0   6  -7  -4   8   7   7  -1   7  22\n",
      "    0  -4   1   3  12  -4  -1   6   8   8]] \n",
      "\n",
      "Raw Noise: \n",
      " [[-2.40889743e+00  1.78013674e+01 -1.07354073e+00  1.06860756e-01\n",
      "   3.56833481e+00 -7.53726777e+00 -3.47988474e+00  1.04636788e+01\n",
      "  -1.02991098e+00 -4.69078650e+00 -4.81741505e+00 -9.44257039e-01\n",
      "   1.87235108e+01 -1.29978719e+01  4.14833785e+00  2.13929665e+00\n",
      "  -1.84846766e+01  1.44523636e+01 -1.74242596e+01 -2.44459819e+01\n",
      "  -9.50321209e+00 -1.36192079e+01 -1.13678048e+01  5.20842634e+00\n",
      "   6.05778045e-01  2.31403419e+00  8.03651293e-01 -5.02629389e-01\n",
      "  -1.72438952e+01  1.01111684e+01 -4.43754786e+00 -1.27047374e+01\n",
      "  -1.73409185e+01  3.53939312e+00  1.57497988e+01  9.97928013e+00\n",
      "   1.05559707e+01  9.23209700e-01  2.49779827e+00  4.84226018e+00\n",
      "  -1.08537128e-01  2.38966373e+01  4.71466872e+00 -9.83689252e+00\n",
      "   2.12120593e+01 -7.25010825e+00  1.17056882e+01 -9.29723452e+00\n",
      "   4.93104186e+00  7.99211027e+00  3.56877584e+00  2.36022319e+01\n",
      "   1.30765300e+01 -7.76668079e+00  2.04449159e+01  1.94835329e+01\n",
      "  -7.98209751e+00  1.39395063e+00 -6.24092552e+00  4.88945439e+00\n",
      "   2.71007541e+01 -1.09441403e+01 -2.74515550e+00  8.40904757e+00\n",
      "   3.08169293e+01  1.08818150e+01 -1.44259055e-02 -3.93704803e+00\n",
      "  -4.31453991e+00 -9.41407122e+00 -5.80624713e+00 -5.59617858e+00\n",
      "   9.93320507e-01 -5.37950910e+00 -1.19006745e+00  3.00537159e+00\n",
      "  -1.36411162e+01 -3.08739883e-01  1.57147078e+01  4.12658345e+00\n",
      "   6.62790889e-01  6.90986272e+00 -7.95904930e+00 -4.08804472e+00\n",
      "   8.52840998e+00  7.09660061e+00  7.19578357e+00 -1.52954716e+00\n",
      "   7.13565069e+00  2.22649833e+01  6.16222218e-01 -4.72639481e+00\n",
      "   1.82946882e+00  3.93231898e+00  1.28069516e+01 -4.55496713e+00\n",
      "  -1.13213747e+00  6.11734877e+00  8.68032590e+00  8.94609820e+00]] \n",
      "\n",
      "Quantized Noise: \n",
      " [[ -2  17  -1   0   3  -7  -3  10  -1  -4  -4   0  18 -12   4   2 -18  14\n",
      "  -17 -24  -9 -13 -11   5   0   2   0   0 -17  10  -4 -12 -17   3  15   9\n",
      "   10   0   2   4   0  23   4  -9  21  -7  11  -9   4   7   3  23  13  -7\n",
      "   20  19  -7   1  -6   4  27 -10  -2   8  30  10   0  -3  -4  -9  -5  -5\n",
      "    0  -5  -1   3 -13   0  15   4   0   6  -7  -4   8   7   7  -1   7  22\n",
      "    0  -4   1   3  12  -4  -1   6   8   8]] \n",
      "\n"
     ]
    }
   ],
   "source": [
    "#Check to see if the quantization process is occuring correctly\n",
    "#Check out raw haystack and raw noise\n",
    "print(\"Raw Hstack:\", \"\\n\", raw_haystack_minus20db_1.T, \"\\n\")\n",
    "print(\"Quantized Hstack:\", \"\\n\", haystack_minus20db_1.T, \"\\n\")\n",
    "print(\"Raw Noise:\", \"\\n\", raw_noise_minus20db_1.T, \"\\n\")\n",
    "print(\"Quantized Noise:\", \"\\n\", noise_minus20db_1.T, \"\\n\")"
   ]
  },
  {
   "cell_type": "code",
   "execution_count": 98,
   "metadata": {
    "scrolled": false
   },
   "outputs": [
    {
     "name": "stdout",
     "output_type": "stream",
     "text": [
      "Hstack - Noise \n",
      " [[ 0.          0.          0.          0.          0.          0.\n",
      "   0.          0.          0.          0.          0.          0.\n",
      "   0.          0.          0.          0.          0.          0.\n",
      "   0.          0.          0.          0.          0.          0.\n",
      "   0.          0.          0.          0.          0.          0.\n",
      "   0.          0.          0.          0.          0.          0.\n",
      "   0.          0.          0.          0.          0.          2.99472847\n",
      "   2.35005574  1.32321729  0.08119744 -1.17402673 -2.23833085 -2.93863792\n",
      "  -3.16106413 -2.86943856 -2.1111853   0.          0.          0.\n",
      "   0.          0.          0.          0.          0.          0.\n",
      "   0.          0.          0.          0.          0.          0.\n",
      "   0.          0.          0.          0.          0.          0.\n",
      "   0.          0.          0.          0.          0.          0.\n",
      "   0.          0.          0.          0.          0.          0.\n",
      "   0.          0.          0.          0.          0.          0.\n",
      "   0.          0.          0.          0.          0.          0.\n",
      "   0.          0.          0.          0.        ]] \n",
      "\n",
      "Hstack - Noise with 0's removed: \n",
      " [ 2.99472847  2.35005574  1.32321729  0.08119744 -1.17402673 -2.23833085\n",
      " -2.93863792 -3.16106413 -2.86943856 -2.1111853 ] \n",
      "\n",
      "Sine: \n",
      " [[ 2.99472847  2.35005574  1.32321729  0.08119744 -1.17402673 -2.23833085\n",
      "  -2.93863792 -3.16106413 -2.86943856 -2.1111853 ]] \n",
      "\n",
      "[[ -2  17  -1   0   3  -7  -3  10  -1  -4  -4   0  18 -12   4   2 -18  14\n",
      "  -17 -24  -9 -13 -11   5   0   2   0   0 -17  10  -4 -12 -17   3  15   9\n",
      "   10   0   2   4   0  26   7  -8  21  -8   9 -12   1   5   1  23  13  -7\n",
      "   20  19  -7   1  -6   4  27 -10  -2   8  30  10   0  -3  -4  -9  -5  -5\n",
      "    0  -5  -1   3 -13   0  15   4   0   6  -7  -4   8   7   7  -1   7  22\n",
      "    0  -4   1   3  12  -4  -1   6   8   8]] \n",
      "\n"
     ]
    }
   ],
   "source": [
    "#Their differences should be exactly the sine \n",
    "print(\"Hstack - Noise\", \"\\n\", (raw_haystack_minus20db_1 - raw_noise_minus20db_1).T,\"\\n\")\n",
    "print(\"Hstack - Noise with 0's removed:\", \"\\n\", (raw_haystack_minus20db_1 - raw_noise_minus20db_1)[np.nonzero((raw_haystack_minus20db_1 - raw_noise_minus20db_1))], \"\\n\")\n",
    "print(\"Sine:\",\"\\n\", raw_needle_minus20db_1.T, '\\n')\n",
    "\n",
    "#Check to make sure quantization is right \n",
    "print(haystack_minus20db_1.T, \"\\n\")\n"
   ]
  },
  {
   "cell_type": "code",
   "execution_count": 99,
   "metadata": {},
   "outputs": [
    {
     "name": "stdout",
     "output_type": "stream",
     "text": [
      "Quantized Hstack 1 Energy: 13.7\n",
      "Quantized Noise 1 Energy: 17.28\n",
      "Raw Hstack 1 Energy: 116.84146451715536\n",
      "Raw Noise 1 Energy: 115.60336708264985\n",
      "\n",
      "\n",
      "Quantized Hstack 2 Energy: 15.11\n",
      "Quantized Noise 2 Energy: 15.16\n",
      "Raw Hstack 2 Energy: 101.90400226244556\n",
      "Raw Noise 2 Energy: 101.94194711924379\n",
      "\n",
      "\n",
      "Quantized Hstack 3 Energy: 14.18\n",
      "Quantized Noise 3 Energy: 14.76\n",
      "Raw Hstack 3 Energy: 95.79752754921849\n",
      "Raw Noise 3 Energy: 96.28542547581412\n",
      "\n",
      "\n",
      "Quantized Hstack 4 Energy: 20.46\n",
      "Quantized Noise 4 Energy: 17.43\n",
      "Raw Hstack 4 Energy: 105.22341638046102\n",
      "Raw Noise 4 Energy: 104.74841051334033\n",
      "\n",
      "\n",
      "Quantized Hstack 5 Energy: 33.75\n",
      "Quantized Noise 5 Energy: 28.61\n",
      "Raw Hstack 5 Energy: 105.41780584702543\n",
      "Raw Noise 5 Energy: 102.71186883405308\n",
      "\n",
      "\n"
     ]
    }
   ],
   "source": [
    "#Seems like the haystack is being created correctly\n",
    "#Let's check the energy outputted by the 5 sigals at this db\n",
    "for i in np.arange(1,6):\n",
    "    quantized_hstack = np.load(str(i) + \"_-20.0db_quantized_haystack.npy\")\n",
    "    quantized_noise = np.load(str(i) + \"_-20.0db_quantized_noise.npy\")\n",
    "    print(\"Quantized Hstack \" + str(i) + \" Energy:\", np.mean(np.power(quantized_hstack,2)))\n",
    "    print(\"Quantized Noise \" + str(i) + \" Energy:\", np.mean(np.power(quantized_noise,2)))\n",
    "\n",
    "    raw_hstack = np.load(str(i) + \"_-20.0db_raw_haystack.npy\")\n",
    "    raw_noise = np.load(str(i) + \"_-20.0db_raw_noise.npy\")\n",
    "    print(\"Raw Hstack \" + str(i) + \" Energy:\", np.mean(np.power(raw_hstack,2)))\n",
    "    print(\"Raw Noise \" + str(i) + \" Energy:\", np.mean(np.power(raw_noise,2)))\n",
    "    \n",
    "    print('\\n')"
   ]
  },
  {
   "cell_type": "markdown",
   "metadata": {},
   "source": [
    "*Thoughts: Seems like keeping a fixed noise power and increasing amplitude to increase SNR isn't working. As amplitude increases it tends to cancel out noise, resulting in lower energy in haystack than in noise itself. Maybe we should try fixing sine and varying noise? Will that make a differnece?*\n",
    "\n",
    "*Also, using raw files to calculate energy usually results in higher energy for haystack than noise*"
   ]
  },
  {
   "cell_type": "code",
   "execution_count": null,
   "metadata": {},
   "outputs": [],
   "source": []
  }
 ],
 "metadata": {
  "kernelspec": {
   "display_name": "Python 3",
   "language": "python",
   "name": "python3"
  },
  "language_info": {
   "codemirror_mode": {
    "name": "ipython",
    "version": 3
   },
   "file_extension": ".py",
   "mimetype": "text/x-python",
   "name": "python",
   "nbconvert_exporter": "python",
   "pygments_lexer": "ipython3",
   "version": "3.6.1"
  }
 },
 "nbformat": 4,
 "nbformat_minor": 2
}
